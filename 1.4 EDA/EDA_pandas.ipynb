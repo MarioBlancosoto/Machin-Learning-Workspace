{
 "nbformat": 4,
 "nbformat_minor": 0,
 "metadata": {
  "kernelspec": {
   "name": "python3",
   "language": "python",
   "display_name": "Python 3"
  },
  "language_info": {
   "codemirror_mode": {
    "name": "ipython",
    "version": 3
   },
   "file_extension": ".py",
   "mimetype": "text/x-python",
   "name": "python",
   "nbconvert_exporter": "python",
   "pygments_lexer": "ipython3",
   "version": "3.7.3"
  },
  "colab": {
   "provenance": [],
   "collapsed_sections": [
    "CPJeiOCidP8q",
    "Z3bzCxYBdP8y",
    "Od6Un85cdP8z",
    "lzl3npEedP8z",
    "mLDQmcfHdP81",
    "SejOoGSCdP81",
    "6GUWW50_dP81",
    "weAQ-PTtdP82",
    "NMV7lSNtdP83",
    "MmKvORC-dP83",
    "WgMJJDhxdP83",
    "fQlHzhctdP84",
    "iwVJuJOjdP84",
    "WwjVrEJAdP84",
    "NqBXZvqWdP88",
    "8ItE4HQLdP88",
    "1LopEa0MdP88",
    "NKtLTl__dP8-",
    "FiXPKEOEdP8_"
   ]
  }
 },
 "cells": [
  {
   "cell_type": "markdown",
   "metadata": {
    "id": "VJkolXWLdP8i"
   },
   "source": [
    "# Exploratory Data Analysis (EDA & Visual EDA) con Pandas\n",
    "#### UD1. Introducción al Machine Learning\n",
    "#### MP. Sistemas de Aprendizaxe Automático\n",
    "#### IES de Teis (Vigo), Cristina Gómez Alonso"
   ]
  },
  {
   "cell_type": "markdown",
   "metadata": {
    "collapsed": true,
    "id": "b1FJ36nZdP8m"
   },
   "source": [
    "En este segundo notebook analizaremos las funciones básicas de Pandas para explorar y analizar datos, así como la creación de gráficos básicos con Matplotlib."
   ]
  },
  {
   "cell_type": "markdown",
   "metadata": {
    "id": "oQsSRvwldP8n"
   },
   "source": [
    "### *Ejercicio 0*\n",
    "\n",
    "Carga en un dataframe el fichero housing.csv. Si consultas la web de [kaggle](https://www.kaggle.com/camnugent/california-housing-prices) entenderás su contenido."
   ]
  },
  {
   "cell_type": "code",
   "execution_count": 1,
   "outputs": [],
   "source": [],
   "metadata": {
    "collapsed": false
   }
  },
  {
   "cell_type": "code",
   "metadata": {
    "id": "arfdSXQNdP8o",
    "outputId": "b6acb691-fdec-490c-9f94-8b16e8ea66c4"
   },
   "source": [
    "import pandas as pd\n",
    "\n",
    "viviendas = pd.read_csv('data/housing.csv')\n",
    "viviendas.head(10)"
   ],
   "execution_count": 2,
   "outputs": [
    {
     "data": {
      "text/plain": "   longitude  latitude  housing_median_age  total_rooms  total_bedrooms  \\\n0    -122.23     37.88                  41          880           129.0   \n1    -122.22     37.86                  21         7099          1106.0   \n2    -122.24     37.85                  52         1467           190.0   \n3    -122.25     37.85                  52         1274           235.0   \n4    -122.25     37.85                  52         1627           280.0   \n5    -122.25     37.85                  52          919           213.0   \n6    -122.25     37.84                  52         2535           489.0   \n7    -122.25     37.84                  52         3104           687.0   \n8    -122.26     37.84                  42         2555           665.0   \n9    -122.25     37.84                  52         3549           707.0   \n\n   population  households  median_income ocean_proximity  median_house_value  \n0         322         126         8.3252        NEAR BAY              452600  \n1        2401        1138         8.3014        NEAR BAY              358500  \n2         496         177         7.2574        NEAR BAY              352100  \n3         558         219         5.6431        NEAR BAY              341300  \n4         565         259         3.8462        NEAR BAY              342200  \n5         413         193         4.0368        NEAR BAY              269700  \n6        1094         514         3.6591        NEAR BAY              299200  \n7        1157         647         3.1200        NEAR BAY              241400  \n8        1206         595         2.0804        NEAR BAY              226700  \n9        1551         714         3.6912        NEAR BAY              261100  ",
      "text/html": "<div>\n<style scoped>\n    .dataframe tbody tr th:only-of-type {\n        vertical-align: middle;\n    }\n\n    .dataframe tbody tr th {\n        vertical-align: top;\n    }\n\n    .dataframe thead th {\n        text-align: right;\n    }\n</style>\n<table border=\"1\" class=\"dataframe\">\n  <thead>\n    <tr style=\"text-align: right;\">\n      <th></th>\n      <th>longitude</th>\n      <th>latitude</th>\n      <th>housing_median_age</th>\n      <th>total_rooms</th>\n      <th>total_bedrooms</th>\n      <th>population</th>\n      <th>households</th>\n      <th>median_income</th>\n      <th>ocean_proximity</th>\n      <th>median_house_value</th>\n    </tr>\n  </thead>\n  <tbody>\n    <tr>\n      <th>0</th>\n      <td>-122.23</td>\n      <td>37.88</td>\n      <td>41</td>\n      <td>880</td>\n      <td>129.0</td>\n      <td>322</td>\n      <td>126</td>\n      <td>8.3252</td>\n      <td>NEAR BAY</td>\n      <td>452600</td>\n    </tr>\n    <tr>\n      <th>1</th>\n      <td>-122.22</td>\n      <td>37.86</td>\n      <td>21</td>\n      <td>7099</td>\n      <td>1106.0</td>\n      <td>2401</td>\n      <td>1138</td>\n      <td>8.3014</td>\n      <td>NEAR BAY</td>\n      <td>358500</td>\n    </tr>\n    <tr>\n      <th>2</th>\n      <td>-122.24</td>\n      <td>37.85</td>\n      <td>52</td>\n      <td>1467</td>\n      <td>190.0</td>\n      <td>496</td>\n      <td>177</td>\n      <td>7.2574</td>\n      <td>NEAR BAY</td>\n      <td>352100</td>\n    </tr>\n    <tr>\n      <th>3</th>\n      <td>-122.25</td>\n      <td>37.85</td>\n      <td>52</td>\n      <td>1274</td>\n      <td>235.0</td>\n      <td>558</td>\n      <td>219</td>\n      <td>5.6431</td>\n      <td>NEAR BAY</td>\n      <td>341300</td>\n    </tr>\n    <tr>\n      <th>4</th>\n      <td>-122.25</td>\n      <td>37.85</td>\n      <td>52</td>\n      <td>1627</td>\n      <td>280.0</td>\n      <td>565</td>\n      <td>259</td>\n      <td>3.8462</td>\n      <td>NEAR BAY</td>\n      <td>342200</td>\n    </tr>\n    <tr>\n      <th>5</th>\n      <td>-122.25</td>\n      <td>37.85</td>\n      <td>52</td>\n      <td>919</td>\n      <td>213.0</td>\n      <td>413</td>\n      <td>193</td>\n      <td>4.0368</td>\n      <td>NEAR BAY</td>\n      <td>269700</td>\n    </tr>\n    <tr>\n      <th>6</th>\n      <td>-122.25</td>\n      <td>37.84</td>\n      <td>52</td>\n      <td>2535</td>\n      <td>489.0</td>\n      <td>1094</td>\n      <td>514</td>\n      <td>3.6591</td>\n      <td>NEAR BAY</td>\n      <td>299200</td>\n    </tr>\n    <tr>\n      <th>7</th>\n      <td>-122.25</td>\n      <td>37.84</td>\n      <td>52</td>\n      <td>3104</td>\n      <td>687.0</td>\n      <td>1157</td>\n      <td>647</td>\n      <td>3.1200</td>\n      <td>NEAR BAY</td>\n      <td>241400</td>\n    </tr>\n    <tr>\n      <th>8</th>\n      <td>-122.26</td>\n      <td>37.84</td>\n      <td>42</td>\n      <td>2555</td>\n      <td>665.0</td>\n      <td>1206</td>\n      <td>595</td>\n      <td>2.0804</td>\n      <td>NEAR BAY</td>\n      <td>226700</td>\n    </tr>\n    <tr>\n      <th>9</th>\n      <td>-122.25</td>\n      <td>37.84</td>\n      <td>52</td>\n      <td>3549</td>\n      <td>707.0</td>\n      <td>1551</td>\n      <td>714</td>\n      <td>3.6912</td>\n      <td>NEAR BAY</td>\n      <td>261100</td>\n    </tr>\n  </tbody>\n</table>\n</div>"
     },
     "execution_count": 2,
     "metadata": {},
     "output_type": "execute_result"
    }
   ]
  },
  {
   "cell_type": "markdown",
   "metadata": {
    "id": "CPJeiOCidP8q"
   },
   "source": [
    "## 1. Estructura básica e inspección\n",
    "\n",
    "Las tablas en `pandas` son objetos de la clase `DataFrames`. Un `DataFrame` consta de dos partes: un índice y los datos propiamente dichos. Las columnas de los datos son de la clase `Series`."
   ]
  },
  {
   "cell_type": "markdown",
   "metadata": {
    "id": "f3vqtjuAdP8q"
   },
   "source": [
    "Para consultar las columnas de un `DataFrame`, accedemos a la propiedad `columns`."
   ]
  },
  {
   "cell_type": "code",
   "metadata": {
    "id": "Usd1tweidP8r",
    "outputId": "910c3ba9-fa5d-4feb-b076-4b4809913ac0"
   },
   "source": [
    "viviendas.columns"
   ],
   "execution_count": 3,
   "outputs": [
    {
     "data": {
      "text/plain": "Index(['longitude', 'latitude', 'housing_median_age', 'total_rooms',\n       'total_bedrooms', 'population', 'households', 'median_income',\n       'ocean_proximity', 'median_house_value'],\n      dtype='object')"
     },
     "execution_count": 3,
     "metadata": {},
     "output_type": "execute_result"
    }
   ]
  },
  {
   "cell_type": "markdown",
   "metadata": {
    "id": "BKlOz_7IdP8r"
   },
   "source": [
    "Si además queremos saber el tipo del dato, accedemos a la propiedad `dtypes`.\n",
    "\n",
    "*Nota*: las cadenas de texto se marcan como `object` dentro de un DataFrame"
   ]
  },
  {
   "cell_type": "code",
   "metadata": {
    "id": "iosq59EudP8s",
    "outputId": "2aceb39d-049f-4ca9-90c3-c8a8a6203611"
   },
   "source": [
    "viviendas.dtypes"
   ],
   "execution_count": 4,
   "outputs": [
    {
     "data": {
      "text/plain": "longitude             float64\nlatitude              float64\nhousing_median_age      int64\ntotal_rooms             int64\ntotal_bedrooms        float64\npopulation              int64\nhouseholds              int64\nmedian_income         float64\nocean_proximity        object\nmedian_house_value      int64\ndtype: object"
     },
     "execution_count": 4,
     "metadata": {},
     "output_type": "execute_result"
    }
   ]
  },
  {
   "cell_type": "markdown",
   "metadata": {
    "id": "uja6yWG8dP8t"
   },
   "source": [
    "Cada `DataFrame` tiene un índice. Si no lo hemos especificado, será un incremental sin relación con nuestros datos. El uso de índices está recomendado cuando tratamos con datos grandes, ya que permite acceder a las filas por _hash_ en lugar de tener que iterar por todas ellas para encontrar el valor que se busca. Los índices también son importantes a la hora de realizar agregaciones y cruces entre tablas.\n",
    "\n",
    "Para consultar cuál es el índice de un DataFrame, accedemos a la propiedad `index`."
   ]
  },
  {
   "cell_type": "code",
   "metadata": {
    "id": "P7tshDfWdP8u",
    "outputId": "3fc7a5c3-0aa2-4026-8596-9970683d3a57"
   },
   "source": [
    "viviendas.index"
   ],
   "execution_count": 5,
   "outputs": [
    {
     "data": {
      "text/plain": "RangeIndex(start=0, stop=20640, step=1)"
     },
     "execution_count": 5,
     "metadata": {},
     "output_type": "execute_result"
    }
   ]
  },
  {
   "cell_type": "markdown",
   "metadata": {
    "id": "YCRXOLpkdP8u"
   },
   "source": [
    "Podemos alterarlo con `set_index`. El nuevo índice puede ser una o varias columnas."
   ]
  },
  {
   "cell_type": "code",
   "metadata": {
    "id": "SOA-VBkZdP8u",
    "outputId": "2eac2f6b-0bcc-4e37-a4f3-c5cfe3bc7f57"
   },
   "source": [
    "viviendas_nuevo_indice = viviendas.set_index(['ocean_proximity', 'households'])\n",
    "viviendas_nuevo_indice.head()\n",
    "viviendas_nuevo_indice.index"
   ],
   "execution_count": 6,
   "outputs": [
    {
     "data": {
      "text/plain": "MultiIndex([('NEAR BAY',  126),\n            ('NEAR BAY', 1138),\n            ('NEAR BAY',  177),\n            ('NEAR BAY',  219),\n            ('NEAR BAY',  259),\n            ('NEAR BAY',  193),\n            ('NEAR BAY',  514),\n            ('NEAR BAY',  647),\n            ('NEAR BAY',  595),\n            ('NEAR BAY',  714),\n            ...\n            (  'INLAND',  445),\n            (  'INLAND',  432),\n            (  'INLAND',  385),\n            (  'INLAND',  382),\n            (  'INLAND',  344),\n            (  'INLAND',  330),\n            (  'INLAND',  114),\n            (  'INLAND',  433),\n            (  'INLAND',  349),\n            (  'INLAND',  530)],\n           names=['ocean_proximity', 'households'], length=20640)"
     },
     "execution_count": 6,
     "metadata": {},
     "output_type": "execute_result"
    }
   ]
  },
  {
   "cell_type": "markdown",
   "metadata": {
    "id": "NEKIZ92gdP8v"
   },
   "source": [
    "Una forma rápida de echar un vistazo a los datos es consultas las primeras o últimas filas del DataFrame, con las funciones `head` y `tail`."
   ]
  },
  {
   "cell_type": "code",
   "metadata": {
    "id": "sOSkdxC8dP8v",
    "outputId": "f4fecc90-816e-4d1b-ceaf-7f1098c25c81"
   },
   "source": [
    "viviendas.head()"
   ],
   "execution_count": 7,
   "outputs": [
    {
     "data": {
      "text/plain": "   longitude  latitude  housing_median_age  total_rooms  total_bedrooms  \\\n0    -122.23     37.88                  41          880           129.0   \n1    -122.22     37.86                  21         7099          1106.0   \n2    -122.24     37.85                  52         1467           190.0   \n3    -122.25     37.85                  52         1274           235.0   \n4    -122.25     37.85                  52         1627           280.0   \n\n   population  households  median_income ocean_proximity  median_house_value  \n0         322         126         8.3252        NEAR BAY              452600  \n1        2401        1138         8.3014        NEAR BAY              358500  \n2         496         177         7.2574        NEAR BAY              352100  \n3         558         219         5.6431        NEAR BAY              341300  \n4         565         259         3.8462        NEAR BAY              342200  ",
      "text/html": "<div>\n<style scoped>\n    .dataframe tbody tr th:only-of-type {\n        vertical-align: middle;\n    }\n\n    .dataframe tbody tr th {\n        vertical-align: top;\n    }\n\n    .dataframe thead th {\n        text-align: right;\n    }\n</style>\n<table border=\"1\" class=\"dataframe\">\n  <thead>\n    <tr style=\"text-align: right;\">\n      <th></th>\n      <th>longitude</th>\n      <th>latitude</th>\n      <th>housing_median_age</th>\n      <th>total_rooms</th>\n      <th>total_bedrooms</th>\n      <th>population</th>\n      <th>households</th>\n      <th>median_income</th>\n      <th>ocean_proximity</th>\n      <th>median_house_value</th>\n    </tr>\n  </thead>\n  <tbody>\n    <tr>\n      <th>0</th>\n      <td>-122.23</td>\n      <td>37.88</td>\n      <td>41</td>\n      <td>880</td>\n      <td>129.0</td>\n      <td>322</td>\n      <td>126</td>\n      <td>8.3252</td>\n      <td>NEAR BAY</td>\n      <td>452600</td>\n    </tr>\n    <tr>\n      <th>1</th>\n      <td>-122.22</td>\n      <td>37.86</td>\n      <td>21</td>\n      <td>7099</td>\n      <td>1106.0</td>\n      <td>2401</td>\n      <td>1138</td>\n      <td>8.3014</td>\n      <td>NEAR BAY</td>\n      <td>358500</td>\n    </tr>\n    <tr>\n      <th>2</th>\n      <td>-122.24</td>\n      <td>37.85</td>\n      <td>52</td>\n      <td>1467</td>\n      <td>190.0</td>\n      <td>496</td>\n      <td>177</td>\n      <td>7.2574</td>\n      <td>NEAR BAY</td>\n      <td>352100</td>\n    </tr>\n    <tr>\n      <th>3</th>\n      <td>-122.25</td>\n      <td>37.85</td>\n      <td>52</td>\n      <td>1274</td>\n      <td>235.0</td>\n      <td>558</td>\n      <td>219</td>\n      <td>5.6431</td>\n      <td>NEAR BAY</td>\n      <td>341300</td>\n    </tr>\n    <tr>\n      <th>4</th>\n      <td>-122.25</td>\n      <td>37.85</td>\n      <td>52</td>\n      <td>1627</td>\n      <td>280.0</td>\n      <td>565</td>\n      <td>259</td>\n      <td>3.8462</td>\n      <td>NEAR BAY</td>\n      <td>342200</td>\n    </tr>\n  </tbody>\n</table>\n</div>"
     },
     "execution_count": 7,
     "metadata": {},
     "output_type": "execute_result"
    }
   ]
  },
  {
   "cell_type": "code",
   "metadata": {
    "id": "VwHY2zFJdP8v",
    "outputId": "fd3992cb-8cf5-4f44-d871-f7cd1426440b"
   },
   "source": [
    "viviendas.tail()"
   ],
   "execution_count": 8,
   "outputs": [
    {
     "data": {
      "text/plain": "       longitude  latitude  housing_median_age  total_rooms  total_bedrooms  \\\n20635    -121.09     39.48                  25         1665           374.0   \n20636    -121.21     39.49                  18          697           150.0   \n20637    -121.22     39.43                  17         2254           485.0   \n20638    -121.32     39.43                  18         1860           409.0   \n20639    -121.24     39.37                  16         2785           616.0   \n\n       population  households  median_income ocean_proximity  \\\n20635         845         330         1.5603          INLAND   \n20636         356         114         2.5568          INLAND   \n20637        1007         433         1.7000          INLAND   \n20638         741         349         1.8672          INLAND   \n20639        1387         530         2.3886          INLAND   \n\n       median_house_value  \n20635               78100  \n20636               77100  \n20637               92300  \n20638               84700  \n20639               89400  ",
      "text/html": "<div>\n<style scoped>\n    .dataframe tbody tr th:only-of-type {\n        vertical-align: middle;\n    }\n\n    .dataframe tbody tr th {\n        vertical-align: top;\n    }\n\n    .dataframe thead th {\n        text-align: right;\n    }\n</style>\n<table border=\"1\" class=\"dataframe\">\n  <thead>\n    <tr style=\"text-align: right;\">\n      <th></th>\n      <th>longitude</th>\n      <th>latitude</th>\n      <th>housing_median_age</th>\n      <th>total_rooms</th>\n      <th>total_bedrooms</th>\n      <th>population</th>\n      <th>households</th>\n      <th>median_income</th>\n      <th>ocean_proximity</th>\n      <th>median_house_value</th>\n    </tr>\n  </thead>\n  <tbody>\n    <tr>\n      <th>20635</th>\n      <td>-121.09</td>\n      <td>39.48</td>\n      <td>25</td>\n      <td>1665</td>\n      <td>374.0</td>\n      <td>845</td>\n      <td>330</td>\n      <td>1.5603</td>\n      <td>INLAND</td>\n      <td>78100</td>\n    </tr>\n    <tr>\n      <th>20636</th>\n      <td>-121.21</td>\n      <td>39.49</td>\n      <td>18</td>\n      <td>697</td>\n      <td>150.0</td>\n      <td>356</td>\n      <td>114</td>\n      <td>2.5568</td>\n      <td>INLAND</td>\n      <td>77100</td>\n    </tr>\n    <tr>\n      <th>20637</th>\n      <td>-121.22</td>\n      <td>39.43</td>\n      <td>17</td>\n      <td>2254</td>\n      <td>485.0</td>\n      <td>1007</td>\n      <td>433</td>\n      <td>1.7000</td>\n      <td>INLAND</td>\n      <td>92300</td>\n    </tr>\n    <tr>\n      <th>20638</th>\n      <td>-121.32</td>\n      <td>39.43</td>\n      <td>18</td>\n      <td>1860</td>\n      <td>409.0</td>\n      <td>741</td>\n      <td>349</td>\n      <td>1.8672</td>\n      <td>INLAND</td>\n      <td>84700</td>\n    </tr>\n    <tr>\n      <th>20639</th>\n      <td>-121.24</td>\n      <td>39.37</td>\n      <td>16</td>\n      <td>2785</td>\n      <td>616.0</td>\n      <td>1387</td>\n      <td>530</td>\n      <td>2.3886</td>\n      <td>INLAND</td>\n      <td>89400</td>\n    </tr>\n  </tbody>\n</table>\n</div>"
     },
     "execution_count": 8,
     "metadata": {},
     "output_type": "execute_result"
    }
   ]
  },
  {
   "cell_type": "markdown",
   "metadata": {
    "id": "ROJUwiw-dP8w"
   },
   "source": [
    "Podemos seleccionar un listado de columnas a devolver de la siguiente forma:"
   ]
  },
  {
   "cell_type": "code",
   "metadata": {
    "id": "gnyNIvFudP8w",
    "outputId": "3f2ba8a0-2097-4dad-9cf1-1b5d0a947bd0"
   },
   "source": [
    "viviendas[['housing_median_age', 'population']].head()"
   ],
   "execution_count": 9,
   "outputs": [
    {
     "data": {
      "text/plain": "   housing_median_age  population\n0                  41         322\n1                  21        2401\n2                  52         496\n3                  52         558\n4                  52         565",
      "text/html": "<div>\n<style scoped>\n    .dataframe tbody tr th:only-of-type {\n        vertical-align: middle;\n    }\n\n    .dataframe tbody tr th {\n        vertical-align: top;\n    }\n\n    .dataframe thead th {\n        text-align: right;\n    }\n</style>\n<table border=\"1\" class=\"dataframe\">\n  <thead>\n    <tr style=\"text-align: right;\">\n      <th></th>\n      <th>housing_median_age</th>\n      <th>population</th>\n    </tr>\n  </thead>\n  <tbody>\n    <tr>\n      <th>0</th>\n      <td>41</td>\n      <td>322</td>\n    </tr>\n    <tr>\n      <th>1</th>\n      <td>21</td>\n      <td>2401</td>\n    </tr>\n    <tr>\n      <th>2</th>\n      <td>52</td>\n      <td>496</td>\n    </tr>\n    <tr>\n      <th>3</th>\n      <td>52</td>\n      <td>558</td>\n    </tr>\n    <tr>\n      <th>4</th>\n      <td>52</td>\n      <td>565</td>\n    </tr>\n  </tbody>\n</table>\n</div>"
     },
     "execution_count": 9,
     "metadata": {},
     "output_type": "execute_result"
    }
   ]
  },
  {
   "cell_type": "markdown",
   "metadata": {
    "id": "3NiwCZjtdP8w"
   },
   "source": [
    "Para conocer el número de filas de una tabla hay varias opciones:"
   ]
  },
  {
   "cell_type": "code",
   "metadata": {
    "id": "hQVwGAfEdP8x",
    "outputId": "f21308bc-c1ab-493d-e484-52aba2ead46d"
   },
   "source": [
    "len(viviendas)"
   ],
   "execution_count": 10,
   "outputs": [
    {
     "data": {
      "text/plain": "20640"
     },
     "execution_count": 10,
     "metadata": {},
     "output_type": "execute_result"
    }
   ]
  },
  {
   "cell_type": "code",
   "metadata": {
    "id": "DWfNvlI0dP8x",
    "outputId": "b6140c9f-469a-4a04-c30c-6e23504e9a1b"
   },
   "source": [
    "viviendas.shape"
   ],
   "execution_count": 11,
   "outputs": [
    {
     "data": {
      "text/plain": "(20640, 10)"
     },
     "execution_count": 11,
     "metadata": {},
     "output_type": "execute_result"
    }
   ]
  },
  {
   "cell_type": "markdown",
   "metadata": {
    "id": "dKcxXhDGdP8y"
   },
   "source": [
    "##### Nota\n",
    "\n",
    "El índice no forma parte propiamente de los datos:"
   ]
  },
  {
   "cell_type": "code",
   "metadata": {
    "id": "2fDY6weJdP8y",
    "outputId": "598d7055-dedb-4fc6-c03d-d5e777b1c51c"
   },
   "source": [
    "viviendas_nuevo_indice.shape"
   ],
   "execution_count": 12,
   "outputs": [
    {
     "data": {
      "text/plain": "(20640, 8)"
     },
     "execution_count": 12,
     "metadata": {},
     "output_type": "execute_result"
    }
   ]
  },
  {
   "cell_type": "markdown",
   "metadata": {
    "id": "Z3bzCxYBdP8y"
   },
   "source": [
    "### *Ejercicio 1*\n",
    "\n",
    "* Carga en un dataframe el csv `data/alquiler-madrid-municipios.csv` en una variable que se llame `alquiler`\n",
    "* Examina las primeras y últimas filas\n",
    "* Extrae el número de filas y columnas"
   ]
  },
  {
   "cell_type": "code",
   "metadata": {
    "id": "gvaOC1xldP8z"
   },
   "source": [
    "alquiler = pd.read_csv('data/alquiler-madrid-municipios.csv')"
   ],
   "execution_count": 13,
   "outputs": []
  },
  {
   "cell_type": "code",
   "execution_count": 14,
   "outputs": [
    {
     "name": "stdout",
     "output_type": "stream",
     "text": [
      "<class 'pandas.core.frame.DataFrame'>\n",
      "RangeIndex: 1190 entries, 0 to 1189\n",
      "Data columns (total 4 columns):\n",
      " #   Column     Non-Null Count  Dtype  \n",
      "---  ------     --------------  -----  \n",
      " 0   municipio  1190 non-null   object \n",
      " 1   ano        1190 non-null   int64  \n",
      " 2   quarter    1190 non-null   int64  \n",
      " 3   precio     1082 non-null   float64\n",
      "dtypes: float64(1), int64(2), object(1)\n",
      "memory usage: 37.3+ KB\n"
     ]
    }
   ],
   "source": [
    "alquiler.info()"
   ],
   "metadata": {
    "collapsed": false
   }
  },
  {
   "cell_type": "code",
   "execution_count": 15,
   "outputs": [
    {
     "data": {
      "text/plain": "                    municipio   ano  quarter     precio\n1185             Torrelodones  2018        2  10.553534\n1186              Tres Cantos  2018        2  10.781348\n1187                Valdemoro  2018        2   7.812653\n1188  Villanueva De La Cañada  2018        2  11.632276\n1189     Villaviciosa De Odón  2018        2  14.050801",
      "text/html": "<div>\n<style scoped>\n    .dataframe tbody tr th:only-of-type {\n        vertical-align: middle;\n    }\n\n    .dataframe tbody tr th {\n        vertical-align: top;\n    }\n\n    .dataframe thead th {\n        text-align: right;\n    }\n</style>\n<table border=\"1\" class=\"dataframe\">\n  <thead>\n    <tr style=\"text-align: right;\">\n      <th></th>\n      <th>municipio</th>\n      <th>ano</th>\n      <th>quarter</th>\n      <th>precio</th>\n    </tr>\n  </thead>\n  <tbody>\n    <tr>\n      <th>1185</th>\n      <td>Torrelodones</td>\n      <td>2018</td>\n      <td>2</td>\n      <td>10.553534</td>\n    </tr>\n    <tr>\n      <th>1186</th>\n      <td>Tres Cantos</td>\n      <td>2018</td>\n      <td>2</td>\n      <td>10.781348</td>\n    </tr>\n    <tr>\n      <th>1187</th>\n      <td>Valdemoro</td>\n      <td>2018</td>\n      <td>2</td>\n      <td>7.812653</td>\n    </tr>\n    <tr>\n      <th>1188</th>\n      <td>Villanueva De La Cañada</td>\n      <td>2018</td>\n      <td>2</td>\n      <td>11.632276</td>\n    </tr>\n    <tr>\n      <th>1189</th>\n      <td>Villaviciosa De Odón</td>\n      <td>2018</td>\n      <td>2</td>\n      <td>14.050801</td>\n    </tr>\n  </tbody>\n</table>\n</div>"
     },
     "execution_count": 15,
     "metadata": {},
     "output_type": "execute_result"
    }
   ],
   "source": [
    "alquiler.tail()"
   ],
   "metadata": {
    "collapsed": false
   }
  },
  {
   "cell_type": "code",
   "execution_count": 16,
   "outputs": [
    {
     "data": {
      "text/plain": "(1190, 4)"
     },
     "execution_count": 16,
     "metadata": {},
     "output_type": "execute_result"
    }
   ],
   "source": [
    "alquiler.shape"
   ],
   "metadata": {
    "collapsed": false
   }
  },
  {
   "cell_type": "markdown",
   "metadata": {
    "id": "Od6Un85cdP8z"
   },
   "source": [
    "## 2. Filtro y selección"
   ]
  },
  {
   "cell_type": "markdown",
   "metadata": {
    "id": "lzl3npEedP8z"
   },
   "source": [
    "Hay tres operadores fundamentales para seleccionar filas y columnas: `loc`, `iloc` y `[]`. La diferencia fundamental entre `loc` e `iloc` es que el primero requiere _etiquetas_ y el segundo, índices numéricos (la `i` inicial viene de `integer`).\n",
    "\n",
    "\n",
    "### 2.1. Selección por índices numéricos\n",
    "\n",
    "Para acceder por posición usando índices numéricos, se usa `iloc[]`, como en los siguientes ejemplos:"
   ]
  },
  {
   "cell_type": "code",
   "metadata": {
    "id": "GFALNIHadP8z",
    "outputId": "d2f3f9b6-3403-473e-8cab-0e30b1e2a134"
   },
   "source": [
    "# por defecto, seleccionamos filas\n",
    "viviendas_nuevo_indice.iloc[200]"
   ],
   "execution_count": 17,
   "outputs": [
    {
     "data": {
      "text/plain": "longitude              -122.2300\nlatitude                 37.7800\nhousing_median_age       52.0000\ntotal_rooms             862.0000\ntotal_bedrooms          215.0000\npopulation              994.0000\nmedian_income             3.0257\nmedian_house_value    80800.0000\nName: (NEAR BAY, 213), dtype: float64"
     },
     "execution_count": 17,
     "metadata": {},
     "output_type": "execute_result"
    }
   ]
  },
  {
   "cell_type": "code",
   "metadata": {
    "id": "5Fm85BuzdP80",
    "outputId": "29070ec5-4a65-4023-b26e-a1687e246d16"
   },
   "source": [
    "# pero también se pueden seleccionar filas y columnas\n",
    "# además, usando rangos\n",
    "viviendas.iloc[3:5, 1:]"
   ],
   "execution_count": 18,
   "outputs": [
    {
     "data": {
      "text/plain": "   latitude  housing_median_age  total_rooms  total_bedrooms  population  \\\n3     37.85                  52         1274           235.0         558   \n4     37.85                  52         1627           280.0         565   \n\n   households  median_income ocean_proximity  median_house_value  \n3         219         5.6431        NEAR BAY              341300  \n4         259         3.8462        NEAR BAY              342200  ",
      "text/html": "<div>\n<style scoped>\n    .dataframe tbody tr th:only-of-type {\n        vertical-align: middle;\n    }\n\n    .dataframe tbody tr th {\n        vertical-align: top;\n    }\n\n    .dataframe thead th {\n        text-align: right;\n    }\n</style>\n<table border=\"1\" class=\"dataframe\">\n  <thead>\n    <tr style=\"text-align: right;\">\n      <th></th>\n      <th>latitude</th>\n      <th>housing_median_age</th>\n      <th>total_rooms</th>\n      <th>total_bedrooms</th>\n      <th>population</th>\n      <th>households</th>\n      <th>median_income</th>\n      <th>ocean_proximity</th>\n      <th>median_house_value</th>\n    </tr>\n  </thead>\n  <tbody>\n    <tr>\n      <th>3</th>\n      <td>37.85</td>\n      <td>52</td>\n      <td>1274</td>\n      <td>235.0</td>\n      <td>558</td>\n      <td>219</td>\n      <td>5.6431</td>\n      <td>NEAR BAY</td>\n      <td>341300</td>\n    </tr>\n    <tr>\n      <th>4</th>\n      <td>37.85</td>\n      <td>52</td>\n      <td>1627</td>\n      <td>280.0</td>\n      <td>565</td>\n      <td>259</td>\n      <td>3.8462</td>\n      <td>NEAR BAY</td>\n      <td>342200</td>\n    </tr>\n  </tbody>\n</table>\n</div>"
     },
     "execution_count": 18,
     "metadata": {},
     "output_type": "execute_result"
    }
   ]
  },
  {
   "cell_type": "code",
   "metadata": {
    "id": "akOumN8qdP80",
    "outputId": "a0b9055e-6012-4200-f68f-47cca321ff16"
   },
   "source": [
    "# índices no consecutivos\n",
    "# recuerda: en python, se empieza a contar en 0\n",
    "viviendas.iloc[[1, 2, 4], [0, 3]]"
   ],
   "execution_count": 19,
   "outputs": [
    {
     "data": {
      "text/plain": "   longitude  total_rooms\n1    -122.22         7099\n2    -122.24         1467\n4    -122.25         1627",
      "text/html": "<div>\n<style scoped>\n    .dataframe tbody tr th:only-of-type {\n        vertical-align: middle;\n    }\n\n    .dataframe tbody tr th {\n        vertical-align: top;\n    }\n\n    .dataframe thead th {\n        text-align: right;\n    }\n</style>\n<table border=\"1\" class=\"dataframe\">\n  <thead>\n    <tr style=\"text-align: right;\">\n      <th></th>\n      <th>longitude</th>\n      <th>total_rooms</th>\n    </tr>\n  </thead>\n  <tbody>\n    <tr>\n      <th>1</th>\n      <td>-122.22</td>\n      <td>7099</td>\n    </tr>\n    <tr>\n      <th>2</th>\n      <td>-122.24</td>\n      <td>1467</td>\n    </tr>\n    <tr>\n      <th>4</th>\n      <td>-122.25</td>\n      <td>1627</td>\n    </tr>\n  </tbody>\n</table>\n</div>"
     },
     "execution_count": 19,
     "metadata": {},
     "output_type": "execute_result"
    }
   ]
  },
  {
   "cell_type": "code",
   "metadata": {
    "id": "SHK54iMydP80",
    "outputId": "f92ccbda-96f8-42d9-fe4a-62f2ee40db49"
   },
   "source": [
    "# los índices negativos indican que se empieza a contar desde el final\n",
    "viviendas.iloc[-3:-1]"
   ],
   "execution_count": 20,
   "outputs": [
    {
     "data": {
      "text/plain": "       longitude  latitude  housing_median_age  total_rooms  total_bedrooms  \\\n20637    -121.22     39.43                  17         2254           485.0   \n20638    -121.32     39.43                  18         1860           409.0   \n\n       population  households  median_income ocean_proximity  \\\n20637        1007         433         1.7000          INLAND   \n20638         741         349         1.8672          INLAND   \n\n       median_house_value  \n20637               92300  \n20638               84700  ",
      "text/html": "<div>\n<style scoped>\n    .dataframe tbody tr th:only-of-type {\n        vertical-align: middle;\n    }\n\n    .dataframe tbody tr th {\n        vertical-align: top;\n    }\n\n    .dataframe thead th {\n        text-align: right;\n    }\n</style>\n<table border=\"1\" class=\"dataframe\">\n  <thead>\n    <tr style=\"text-align: right;\">\n      <th></th>\n      <th>longitude</th>\n      <th>latitude</th>\n      <th>housing_median_age</th>\n      <th>total_rooms</th>\n      <th>total_bedrooms</th>\n      <th>population</th>\n      <th>households</th>\n      <th>median_income</th>\n      <th>ocean_proximity</th>\n      <th>median_house_value</th>\n    </tr>\n  </thead>\n  <tbody>\n    <tr>\n      <th>20637</th>\n      <td>-121.22</td>\n      <td>39.43</td>\n      <td>17</td>\n      <td>2254</td>\n      <td>485.0</td>\n      <td>1007</td>\n      <td>433</td>\n      <td>1.7000</td>\n      <td>INLAND</td>\n      <td>92300</td>\n    </tr>\n    <tr>\n      <th>20638</th>\n      <td>-121.32</td>\n      <td>39.43</td>\n      <td>18</td>\n      <td>1860</td>\n      <td>409.0</td>\n      <td>741</td>\n      <td>349</td>\n      <td>1.8672</td>\n      <td>INLAND</td>\n      <td>84700</td>\n    </tr>\n  </tbody>\n</table>\n</div>"
     },
     "execution_count": 20,
     "metadata": {},
     "output_type": "execute_result"
    }
   ]
  },
  {
   "cell_type": "markdown",
   "metadata": {
    "id": "mLDQmcfHdP81"
   },
   "source": [
    "### *Ejercicio 2*\n",
    "\n",
    "* Muestra las primeras 5 filas usando `iloc`\n",
    "* Muestra las últimas 5 filas usando `iloc`"
   ]
  },
  {
   "cell_type": "code",
   "execution_count": 21,
   "outputs": [
    {
     "data": {
      "text/plain": "   longitude  latitude  housing_median_age  total_rooms  total_bedrooms  \\\n0    -122.23     37.88                  41          880           129.0   \n1    -122.22     37.86                  21         7099          1106.0   \n2    -122.24     37.85                  52         1467           190.0   \n3    -122.25     37.85                  52         1274           235.0   \n4    -122.25     37.85                  52         1627           280.0   \n\n   population  households  median_income ocean_proximity  median_house_value  \n0         322         126         8.3252        NEAR BAY              452600  \n1        2401        1138         8.3014        NEAR BAY              358500  \n2         496         177         7.2574        NEAR BAY              352100  \n3         558         219         5.6431        NEAR BAY              341300  \n4         565         259         3.8462        NEAR BAY              342200  ",
      "text/html": "<div>\n<style scoped>\n    .dataframe tbody tr th:only-of-type {\n        vertical-align: middle;\n    }\n\n    .dataframe tbody tr th {\n        vertical-align: top;\n    }\n\n    .dataframe thead th {\n        text-align: right;\n    }\n</style>\n<table border=\"1\" class=\"dataframe\">\n  <thead>\n    <tr style=\"text-align: right;\">\n      <th></th>\n      <th>longitude</th>\n      <th>latitude</th>\n      <th>housing_median_age</th>\n      <th>total_rooms</th>\n      <th>total_bedrooms</th>\n      <th>population</th>\n      <th>households</th>\n      <th>median_income</th>\n      <th>ocean_proximity</th>\n      <th>median_house_value</th>\n    </tr>\n  </thead>\n  <tbody>\n    <tr>\n      <th>0</th>\n      <td>-122.23</td>\n      <td>37.88</td>\n      <td>41</td>\n      <td>880</td>\n      <td>129.0</td>\n      <td>322</td>\n      <td>126</td>\n      <td>8.3252</td>\n      <td>NEAR BAY</td>\n      <td>452600</td>\n    </tr>\n    <tr>\n      <th>1</th>\n      <td>-122.22</td>\n      <td>37.86</td>\n      <td>21</td>\n      <td>7099</td>\n      <td>1106.0</td>\n      <td>2401</td>\n      <td>1138</td>\n      <td>8.3014</td>\n      <td>NEAR BAY</td>\n      <td>358500</td>\n    </tr>\n    <tr>\n      <th>2</th>\n      <td>-122.24</td>\n      <td>37.85</td>\n      <td>52</td>\n      <td>1467</td>\n      <td>190.0</td>\n      <td>496</td>\n      <td>177</td>\n      <td>7.2574</td>\n      <td>NEAR BAY</td>\n      <td>352100</td>\n    </tr>\n    <tr>\n      <th>3</th>\n      <td>-122.25</td>\n      <td>37.85</td>\n      <td>52</td>\n      <td>1274</td>\n      <td>235.0</td>\n      <td>558</td>\n      <td>219</td>\n      <td>5.6431</td>\n      <td>NEAR BAY</td>\n      <td>341300</td>\n    </tr>\n    <tr>\n      <th>4</th>\n      <td>-122.25</td>\n      <td>37.85</td>\n      <td>52</td>\n      <td>1627</td>\n      <td>280.0</td>\n      <td>565</td>\n      <td>259</td>\n      <td>3.8462</td>\n      <td>NEAR BAY</td>\n      <td>342200</td>\n    </tr>\n  </tbody>\n</table>\n</div>"
     },
     "execution_count": 21,
     "metadata": {},
     "output_type": "execute_result"
    }
   ],
   "source": [
    "viviendas.iloc[0:5]"
   ],
   "metadata": {
    "collapsed": false
   }
  },
  {
   "cell_type": "code",
   "execution_count": 22,
   "outputs": [
    {
     "data": {
      "text/plain": "       longitude  latitude  housing_median_age  total_rooms  total_bedrooms  \\\n20634    -121.56     39.27                  28         2332           395.0   \n20635    -121.09     39.48                  25         1665           374.0   \n20636    -121.21     39.49                  18          697           150.0   \n20637    -121.22     39.43                  17         2254           485.0   \n20638    -121.32     39.43                  18         1860           409.0   \n\n       population  households  median_income ocean_proximity  \\\n20634        1041         344         3.7125          INLAND   \n20635         845         330         1.5603          INLAND   \n20636         356         114         2.5568          INLAND   \n20637        1007         433         1.7000          INLAND   \n20638         741         349         1.8672          INLAND   \n\n       median_house_value  \n20634              116800  \n20635               78100  \n20636               77100  \n20637               92300  \n20638               84700  ",
      "text/html": "<div>\n<style scoped>\n    .dataframe tbody tr th:only-of-type {\n        vertical-align: middle;\n    }\n\n    .dataframe tbody tr th {\n        vertical-align: top;\n    }\n\n    .dataframe thead th {\n        text-align: right;\n    }\n</style>\n<table border=\"1\" class=\"dataframe\">\n  <thead>\n    <tr style=\"text-align: right;\">\n      <th></th>\n      <th>longitude</th>\n      <th>latitude</th>\n      <th>housing_median_age</th>\n      <th>total_rooms</th>\n      <th>total_bedrooms</th>\n      <th>population</th>\n      <th>households</th>\n      <th>median_income</th>\n      <th>ocean_proximity</th>\n      <th>median_house_value</th>\n    </tr>\n  </thead>\n  <tbody>\n    <tr>\n      <th>20634</th>\n      <td>-121.56</td>\n      <td>39.27</td>\n      <td>28</td>\n      <td>2332</td>\n      <td>395.0</td>\n      <td>1041</td>\n      <td>344</td>\n      <td>3.7125</td>\n      <td>INLAND</td>\n      <td>116800</td>\n    </tr>\n    <tr>\n      <th>20635</th>\n      <td>-121.09</td>\n      <td>39.48</td>\n      <td>25</td>\n      <td>1665</td>\n      <td>374.0</td>\n      <td>845</td>\n      <td>330</td>\n      <td>1.5603</td>\n      <td>INLAND</td>\n      <td>78100</td>\n    </tr>\n    <tr>\n      <th>20636</th>\n      <td>-121.21</td>\n      <td>39.49</td>\n      <td>18</td>\n      <td>697</td>\n      <td>150.0</td>\n      <td>356</td>\n      <td>114</td>\n      <td>2.5568</td>\n      <td>INLAND</td>\n      <td>77100</td>\n    </tr>\n    <tr>\n      <th>20637</th>\n      <td>-121.22</td>\n      <td>39.43</td>\n      <td>17</td>\n      <td>2254</td>\n      <td>485.0</td>\n      <td>1007</td>\n      <td>433</td>\n      <td>1.7000</td>\n      <td>INLAND</td>\n      <td>92300</td>\n    </tr>\n    <tr>\n      <th>20638</th>\n      <td>-121.32</td>\n      <td>39.43</td>\n      <td>18</td>\n      <td>1860</td>\n      <td>409.0</td>\n      <td>741</td>\n      <td>349</td>\n      <td>1.8672</td>\n      <td>INLAND</td>\n      <td>84700</td>\n    </tr>\n  </tbody>\n</table>\n</div>"
     },
     "execution_count": 22,
     "metadata": {},
     "output_type": "execute_result"
    }
   ],
   "source": [
    "viviendas.iloc[-6:-1]"
   ],
   "metadata": {
    "collapsed": false
   }
  },
  {
   "cell_type": "markdown",
   "metadata": {
    "id": "SejOoGSCdP81"
   },
   "source": [
    "### 2.2. Selección por etiquetas\n",
    "\n",
    "Para acceder por _etiquetas_ (es decir, columnas parte del índice), se usa `loc[]`"
   ]
  },
  {
   "cell_type": "code",
   "metadata": {
    "id": "rDDFqK7zdP81",
    "outputId": "80d0442f-c91d-4751-d2fd-5055d4bf35cb"
   },
   "source": [
    "viviendas_nuevo_indice.loc[('NEAR BAY', 126)]"
   ],
   "execution_count": 23,
   "outputs": [
    {
     "name": "stderr",
     "output_type": "stream",
     "text": [
      "/tmp/ipykernel_12310/1528441507.py:1: PerformanceWarning: indexing past lexsort depth may impact performance.\n",
      "  viviendas_nuevo_indice.loc[('NEAR BAY', 126)]\n"
     ]
    },
    {
     "data": {
      "text/plain": "                            longitude  latitude  housing_median_age  \\\nocean_proximity households                                            \nNEAR BAY        126           -122.23     37.88                  41   \n                126           -122.23     37.78                  52   \n\n                            total_rooms  total_bedrooms  population  \\\nocean_proximity households                                            \nNEAR BAY        126                 880           129.0         322   \n                126                 472           146.0         415   \n\n                            median_income  median_house_value  \nocean_proximity households                                     \nNEAR BAY        126                8.3252              452600  \n                126                2.6429               71300  ",
      "text/html": "<div>\n<style scoped>\n    .dataframe tbody tr th:only-of-type {\n        vertical-align: middle;\n    }\n\n    .dataframe tbody tr th {\n        vertical-align: top;\n    }\n\n    .dataframe thead th {\n        text-align: right;\n    }\n</style>\n<table border=\"1\" class=\"dataframe\">\n  <thead>\n    <tr style=\"text-align: right;\">\n      <th></th>\n      <th></th>\n      <th>longitude</th>\n      <th>latitude</th>\n      <th>housing_median_age</th>\n      <th>total_rooms</th>\n      <th>total_bedrooms</th>\n      <th>population</th>\n      <th>median_income</th>\n      <th>median_house_value</th>\n    </tr>\n    <tr>\n      <th>ocean_proximity</th>\n      <th>households</th>\n      <th></th>\n      <th></th>\n      <th></th>\n      <th></th>\n      <th></th>\n      <th></th>\n      <th></th>\n      <th></th>\n    </tr>\n  </thead>\n  <tbody>\n    <tr>\n      <th rowspan=\"2\" valign=\"top\">NEAR BAY</th>\n      <th>126</th>\n      <td>-122.23</td>\n      <td>37.88</td>\n      <td>41</td>\n      <td>880</td>\n      <td>129.0</td>\n      <td>322</td>\n      <td>8.3252</td>\n      <td>452600</td>\n    </tr>\n    <tr>\n      <th>126</th>\n      <td>-122.23</td>\n      <td>37.78</td>\n      <td>52</td>\n      <td>472</td>\n      <td>146.0</td>\n      <td>415</td>\n      <td>2.6429</td>\n      <td>71300</td>\n    </tr>\n  </tbody>\n</table>\n</div>"
     },
     "execution_count": 23,
     "metadata": {},
     "output_type": "execute_result"
    }
   ]
  },
  {
   "cell_type": "code",
   "metadata": {
    "colab": {
     "base_uri": "https://localhost:8080/",
     "height": 183
    },
    "id": "S1iEAQEtdP81",
    "executionInfo": {
     "status": "error",
     "timestamp": 1638202337510,
     "user_tz": -60,
     "elapsed": 19,
     "user": {
      "displayName": "Cristina Gómez Alonso",
      "photoUrl": "https://lh3.googleusercontent.com/a/default-user=s64",
      "userId": "05697798740749630103"
     }
    },
    "outputId": "9a3a5677-d4a6-4b12-c241-60a90e18cf66"
   },
   "source": [
    "# O un distrito completo\n",
    "viviendas_nuevo_indice.loc[('NEAR BAY')].head()"
   ],
   "execution_count": 24,
   "outputs": [
    {
     "data": {
      "text/plain": "            longitude  latitude  housing_median_age  total_rooms  \\\nhouseholds                                                         \n126           -122.23     37.88                  41          880   \n1138          -122.22     37.86                  21         7099   \n177           -122.24     37.85                  52         1467   \n219           -122.25     37.85                  52         1274   \n259           -122.25     37.85                  52         1627   \n\n            total_bedrooms  population  median_income  median_house_value  \nhouseholds                                                                 \n126                  129.0         322         8.3252              452600  \n1138                1106.0        2401         8.3014              358500  \n177                  190.0         496         7.2574              352100  \n219                  235.0         558         5.6431              341300  \n259                  280.0         565         3.8462              342200  ",
      "text/html": "<div>\n<style scoped>\n    .dataframe tbody tr th:only-of-type {\n        vertical-align: middle;\n    }\n\n    .dataframe tbody tr th {\n        vertical-align: top;\n    }\n\n    .dataframe thead th {\n        text-align: right;\n    }\n</style>\n<table border=\"1\" class=\"dataframe\">\n  <thead>\n    <tr style=\"text-align: right;\">\n      <th></th>\n      <th>longitude</th>\n      <th>latitude</th>\n      <th>housing_median_age</th>\n      <th>total_rooms</th>\n      <th>total_bedrooms</th>\n      <th>population</th>\n      <th>median_income</th>\n      <th>median_house_value</th>\n    </tr>\n    <tr>\n      <th>households</th>\n      <th></th>\n      <th></th>\n      <th></th>\n      <th></th>\n      <th></th>\n      <th></th>\n      <th></th>\n      <th></th>\n    </tr>\n  </thead>\n  <tbody>\n    <tr>\n      <th>126</th>\n      <td>-122.23</td>\n      <td>37.88</td>\n      <td>41</td>\n      <td>880</td>\n      <td>129.0</td>\n      <td>322</td>\n      <td>8.3252</td>\n      <td>452600</td>\n    </tr>\n    <tr>\n      <th>1138</th>\n      <td>-122.22</td>\n      <td>37.86</td>\n      <td>21</td>\n      <td>7099</td>\n      <td>1106.0</td>\n      <td>2401</td>\n      <td>8.3014</td>\n      <td>358500</td>\n    </tr>\n    <tr>\n      <th>177</th>\n      <td>-122.24</td>\n      <td>37.85</td>\n      <td>52</td>\n      <td>1467</td>\n      <td>190.0</td>\n      <td>496</td>\n      <td>7.2574</td>\n      <td>352100</td>\n    </tr>\n    <tr>\n      <th>219</th>\n      <td>-122.25</td>\n      <td>37.85</td>\n      <td>52</td>\n      <td>1274</td>\n      <td>235.0</td>\n      <td>558</td>\n      <td>5.6431</td>\n      <td>341300</td>\n    </tr>\n    <tr>\n      <th>259</th>\n      <td>-122.25</td>\n      <td>37.85</td>\n      <td>52</td>\n      <td>1627</td>\n      <td>280.0</td>\n      <td>565</td>\n      <td>3.8462</td>\n      <td>342200</td>\n    </tr>\n  </tbody>\n</table>\n</div>"
     },
     "execution_count": 24,
     "metadata": {},
     "output_type": "execute_result"
    }
   ]
  },
  {
   "cell_type": "markdown",
   "metadata": {
    "id": "6GUWW50_dP81"
   },
   "source": [
    "### *Ejercicio 3*\n",
    "\n",
    "Muestra sobre `viviendas_nuevo_indice` las filas para aquellas viviendas cerca del océano y con un número de familias superior a 100."
   ]
  },
  {
   "cell_type": "code",
   "execution_count": 25,
   "outputs": [
    {
     "ename": "AttributeError",
     "evalue": "'DataFrame' object has no attribute 'ocean_proximity'",
     "output_type": "error",
     "traceback": [
      "\u001B[0;31m---------------------------------------------------------------------------\u001B[0m",
      "\u001B[0;31mAttributeError\u001B[0m                            Traceback (most recent call last)",
      "Input \u001B[0;32mIn [25]\u001B[0m, in \u001B[0;36m<cell line: 3>\u001B[0;34m()\u001B[0m\n\u001B[1;32m      1\u001B[0m idx1 \u001B[38;5;241m=\u001B[39m viviendas_nuevo_indice\u001B[38;5;241m.\u001B[39mindex\u001B[38;5;241m.\u001B[39mget_level_values(\u001B[38;5;241m0\u001B[39m)\n\u001B[1;32m      2\u001B[0m idx2 \u001B[38;5;241m=\u001B[39m viviendas_nuevo_indice\u001B[38;5;241m.\u001B[39mindex\u001B[38;5;241m.\u001B[39mget_level_values(\u001B[38;5;241m1\u001B[39m)\n\u001B[0;32m----> 3\u001B[0m viviendas_nuevo_indice[(\u001B[43mviviendas_nuevo_indice\u001B[49m\u001B[38;5;241;43m.\u001B[39;49m\u001B[43mocean_proximity\u001B[49m \u001B[38;5;241m==\u001B[39m \u001B[38;5;124m'\u001B[39m\u001B[38;5;124mNEAR BAY\u001B[39m\u001B[38;5;124m'\u001B[39m) \u001B[38;5;241m&\u001B[39m (viviendas_nuevo_indice\u001B[38;5;241m.\u001B[39mhouseholds \u001B[38;5;241m>\u001B[39m \u001B[38;5;241m200\u001B[39m)]\n",
      "File \u001B[0;32m~/anaconda3/envs/ml_env_linux/lib/python3.9/site-packages/pandas/core/generic.py:5575\u001B[0m, in \u001B[0;36mNDFrame.__getattr__\u001B[0;34m(self, name)\u001B[0m\n\u001B[1;32m   5568\u001B[0m \u001B[38;5;28;01mif\u001B[39;00m (\n\u001B[1;32m   5569\u001B[0m     name \u001B[38;5;129;01mnot\u001B[39;00m \u001B[38;5;129;01min\u001B[39;00m \u001B[38;5;28mself\u001B[39m\u001B[38;5;241m.\u001B[39m_internal_names_set\n\u001B[1;32m   5570\u001B[0m     \u001B[38;5;129;01mand\u001B[39;00m name \u001B[38;5;129;01mnot\u001B[39;00m \u001B[38;5;129;01min\u001B[39;00m \u001B[38;5;28mself\u001B[39m\u001B[38;5;241m.\u001B[39m_metadata\n\u001B[1;32m   5571\u001B[0m     \u001B[38;5;129;01mand\u001B[39;00m name \u001B[38;5;129;01mnot\u001B[39;00m \u001B[38;5;129;01min\u001B[39;00m \u001B[38;5;28mself\u001B[39m\u001B[38;5;241m.\u001B[39m_accessors\n\u001B[1;32m   5572\u001B[0m     \u001B[38;5;129;01mand\u001B[39;00m \u001B[38;5;28mself\u001B[39m\u001B[38;5;241m.\u001B[39m_info_axis\u001B[38;5;241m.\u001B[39m_can_hold_identifiers_and_holds_name(name)\n\u001B[1;32m   5573\u001B[0m ):\n\u001B[1;32m   5574\u001B[0m     \u001B[38;5;28;01mreturn\u001B[39;00m \u001B[38;5;28mself\u001B[39m[name]\n\u001B[0;32m-> 5575\u001B[0m \u001B[38;5;28;01mreturn\u001B[39;00m \u001B[38;5;28;43mobject\u001B[39;49m\u001B[38;5;241;43m.\u001B[39;49m\u001B[38;5;21;43m__getattribute__\u001B[39;49m\u001B[43m(\u001B[49m\u001B[38;5;28;43mself\u001B[39;49m\u001B[43m,\u001B[49m\u001B[43m \u001B[49m\u001B[43mname\u001B[49m\u001B[43m)\u001B[49m\n",
      "\u001B[0;31mAttributeError\u001B[0m: 'DataFrame' object has no attribute 'ocean_proximity'"
     ]
    }
   ],
   "source": [
    "idx1 = viviendas_nuevo_indice.index.get_level_values(0)\n",
    "idx2 = viviendas_nuevo_indice.index.get_level_values(1)\n",
    "viviendas_nuevo_indice[(viviendas_nuevo_indice.ocean_proximity == 'NEAR BAY') & (viviendas_nuevo_indice.households > 200)]"
   ],
   "metadata": {
    "collapsed": false
   }
  },
  {
   "cell_type": "markdown",
   "metadata": {
    "id": "ha3jlD0udP82"
   },
   "source": [
    "### 2.3. Selección por condiciones\n",
    "\n",
    "Para extraer las filas que cumplen una condición, le pasamos al DataFrame una Series de booleanos, o directamente algo que la devuelva."
   ]
  },
  {
   "cell_type": "code",
   "metadata": {
    "id": "qAU0y6IGdP82"
   },
   "source": [
    "viviendas[viviendas.ocean_proximity == 'NEAR BAY'].head()"
   ],
   "execution_count": null,
   "outputs": []
  },
  {
   "cell_type": "markdown",
   "metadata": {
    "id": "5vnF6h19dP82"
   },
   "source": [
    "**Nota:** mira cómo en el código anterior hemos seleccionado la columna `ocean_proximity` usando un punto, `viviendas.ocean_proximity`. Es una alternativa a la notación mediante corchetes, `viviendas['ocean_proximity']`.\n",
    "\n",
    "**Para profundizar:** puedes leer las diferentes ventajas e inconvenientes de la notación punto con respecto a la de corchetes [aquí](https://www.dataschool.io/pandas-dot-notation-vs-brackets/) y decidir cuál prefieres utilizar.\n",
    "\n",
    "Podemos combinar varias condiciones con `&` (y lógico) y `|` (o lógico)"
   ]
  },
  {
   "cell_type": "code",
   "metadata": {
    "id": "aO9hUwXSdP82"
   },
   "source": [
    "# No olvides los paréntesis, es importante por prioridad de operandos!\n",
    "\n",
    "viviendas[(viviendas.ocean_proximity == 'NEAR BAY') & (viviendas.households > 200)]"
   ],
   "execution_count": null,
   "outputs": []
  },
  {
   "cell_type": "markdown",
   "metadata": {
    "id": "weAQ-PTtdP82"
   },
   "source": [
    "### *Ejercicio 4*\n",
    "\n",
    "Recupera la proximidad al océano para aquellas viviendas que tienen una edad media de los integrantes inferior a 25 años."
   ]
  },
  {
   "cell_type": "code",
   "metadata": {
    "id": "Y-NOU9KDdP83"
   },
   "source": [
    "# 1. Imprime las últimas filas de la tabla\n",
    "viviendas.tail(5)"
   ],
   "execution_count": null,
   "outputs": []
  },
  {
   "cell_type": "code",
   "execution_count": null,
   "outputs": [],
   "source": [
    "viviendas[(viviendas.ocean_proximity == 'NEAR BAY') & (viviendas.housing_median_age < 25)]"
   ],
   "metadata": {
    "collapsed": false
   }
  },
  {
   "cell_type": "code",
   "metadata": {
    "id": "SRnxr2VjdP83"
   },
   "source": [
    "# 2. Haz el filtro. Una vez hecho, saca solo la columna distrito"
   ],
   "execution_count": null,
   "outputs": []
  },
  {
   "cell_type": "code",
   "execution_count": null,
   "outputs": [],
   "source": [
    "viviendas[(viviendas.ocean_proximity == 'NEAR BAY') & (viviendas.housing_median_age < 25)]['ocean_proximity']"
   ],
   "metadata": {
    "collapsed": false
   }
  },
  {
   "cell_type": "markdown",
   "metadata": {
    "id": "NMV7lSNtdP83"
   },
   "source": [
    "## 3. Ordenación\n",
    "\n",
    "Podemos ordenar un DataFrame por una o varias columnas, de forma ascendente o descendente, con [`sort_values`](https://pandas.pydata.org/pandas-docs/stable/generated/pandas.DataFrame.sort_values.html)"
   ]
  },
  {
   "cell_type": "code",
   "metadata": {
    "id": "fZrVImuwdP83"
   },
   "source": [
    "viviendas.sort_values('households', ascending=True).head()"
   ],
   "execution_count": null,
   "outputs": []
  },
  {
   "cell_type": "code",
   "metadata": {
    "id": "-qPgbG-CdP83"
   },
   "source": [
    "viviendas.sort_values(['total_bedrooms','population', 'households'], ascending=[False, False, True]).head()"
   ],
   "execution_count": null,
   "outputs": []
  },
  {
   "cell_type": "markdown",
   "metadata": {
    "id": "MmKvORC-dP83"
   },
   "source": [
    "### *Ejercicio 5*\n",
    "\n",
    "Extrae de mayor a menor por precio las filas de la tabla para viviendas alejadas del mar (INLAND).\n"
   ]
  },
  {
   "cell_type": "code",
   "execution_count": null,
   "outputs": [],
   "source": [
    "viviendas[viviendas.ocean_proximity==\"INLAND\"].sort_values(['median_house_value'], ascending=[False])"
   ],
   "metadata": {
    "collapsed": false
   }
  },
  {
   "cell_type": "code",
   "execution_count": null,
   "outputs": [],
   "source": [
    "viviendas.sort_values(['total_bedrooms','population', 'households'], ascending=[False, False, True]).head()"
   ],
   "metadata": {
    "collapsed": false
   }
  },
  {
   "cell_type": "markdown",
   "metadata": {
    "id": "WgMJJDhxdP83"
   },
   "source": [
    "## 4. Transformación\n",
    "\n",
    "Adición de nuevas columnas calculadas, cambio de tipo de dato y supresión de una columna\n",
    "\n"
   ]
  },
  {
   "cell_type": "markdown",
   "metadata": {
    "id": "fQlHzhctdP84"
   },
   "source": [
    "### 4.1. Crear una columna calculada\n",
    "\n",
    "Podemos operar sobre las columnas para crear otras nuevas"
   ]
  },
  {
   "cell_type": "code",
   "metadata": {
    "id": "CuR-z8mLdP84"
   },
   "source": [
    "# Hago una copia para no modificar el dataframe original\n",
    "viviendas_2 = viviendas.copy()\n",
    "\n",
    "viviendas_2['precio_euros'] = viviendas.median_house_value * 0.89\n",
    "viviendas_2.head()"
   ],
   "execution_count": null,
   "outputs": []
  },
  {
   "cell_type": "markdown",
   "metadata": {
    "id": "YutmJ-XedP84"
   },
   "source": [
    "Las operaciones que no se pueden lanzar directamente sobre la `Series` completa, la ejecutamos por elemento utilizando `apply`"
   ]
  },
  {
   "cell_type": "markdown",
   "metadata": {
    "id": "iwVJuJOjdP84"
   },
   "source": [
    "### *Ejercicio 6*\n",
    "\n",
    "Crea una nueva columna que consideres interesante para este dataset.\n",
    "Extra: Busca información sobre las funciones `lambda` en Pandas y pon un ejemplo. utilizando `apply`"
   ]
  },
  {
   "cell_type": "code",
   "execution_count": null,
   "outputs": [],
   "source": [
    "viviendas_2['precio_medio'] = viviendas_2.precio_euros.median()\n",
    "viviendas_2.head()\n"
   ],
   "metadata": {
    "collapsed": false
   }
  },
  {
   "cell_type": "code",
   "execution_count": 26,
   "outputs": [
    {
     "ename": "NameError",
     "evalue": "name 'viviendas_2' is not defined",
     "output_type": "error",
     "traceback": [
      "\u001B[0;31m---------------------------------------------------------------------------\u001B[0m",
      "\u001B[0;31mNameError\u001B[0m                                 Traceback (most recent call last)",
      "Input \u001B[0;32mIn [26]\u001B[0m, in \u001B[0;36m<cell line: 1>\u001B[0;34m()\u001B[0m\n\u001B[0;32m----> 1\u001B[0m viviendas_2 \u001B[38;5;241m=\u001B[39m \u001B[43mviviendas_2\u001B[49m\u001B[38;5;241m.\u001B[39massign(iva \u001B[38;5;241m=\u001B[39m \u001B[38;5;28;01mlambda\u001B[39;00m x: (x[\u001B[38;5;124m'\u001B[39m\u001B[38;5;124mprecio_euros\u001B[39m\u001B[38;5;124m'\u001B[39m]  \u001B[38;5;241m*\u001B[39m\u001B[38;5;241m21\u001B[39m \u001B[38;5;241m/\u001B[39m\u001B[38;5;241m100\u001B[39m))\n\u001B[1;32m      2\u001B[0m viviendas_2\u001B[38;5;241m.\u001B[39mhead()\n",
      "\u001B[0;31mNameError\u001B[0m: name 'viviendas_2' is not defined"
     ]
    }
   ],
   "source": [
    "viviendas_2 = viviendas_2.assign(iva = lambda x: (x['precio_euros']  *21 /100))\n",
    "viviendas_2.head()"
   ],
   "metadata": {
    "collapsed": false
   }
  },
  {
   "cell_type": "markdown",
   "metadata": {
    "id": "WwjVrEJAdP84"
   },
   "source": [
    "## 5. Renombrar una columna\n",
    "\n",
    "Fíjate en la documentación de `rename` y sus ejemplos, [aquí](https://pandas.pydata.org/pandas-docs/stable/reference/api/pandas.DataFrame.rename.html).\n",
    "\n",
    "Por ejemplo, para renombrar la columna `median_house_value` a `precio_medio_viivenda` sería:"
   ]
  },
  {
   "cell_type": "code",
   "metadata": {
    "id": "_ieh7AKpdP85"
   },
   "source": [
    "viviendas_2 = viviendas_2.rename(columns={'median_house_value': 'precio_medio_viivenda'})\n",
    "viviendas_2.head()"
   ],
   "execution_count": null,
   "outputs": []
  },
  {
   "cell_type": "markdown",
   "metadata": {
    "id": "OzXMyBGpdP87"
   },
   "source": [
    "Fíjate en el ejemplo anterior. En general, las funciones de `pandas` crean un nuevo objeto con el resultado de la operación, pero no modifican el actual. En estas funciones, suele haber un parámetro `inplace` con valor por defecto a `False`. Si lo ponemos a `True`, la operación se realiza sobre el objeto que pasamos por parámetro."
   ]
  },
  {
   "cell_type": "markdown",
   "metadata": {
    "id": "NqBXZvqWdP88"
   },
   "source": [
    "#### La importancia de la nomenclatura\n",
    "\n",
    "Tener buenos nombres de columnas en un DataFrame es importante. Hará mucho más legible nuestro código si nuestras columnas tienen nombres descriptivos, sin caracteres extraños y separados por `_`.\n",
    "\n",
    "Unos cuantos ejemplos de malos nombres:\n",
    "\n",
    "* `col1`, `col2`, ..., `colN`: no sabemos qué es cada cosa.\n",
    "* `precio euros`, `metros cuadrados`: los espacios dificultan escribir código. Por ejemplo, ya no podremos acceder a las columnas con la notación `dataframe.columna`.\n",
    "* `año`, `variación`, `precio_€`: los caracteres no-asciii (que no son letras no acentuadas ni números) pueden dar problemas al compartir código (p.e. entre Linux y Windows), al exportar / importar, etc. Es mejor evitarlos.\n",
    "* `PrecioEuros`, `MetrosCuadrados`: aunque es más sutil, el estándar en Python es escribir en snake_case. Es decir, utilizando minúsculas y usando `_` para separar palabras.\n",
    "\n",
    "Ejemplo de buenos nombres:\n",
    "\n",
    "* `distrito`, `precio_euros`, `metros_cuadrados`"
   ]
  },
  {
   "cell_type": "markdown",
   "metadata": {
    "id": "8ItE4HQLdP88"
   },
   "source": [
    "### Eliminar una columna\n",
    "\n",
    "Podemos utilizar [`drop`](https://pandas.pydata.org/pandas-docs/stable/reference/api/pandas.DataFrame.drop.html).\n",
    "\n",
    "Por ejemplo:"
   ]
  },
  {
   "cell_type": "code",
   "metadata": {
    "id": "yO1RAgVmdP88"
   },
   "source": [
    "viviendas_2 = viviendas_2.drop(columns=['precio_euros'])\n",
    "viviendas_2.head()"
   ],
   "execution_count": null,
   "outputs": []
  },
  {
   "cell_type": "markdown",
   "metadata": {
    "id": "1LopEa0MdP88"
   },
   "source": [
    "#### Cambiar el tipo de dato\n",
    "\n",
    "Vamos a crear un DataFrame muy simple para verlo."
   ]
  },
  {
   "cell_type": "code",
   "metadata": {
    "id": "06iNpOn_dP89"
   },
   "source": [
    "prueba = pd.DataFrame({'precio': ['10.50', '15.35', '22.15']})\n",
    "prueba"
   ],
   "execution_count": null,
   "outputs": []
  },
  {
   "cell_type": "code",
   "metadata": {
    "id": "pzjCRC_GdP89"
   },
   "source": [
    "prueba.dtypes"
   ],
   "execution_count": null,
   "outputs": []
  },
  {
   "cell_type": "markdown",
   "metadata": {
    "id": "GJYc6RKRdP89"
   },
   "source": [
    "Tenemos un DataFrame con precios, pero estos son cadenas de texto en lugar de números. Esto va a limitar nuestro análisis: no podremos ejecutar operaciones aritméticas, calcular medias, etc.\n",
    "\n",
    "Es muy habitual que esto pase en el momento de cargar unos datos. Veremos más adelante cómo solucionar problemas al cargar CSVs de habla española, que utilizan la coma como separador decimal en lugar del punto, que es el que entiende Python (y, en general, todos los lenguajes de programación).\n",
    "\n",
    "Sobre nuestro ejemplo actual `prueba`, podemos usar [`astype`](https://pandas.pydata.org/pandas-docs/stable/reference/api/pandas.DataFrame.astype.html) para convertir la columna a numérica. En este caso, como es numérica con decimales, usaremos el tipo `float`."
   ]
  },
  {
   "cell_type": "code",
   "metadata": {
    "id": "OM-AAUBxdP89"
   },
   "source": [
    "prueba['precio'] = prueba.precio.astype(float)\n",
    "prueba.dtypes"
   ],
   "execution_count": null,
   "outputs": []
  },
  {
   "cell_type": "markdown",
   "metadata": {
    "id": "NKtLTl__dP8-"
   },
   "source": [
    "## 6. Resumen estadístico\n",
    "\n",
    "Pandas provee una serie de funciones de resumen estadístico que podemos aplicar sobre una columna concreta, o sobre todas las del DataFrame."
   ]
  },
  {
   "cell_type": "markdown",
   "metadata": {
    "id": "MtpOdriqdP8-"
   },
   "source": [
    "Para un resumen para todas las columnas de número de filas, media, desviación estándar, cuartiles, ... usamos [`describe`](https://pandas.pydata.org/pandas-docs/stable/generated/pandas.DataFrame.describe.html)"
   ]
  },
  {
   "cell_type": "code",
   "metadata": {
    "id": "yyrQm_pBdP8-"
   },
   "source": [
    "viviendas.describe()"
   ],
   "execution_count": null,
   "outputs": []
  },
  {
   "cell_type": "markdown",
   "metadata": {
    "id": "l2Ag8ZjndP8-"
   },
   "source": [
    "Podemos utilizar también `sum`, `mean`, `std`, `count`, `min`, `max`, ... sobre el DataFrame o una columna en concreto"
   ]
  },
  {
   "cell_type": "code",
   "metadata": {
    "id": "PzOtLAafdP8-",
    "outputId": "565f7ccf-2a63-4528-d52a-182b314d3d2f"
   },
   "source": [
    "viviendas.mean()"
   ],
   "execution_count": null,
   "outputs": []
  },
  {
   "cell_type": "code",
   "metadata": {
    "id": "d92mz7gedP8-",
    "outputId": "f69e1a8e-c47d-4446-ce65-fb0582906543"
   },
   "source": [
    "viviendas.median_house_value.max()"
   ],
   "execution_count": null,
   "outputs": []
  },
  {
   "cell_type": "markdown",
   "metadata": {
    "id": "FiXPKEOEdP8_"
   },
   "source": [
    "### * Ejercicio 7*\n",
    "\n",
    "Extrae los cuantiles 0.1 y 0.9 del precio para aquellas viviendas próximas a la bahía."
   ]
  },
  {
   "cell_type": "code",
   "metadata": {
    "id": "tv263tKjdP8_"
   },
   "source": [
    "viviendas[viviendas.ocean_proximity == 'NEAR BAY'].quantile(0.1)"
   ],
   "execution_count": null,
   "outputs": []
  },
  {
   "cell_type": "code",
   "execution_count": null,
   "outputs": [],
   "source": [
    "viviendas[viviendas.ocean_proximity == 'NEAR BAY'].quantile(0.9)"
   ],
   "metadata": {
    "collapsed": false
   }
  },
  {
   "cell_type": "markdown",
   "metadata": {
    "id": "FUYQqiUvdP8_"
   },
   "source": [
    "## 7. Agrupación\n",
    "\n",
    "De una forma equivalente a como hacemos en SQL, podemos agregar las tablas y sacar resúmenes de los grupos. La operación en pandas se hace en dos fases:\n",
    "\n",
    "* El `groupby`: donde especificamos la o las columnas por las que agregar\n",
    "* La aplicación de la función de agregación sobre una o varias columnas"
   ]
  },
  {
   "cell_type": "markdown",
   "metadata": {
    "id": "aKajh1QSdP8_"
   },
   "source": [
    "Un resumen usando una función de agregación sobre todas las columnas del DataFrame"
   ]
  },
  {
   "cell_type": "code",
   "metadata": {
    "id": "6-kDcPCWdP8_",
    "outputId": "935910fb-3fc4-4576-8122-a11cca14c12e"
   },
   "source": [
    "viviendas.groupby('ocean_proximity').max()"
   ],
   "execution_count": null,
   "outputs": []
  },
  {
   "cell_type": "markdown",
   "metadata": {
    "id": "ZkYec1r-dP8_"
   },
   "source": [
    "Para hacerlo únicamente sobre una columna:"
   ]
  },
  {
   "cell_type": "code",
   "metadata": {
    "id": "RVZs1cfudP8_",
    "outputId": "9a58ddca-ee3d-47a0-ab10-d73e5857aa57"
   },
   "source": [
    "viviendas.groupby('ocean_proximity').median_house_value.min()"
   ],
   "execution_count": null,
   "outputs": []
  },
  {
   "cell_type": "markdown",
   "metadata": {
    "id": "bxsHvNijdP9A"
   },
   "source": [
    "Para aplicar diferentes resúmenes sobre diferentes columnas"
   ]
  },
  {
   "cell_type": "code",
   "metadata": {
    "id": "Ga_SQaYjdP9A",
    "outputId": "df815021-1278-4b19-adef-7e6d41235842"
   },
   "source": [
    "tmp = viviendas.groupby('ocean_proximity').agg({'households': 'mean', 'ocean_proximity': 'first'})\n",
    "tmp.head()"
   ],
   "execution_count": null,
   "outputs": []
  },
  {
   "cell_type": "markdown",
   "metadata": {
    "id": "pl9qMksHdP9A"
   },
   "source": [
    "#### *Ejercicio 8*\n",
    "\n",
    "Extrae el precio máximo para cada zona"
   ]
  },
  {
   "cell_type": "markdown",
   "metadata": {
    "collapsed": false,
    "id": "ygX00xW0dP9A"
   },
   "source": [
    "Puedes ver más información sobre agrupaciones en la [documentación de pandas](https://pandas.pydata.org/pandas-docs/stable/groupby.html). Es especialmente útil la parte sobre transformaciones."
   ]
  },
  {
   "cell_type": "code",
   "execution_count": null,
   "outputs": [],
   "source": [
    "viviendas.groupby('ocean_proximity').max()"
   ],
   "metadata": {
    "collapsed": false
   }
  },
  {
   "cell_type": "markdown",
   "metadata": {
    "collapsed": false,
    "id": "1US34GfBdP9A"
   },
   "source": [
    "## 8. Gráficos\n",
    "Vamos a tomar como base la siguiente información sobre unos pacientes que visitan una clínica: age (in years), height (in cm) y weight (in kilograms)."
   ]
  },
  {
   "cell_type": "code",
   "metadata": {
    "id": "t2oI_R_GdP9A"
   },
   "source": [
    "people = ['Ann','Brandon','Chen','David','Emily','Farook',\n",
    "          'Gagan','Hamish','Imran','Julio','Katherine','Lily']\n",
    "age = [21,12,32,45,37,18,28,52,5,40,48,15]\n",
    "weight = [55,35,77,68,70,60,72,69,18,65,82,48]\n",
    "height = [160,135,170,165,173,168,175,159,105,171,155,158]"
   ],
   "execution_count": null,
   "outputs": []
  },
  {
   "cell_type": "code",
   "metadata": {
    "id": "jXvKatSYdP9B"
   },
   "source": [
    "import matplotlib.pyplot as plt"
   ],
   "execution_count": null,
   "outputs": []
  },
  {
   "cell_type": "code",
   "metadata": {
    "id": "bR4Yg77ldP9B",
    "outputId": "0c831d19-7e91-4118-ad6e-5c358225da9a"
   },
   "source": [
    "plt.scatter(age, height)\n",
    "plt.show()"
   ],
   "execution_count": null,
   "outputs": []
  },
  {
   "cell_type": "markdown",
   "metadata": {
    "collapsed": false,
    "id": "YtmTUGuidP9B"
   },
   "source": [
    "El gráfico anterior es correcto, aunque un poco básico. Si lo deseamos, podemos añadir más detalles con un poco de código adicional:\n",
    "\n",
    "* Tamaño de la figura\n",
    "* Título principal (y tamaño de la fuente)\n",
    "* Etiquetas en el eje X e Y (y tamaño de la fuente)\n",
    "* Grid (cuadrícula)\n",
    "* Texto para las etiquetas\n",
    "* Legend (área de explicación de los elementos del gráfico)\n",
    "* Líneas verticales (u horizontales)\n"
   ]
  },
  {
   "cell_type": "code",
   "metadata": {
    "id": "8qOrFuJ1dP9B",
    "outputId": "7ac9f45c-d5ec-41d9-d23a-c98f7caf2fb9"
   },
   "source": [
    "# Set figure size\n",
    "plt.figure(figsize=(8,6))\n",
    "\n",
    "# Add a main title\n",
    "plt.title(\"Plot of Age vs. Height (in cms)\\n\",fontsize=20, fontstyle='italic')\n",
    "\n",
    "# X- and Y-label with fontsize\n",
    "plt.xlabel(\"Age (years)\",fontsize=16)\n",
    "plt.ylabel(\"Height (cms)\",fontsize=16)\n",
    "\n",
    "# Turn on grid\n",
    "plt.grid (True)\n",
    "\n",
    "# Set Y-axis limit\n",
    "plt.ylim(100,200)\n",
    "\n",
    "# X- and Y-axis ticks customization with fontsize and placement\n",
    "plt.xticks([i*5 for i in range(12)],fontsize=15)\n",
    "plt.yticks(fontsize=15)\n",
    "\n",
    "# Main plotting function with choice of color, marker size, and marker edge color\n",
    "plt.scatter(x=age,y=height,c='orange',s=150,edgecolors='k')\n",
    "\n",
    "# Adding bit of text to the plot\n",
    "plt.text(x=15,y=105,s=\"Height increaes up to around \\n20 years and then tapers off\",fontsize=15,\n",
    "         rotation=30, linespacing=2)\n",
    "plt.text(x=22,y=185,s=\"Nobody has a height beyond 180 cm\",fontsize=15)\n",
    "\n",
    "# Adding a vertical line\n",
    "plt.vlines(x=20,ymin=100,ymax=180,linestyles='dashed',color='blue',lw=3)\n",
    "\n",
    "# Adding a horizontal line\n",
    "plt.hlines(y=180,xmin=0,xmax=55,linestyles='dashed',color='red',lw=3)\n",
    "\n",
    "# Adding a legend\n",
    "plt.legend(['Height in cms'],loc=2,fontsize=14)\n",
    "\n",
    "# Final show method\n",
    "plt.show()"
   ],
   "execution_count": null,
   "outputs": []
  },
  {
   "cell_type": "code",
   "metadata": {
    "id": "Uvnep9VKdP9B",
    "outputId": "78f18ed2-cd0f-49ee-ff28-b610dde5025f"
   },
   "source": [
    "plt.figure(figsize=(12,4))\n",
    "plt.title(\"People's weight in kgs\",fontsize=16, fontstyle='italic')\n",
    "# Main plot function 'bar'\n",
    "plt.bar(x=people,height=weight, width=0.6,color='orange',edgecolor='k',alpha=0.6)\n",
    "plt.xlabel(\"People\",fontsize=15)\n",
    "plt.xticks(fontsize=14,rotation=30)\n",
    "plt.yticks(fontsize=14)\n",
    "plt.ylabel(\"Weight (in kgs)\",fontsize=15)\n",
    "plt.show()"
   ],
   "execution_count": null,
   "outputs": []
  },
  {
   "cell_type": "code",
   "metadata": {
    "id": "03vp2OYpdP9C",
    "outputId": "15fe0f80-7b8c-4b04-8de5-d219748f03b4"
   },
   "source": [
    "import numpy as np\n",
    "plt.figure(figsize=(7,5))\n",
    "# Main plot function 'hist'\n",
    "plt.hist(weight,color='red',edgecolor='k', alpha=0.75,bins=5)\n",
    "plt.title(\"Histogram of patient weight\",fontsize=18)\n",
    "plt.xlabel(\"Weight in kgs\",fontsize=15)\n",
    "plt.xticks(fontsize=15)\n",
    "plt.yticks(fontsize=15)\n",
    "plt.show()"
   ],
   "execution_count": null,
   "outputs": []
  },
  {
   "cell_type": "markdown",
   "metadata": {
    "collapsed": false,
    "id": "NTwn1flSdP9C"
   },
   "source": [
    "#### *Ejercicio 9*\n",
    "\n",
    "Toma como base el csv sobre vinos que vimos en la última clase y crea los siguientes diagramas:\n",
    "* Gráfico de puntos teniendo en cuenta 'Alcohol','Color intensity'\n",
    "* Histograma teniendo en cuenta el 'Alcohol percentage'\n",
    "* Un diagrama de barras de temática libre"
   ]
  },
  {
   "cell_type": "code",
   "execution_count": null,
   "outputs": [],
   "source": [
    "from sklearn import datasets\n",
    "import pandas as pd\n",
    "wine_data = datasets.load_wine()\n",
    "\n",
    "wine = pd.DataFrame(wine_data.data,columns=wine_data.feature_names)\n",
    "wine.head()\n",
    "wine.plot.scatter(x='alcohol',\n",
    "                  y='color_intensity')"
   ],
   "metadata": {
    "collapsed": false
   }
  },
  {
   "cell_type": "code",
   "execution_count": null,
   "outputs": [],
   "source": [
    "wine.hist(\"alcohol\")"
   ],
   "metadata": {
    "collapsed": false
   }
  },
  {
   "cell_type": "code",
   "execution_count": null,
   "outputs": [],
   "source": [
    "wine.plot.bar(x='alcohol', y='flavanoids', rot=0)"
   ],
   "metadata": {
    "collapsed": false
   }
  },
  {
   "cell_type": "markdown",
   "metadata": {
    "id": "ts75FI7iiJi-"
   },
   "source": [
    "### *Ejercicio 10*\n",
    "Accede a DataCamp y realiza el capítulo sobre \"Reading and Cleaning Data\" al cuál te ha dado invitado la profesora."
   ]
  },
  {
   "cell_type": "markdown",
   "metadata": {
    "collapsed": false,
    "id": "ravQd4-HdP9C"
   },
   "source": [
    "# Webgrafía\n",
    "\n",
    "\n",
    "* [Curso de Luz Frías](https://github.com/koldLight/curso-python-analisis-datos)\n",
    "* [Curso de Tirtjakupto Sarkar](https://github.com/tirthajyoti/Machine-Learning-with-Python)\n",
    "* *texto en cursiva*[DataCamp](https://www.datacamp.com/)\n"
   ]
  },
  {
   "cell_type": "markdown",
   "metadata": {
    "collapsed": false,
    "id": "5YbkjANjdP9C"
   },
   "source": [
    "# Licencia\n",
    "\n",
    "[Attributon-ShacerAlike 4.0 International](https://creativecommons.org/licenses/by-sa/4.0/)\n",
    "\n",
    "Puedes utilizar libremente este material, con las siguientes condiciones:\n",
    "\n",
    "* Atribuir la autoría a este documento.\n",
    "* Si lo utilizas y haces cambios, deberás liberarlo también bajo la misma licencia."
   ]
  }
 ]
}
