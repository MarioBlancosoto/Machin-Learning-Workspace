{
 "cells": [
  {
   "cell_type": "code",
   "execution_count": 45,
   "outputs": [],
   "source": [
    "# Review : Exploratory Data Analysis con Pandas y Preprocessing\n",
    "#### UD1. Introducción al Machine Learning\n",
    "#### MP. Sistemas de Aprendizaxe Automático\n",
    "#### IES de Teis (Vigo), Cristina Gómez Alonso"
   ],
   "metadata": {
    "collapsed": false
   }
  },
  {
   "cell_type": "markdown",
   "metadata": {
    "collapsed": true,
    "id": "kmOVlIdG3AHg"
   },
   "source": [
    "En este cuarto notebook repasaremos los conceptos trabajados anteriormente\n"
   ]
  },
  {
   "cell_type": "markdown",
   "metadata": {
    "id": "xs4L4L063AHg"
   },
   "source": [
    "### *Ejercicio 0: Importación*\n",
    "\n",
    "Carga en un dataframe el fichero adultss.csv y muestra las primeras 10 filas."
   ]
  },
  {
   "cell_type": "code",
   "execution_count": 46,
   "outputs": [
    {
     "data": {
      "text/plain": "    age         workclass  fnlwgt     education  education-num  \\\n0  50.0  Self-emp-not-inc   83311     Bachelors           13.0   \n1  38.0           Private  215646       HS-grad            9.0   \n2  53.0           Private  234721          11th            7.0   \n3  28.0           Private  338409     Bachelors           13.0   \n4  37.0           Private  284582       Masters           14.0   \n5  49.0           Private  160187           9th            5.0   \n6  52.0  Self-emp-not-inc  209642       HS-grad            9.0   \n7  31.0           Private   45781       Masters           14.0   \n8  42.0           Private  159449     Bachelors           13.0   \n9  37.0           Private  280464  Some-college           10.0   \n\n          marital-status         occupation   relationship   race     sex  \\\n0     Married-civ-spouse    Exec-managerial        Husband  White    Male   \n1               Divorced  Handlers-cleaners  Not-in-family  White    Male   \n2     Married-civ-spouse  Handlers-cleaners        Husband  Black    Male   \n3     Married-civ-spouse     Prof-specialty           Wife  Black  Female   \n4     Married-civ-spouse    Exec-managerial           Wife  White  Female   \n5  Married-spouse-absent      Other-service  Not-in-family  Black  Female   \n6     Married-civ-spouse    Exec-managerial        Husband  White    Male   \n7          Never-married     Prof-specialty  Not-in-family  White  Female   \n8     Married-civ-spouse    Exec-managerial        Husband  White    Male   \n9     Married-civ-spouse    Exec-managerial        Husband  Black    Male   \n\n   capital-gain  capital-loss  hours-per-week native-country  gains  \n0             0             0            13.0  United-States  <=50K  \n1             0             0            40.0  United-States  <=50K  \n2             0             0            40.0  United-States  <=50K  \n3             0             0            40.0           Cuba  <=50K  \n4             0             0            40.0  United-States  <=50K  \n5             0             0            16.0        Jamaica  <=50K  \n6             0             0            45.0  United-States   >50K  \n7         14084             0            50.0  United-States   >50K  \n8          5178             0            40.0  United-States   >50K  \n9             0             0            80.0  United-States   >50K  ",
      "text/html": "<div>\n<style scoped>\n    .dataframe tbody tr th:only-of-type {\n        vertical-align: middle;\n    }\n\n    .dataframe tbody tr th {\n        vertical-align: top;\n    }\n\n    .dataframe thead th {\n        text-align: right;\n    }\n</style>\n<table border=\"1\" class=\"dataframe\">\n  <thead>\n    <tr style=\"text-align: right;\">\n      <th></th>\n      <th>age</th>\n      <th>workclass</th>\n      <th>fnlwgt</th>\n      <th>education</th>\n      <th>education-num</th>\n      <th>marital-status</th>\n      <th>occupation</th>\n      <th>relationship</th>\n      <th>race</th>\n      <th>sex</th>\n      <th>capital-gain</th>\n      <th>capital-loss</th>\n      <th>hours-per-week</th>\n      <th>native-country</th>\n      <th>gains</th>\n    </tr>\n  </thead>\n  <tbody>\n    <tr>\n      <th>0</th>\n      <td>50.0</td>\n      <td>Self-emp-not-inc</td>\n      <td>83311</td>\n      <td>Bachelors</td>\n      <td>13.0</td>\n      <td>Married-civ-spouse</td>\n      <td>Exec-managerial</td>\n      <td>Husband</td>\n      <td>White</td>\n      <td>Male</td>\n      <td>0</td>\n      <td>0</td>\n      <td>13.0</td>\n      <td>United-States</td>\n      <td>&lt;=50K</td>\n    </tr>\n    <tr>\n      <th>1</th>\n      <td>38.0</td>\n      <td>Private</td>\n      <td>215646</td>\n      <td>HS-grad</td>\n      <td>9.0</td>\n      <td>Divorced</td>\n      <td>Handlers-cleaners</td>\n      <td>Not-in-family</td>\n      <td>White</td>\n      <td>Male</td>\n      <td>0</td>\n      <td>0</td>\n      <td>40.0</td>\n      <td>United-States</td>\n      <td>&lt;=50K</td>\n    </tr>\n    <tr>\n      <th>2</th>\n      <td>53.0</td>\n      <td>Private</td>\n      <td>234721</td>\n      <td>11th</td>\n      <td>7.0</td>\n      <td>Married-civ-spouse</td>\n      <td>Handlers-cleaners</td>\n      <td>Husband</td>\n      <td>Black</td>\n      <td>Male</td>\n      <td>0</td>\n      <td>0</td>\n      <td>40.0</td>\n      <td>United-States</td>\n      <td>&lt;=50K</td>\n    </tr>\n    <tr>\n      <th>3</th>\n      <td>28.0</td>\n      <td>Private</td>\n      <td>338409</td>\n      <td>Bachelors</td>\n      <td>13.0</td>\n      <td>Married-civ-spouse</td>\n      <td>Prof-specialty</td>\n      <td>Wife</td>\n      <td>Black</td>\n      <td>Female</td>\n      <td>0</td>\n      <td>0</td>\n      <td>40.0</td>\n      <td>Cuba</td>\n      <td>&lt;=50K</td>\n    </tr>\n    <tr>\n      <th>4</th>\n      <td>37.0</td>\n      <td>Private</td>\n      <td>284582</td>\n      <td>Masters</td>\n      <td>14.0</td>\n      <td>Married-civ-spouse</td>\n      <td>Exec-managerial</td>\n      <td>Wife</td>\n      <td>White</td>\n      <td>Female</td>\n      <td>0</td>\n      <td>0</td>\n      <td>40.0</td>\n      <td>United-States</td>\n      <td>&lt;=50K</td>\n    </tr>\n    <tr>\n      <th>5</th>\n      <td>49.0</td>\n      <td>Private</td>\n      <td>160187</td>\n      <td>9th</td>\n      <td>5.0</td>\n      <td>Married-spouse-absent</td>\n      <td>Other-service</td>\n      <td>Not-in-family</td>\n      <td>Black</td>\n      <td>Female</td>\n      <td>0</td>\n      <td>0</td>\n      <td>16.0</td>\n      <td>Jamaica</td>\n      <td>&lt;=50K</td>\n    </tr>\n    <tr>\n      <th>6</th>\n      <td>52.0</td>\n      <td>Self-emp-not-inc</td>\n      <td>209642</td>\n      <td>HS-grad</td>\n      <td>9.0</td>\n      <td>Married-civ-spouse</td>\n      <td>Exec-managerial</td>\n      <td>Husband</td>\n      <td>White</td>\n      <td>Male</td>\n      <td>0</td>\n      <td>0</td>\n      <td>45.0</td>\n      <td>United-States</td>\n      <td>&gt;50K</td>\n    </tr>\n    <tr>\n      <th>7</th>\n      <td>31.0</td>\n      <td>Private</td>\n      <td>45781</td>\n      <td>Masters</td>\n      <td>14.0</td>\n      <td>Never-married</td>\n      <td>Prof-specialty</td>\n      <td>Not-in-family</td>\n      <td>White</td>\n      <td>Female</td>\n      <td>14084</td>\n      <td>0</td>\n      <td>50.0</td>\n      <td>United-States</td>\n      <td>&gt;50K</td>\n    </tr>\n    <tr>\n      <th>8</th>\n      <td>42.0</td>\n      <td>Private</td>\n      <td>159449</td>\n      <td>Bachelors</td>\n      <td>13.0</td>\n      <td>Married-civ-spouse</td>\n      <td>Exec-managerial</td>\n      <td>Husband</td>\n      <td>White</td>\n      <td>Male</td>\n      <td>5178</td>\n      <td>0</td>\n      <td>40.0</td>\n      <td>United-States</td>\n      <td>&gt;50K</td>\n    </tr>\n    <tr>\n      <th>9</th>\n      <td>37.0</td>\n      <td>Private</td>\n      <td>280464</td>\n      <td>Some-college</td>\n      <td>10.0</td>\n      <td>Married-civ-spouse</td>\n      <td>Exec-managerial</td>\n      <td>Husband</td>\n      <td>Black</td>\n      <td>Male</td>\n      <td>0</td>\n      <td>0</td>\n      <td>80.0</td>\n      <td>United-States</td>\n      <td>&gt;50K</td>\n    </tr>\n  </tbody>\n</table>\n</div>"
     },
     "execution_count": 46,
     "metadata": {},
     "output_type": "execute_result"
    }
   ],
   "source": [
    "import pandas as pd\n",
    "adults = pd.read_csv('data/adult.csv',skipinitialspace=True,index_col=False)\n",
    "adults.head(10)"
   ],
   "metadata": {
    "id": "7cfjCPne3AHh"
   }
  },
  {
   "cell_type": "markdown",
   "source": [
    "### *Ejercicio 1: Datos generales*\n",
    "\n",
    "1. ¿Cuántas filas y columnas tiene el dataset?"
   ],
   "metadata": {
    "collapsed": false
   }
  },
  {
   "cell_type": "code",
   "execution_count": 47,
   "outputs": [
    {
     "data": {
      "text/plain": "(32560, 15)"
     },
     "execution_count": 47,
     "metadata": {},
     "output_type": "execute_result"
    }
   ],
   "source": [
    "adults.shape"
   ],
   "metadata": {
    "id": "QJgkZ2OJ3AHi"
   }
  },
  {
   "cell_type": "markdown",
   "source": [
    "2. Muestra información detallada de cada columna. Para cada tipo de datos, ¿Cuántas columnas tienes de dicho tipo?"
   ],
   "metadata": {
    "collapsed": false,
    "id": "rul7JpSS3AHj"
   }
  },
  {
   "cell_type": "code",
   "execution_count": 48,
   "outputs": [
    {
     "name": "stdout",
     "output_type": "stream",
     "text": [
      "<class 'pandas.core.frame.DataFrame'>\n",
      "RangeIndex: 32560 entries, 0 to 32559\n",
      "Data columns (total 15 columns):\n",
      " #   Column          Non-Null Count  Dtype  \n",
      "---  ------          --------------  -----  \n",
      " 0   age             32559 non-null  float64\n",
      " 1   workclass       32557 non-null  object \n",
      " 2   fnlwgt          32560 non-null  int64  \n",
      " 3   education       32560 non-null  object \n",
      " 4   education-num   32554 non-null  float64\n",
      " 5   marital-status  32560 non-null  object \n",
      " 6   occupation      32560 non-null  object \n",
      " 7   relationship    32560 non-null  object \n",
      " 8   race            32558 non-null  object \n",
      " 9   sex             32560 non-null  object \n",
      " 10  capital-gain    32560 non-null  int64  \n",
      " 11  capital-loss    32560 non-null  int64  \n",
      " 12  hours-per-week  32552 non-null  float64\n",
      " 13  native-country  32560 non-null  object \n",
      " 14  gains           32560 non-null  object \n",
      "dtypes: float64(3), int64(3), object(9)\n",
      "memory usage: 3.7+ MB\n"
     ]
    }
   ],
   "source": [
    "adults.info()"
   ],
   "metadata": {
    "id": "hvNK25tF3AHj"
   }
  },
  {
   "cell_type": "markdown",
   "source": [
    "3. Muestra información estadística de cada columna numérica y responde a las siguientes preguntas.¿Cuantos años tiene el usuario más mayor y el más joven? ¿Cuál es la mayor ganancia para un usuario? ¿En qué cuartil se superan las 40h semanales de trabajo?"
   ],
   "metadata": {
    "collapsed": false,
    "id": "8KqSI9A73AHk"
   }
  },
  {
   "cell_type": "code",
   "execution_count": 49,
   "outputs": [
    {
     "data": {
      "text/plain": "48.0"
     },
     "execution_count": 49,
     "metadata": {},
     "output_type": "execute_result"
    }
   ],
   "source": [
    "adults.describe()\n",
    "adults['hours-per-week'].quantile(0.8)"
   ],
   "metadata": {
    "id": "W-NU8kVh3AHk"
   }
  },
  {
   "cell_type": "markdown",
   "source": [
    "4. ¿Existen nulos en alguna de las columnas?"
   ],
   "metadata": {
    "collapsed": false,
    "id": "4ZCBSF183AHl"
   }
  },
  {
   "cell_type": "code",
   "execution_count": 50,
   "outputs": [
    {
     "data": {
      "text/plain": "      age  workclass  fnlwgt     education  education-num      marital-status  \\\n33   22.0  State-gov  311512  Some-college            NaN  Married-civ-spouse   \n328  66.0    Private  127921       HS-grad            NaN       Never-married   \n375  33.0    Private  267404       HS-grad            NaN  Married-civ-spouse   \n409  41.0  Local-gov   42346  Some-college            NaN            Divorced   \n439  29.0    Private  363425     Bachelors            NaN       Never-married   \n807  64.0    Private  270333     Bachelors            NaN  Married-civ-spouse   \n\n           occupation   relationship   race     sex  capital-gain  \\\n33      Other-service        Husband  Black    Male             0   \n328  Transport-moving  Not-in-family  White    Male          2050   \n375      Craft-repair           Wife  White  Female             0   \n409     Other-service  Not-in-family  Black  Female             0   \n439    Prof-specialty  Not-in-family  White    Male             0   \n807    Prof-specialty        Husband  White    Male             0   \n\n     capital-loss  hours-per-week native-country  gains  \n33              0            15.0  United-States  <=50K  \n328             0            55.0  United-States  <=50K  \n375             0            40.0  United-States  <=50K  \n409             0            24.0  United-States  <=50K  \n439             0            40.0  United-States  <=50K  \n807             0            40.0  United-States   >50K  ",
      "text/html": "<div>\n<style scoped>\n    .dataframe tbody tr th:only-of-type {\n        vertical-align: middle;\n    }\n\n    .dataframe tbody tr th {\n        vertical-align: top;\n    }\n\n    .dataframe thead th {\n        text-align: right;\n    }\n</style>\n<table border=\"1\" class=\"dataframe\">\n  <thead>\n    <tr style=\"text-align: right;\">\n      <th></th>\n      <th>age</th>\n      <th>workclass</th>\n      <th>fnlwgt</th>\n      <th>education</th>\n      <th>education-num</th>\n      <th>marital-status</th>\n      <th>occupation</th>\n      <th>relationship</th>\n      <th>race</th>\n      <th>sex</th>\n      <th>capital-gain</th>\n      <th>capital-loss</th>\n      <th>hours-per-week</th>\n      <th>native-country</th>\n      <th>gains</th>\n    </tr>\n  </thead>\n  <tbody>\n    <tr>\n      <th>33</th>\n      <td>22.0</td>\n      <td>State-gov</td>\n      <td>311512</td>\n      <td>Some-college</td>\n      <td>NaN</td>\n      <td>Married-civ-spouse</td>\n      <td>Other-service</td>\n      <td>Husband</td>\n      <td>Black</td>\n      <td>Male</td>\n      <td>0</td>\n      <td>0</td>\n      <td>15.0</td>\n      <td>United-States</td>\n      <td>&lt;=50K</td>\n    </tr>\n    <tr>\n      <th>328</th>\n      <td>66.0</td>\n      <td>Private</td>\n      <td>127921</td>\n      <td>HS-grad</td>\n      <td>NaN</td>\n      <td>Never-married</td>\n      <td>Transport-moving</td>\n      <td>Not-in-family</td>\n      <td>White</td>\n      <td>Male</td>\n      <td>2050</td>\n      <td>0</td>\n      <td>55.0</td>\n      <td>United-States</td>\n      <td>&lt;=50K</td>\n    </tr>\n    <tr>\n      <th>375</th>\n      <td>33.0</td>\n      <td>Private</td>\n      <td>267404</td>\n      <td>HS-grad</td>\n      <td>NaN</td>\n      <td>Married-civ-spouse</td>\n      <td>Craft-repair</td>\n      <td>Wife</td>\n      <td>White</td>\n      <td>Female</td>\n      <td>0</td>\n      <td>0</td>\n      <td>40.0</td>\n      <td>United-States</td>\n      <td>&lt;=50K</td>\n    </tr>\n    <tr>\n      <th>409</th>\n      <td>41.0</td>\n      <td>Local-gov</td>\n      <td>42346</td>\n      <td>Some-college</td>\n      <td>NaN</td>\n      <td>Divorced</td>\n      <td>Other-service</td>\n      <td>Not-in-family</td>\n      <td>Black</td>\n      <td>Female</td>\n      <td>0</td>\n      <td>0</td>\n      <td>24.0</td>\n      <td>United-States</td>\n      <td>&lt;=50K</td>\n    </tr>\n    <tr>\n      <th>439</th>\n      <td>29.0</td>\n      <td>Private</td>\n      <td>363425</td>\n      <td>Bachelors</td>\n      <td>NaN</td>\n      <td>Never-married</td>\n      <td>Prof-specialty</td>\n      <td>Not-in-family</td>\n      <td>White</td>\n      <td>Male</td>\n      <td>0</td>\n      <td>0</td>\n      <td>40.0</td>\n      <td>United-States</td>\n      <td>&lt;=50K</td>\n    </tr>\n    <tr>\n      <th>807</th>\n      <td>64.0</td>\n      <td>Private</td>\n      <td>270333</td>\n      <td>Bachelors</td>\n      <td>NaN</td>\n      <td>Married-civ-spouse</td>\n      <td>Prof-specialty</td>\n      <td>Husband</td>\n      <td>White</td>\n      <td>Male</td>\n      <td>0</td>\n      <td>0</td>\n      <td>40.0</td>\n      <td>United-States</td>\n      <td>&gt;50K</td>\n    </tr>\n  </tbody>\n</table>\n</div>"
     },
     "execution_count": 50,
     "metadata": {},
     "output_type": "execute_result"
    }
   ],
   "source": [
    "#adults.isnull().sum()\n",
    "adults[adults['education-num'].isnull()]"
   ],
   "metadata": {
    "id": "wymyWX5D3AHl"
   }
  },
  {
   "cell_type": "markdown",
   "source": [
    "### *Ejercicio 3: Índices*\n",
    "\n",
    "1. ¿Qué valores diferentes tiene la columna relationship? ¿En qué proporción?"
   ],
   "metadata": {
    "collapsed": false,
    "id": "aGVX2dr33AHl"
   }
  },
  {
   "cell_type": "code",
   "execution_count": 51,
   "outputs": [
    {
     "data": {
      "text/plain": "Husband           13193\nNot-in-family      8304\nOwn-child          5068\nUnmarried          3446\nWife               1568\nOther-relative      981\nName: relationship, dtype: int64"
     },
     "execution_count": 51,
     "metadata": {},
     "output_type": "execute_result"
    }
   ],
   "source": [
    "adults['relationship'].value_counts()\n",
    "#adults['relationship'].value_counts(normalize=True)*100"
   ],
   "metadata": {
    "id": "94sD1qnW3AHm"
   }
  },
  {
   "cell_type": "markdown",
   "source": [
    "2. ¿Y la columna native-country?"
   ],
   "metadata": {
    "collapsed": false,
    "id": "ociQToyB3AHm"
   }
  },
  {
   "cell_type": "code",
   "execution_count": 52,
   "outputs": [
    {
     "data": {
      "text/plain": "Husband           13193\nNot-in-family      8304\nOwn-child          5068\nUnmarried          3446\nWife               1568\nOther-relative      981\nName: relationship, dtype: int64"
     },
     "execution_count": 52,
     "metadata": {},
     "output_type": "execute_result"
    }
   ],
   "source": [
    "adults['relationship'].value_counts()"
   ],
   "metadata": {
    "id": "vewotcjQ3AHn"
   }
  },
  {
   "cell_type": "markdown",
   "source": [],
   "metadata": {
    "collapsed": false
   }
  },
  {
   "cell_type": "markdown",
   "source": [
    "3. Crea un nuevo dataframe llamado adultss_new_index con un índice para las columna relationship y native-country."
   ],
   "metadata": {
    "collapsed": false,
    "id": "dhN73ylk3AHn"
   }
  },
  {
   "cell_type": "markdown",
   "source": [],
   "metadata": {
    "collapsed": false
   }
  },
  {
   "cell_type": "code",
   "execution_count": 53,
   "outputs": [
    {
     "name": "stderr",
     "output_type": "stream",
     "text": [
      "/tmp/ipykernel_4975/4052346241.py:1: FutureWarning: In a future version of pandas all arguments of DataFrame.set_index except for the argument 'keys' will be keyword-only.\n",
      "  adults_new_index = adults.set_index(['relationship'],['native-country'])\n"
     ]
    }
   ],
   "source": [
    "adults_new_index = adults.set_index(['relationship'],['native-country'])\n",
    "adults_new_index.sort_index(inplace=True)"
   ],
   "metadata": {
    "id": "verQzFUg3AHn"
   }
  },
  {
   "cell_type": "markdown",
   "source": [
    "### *Ejercicio 4: Selección de datos específicos por columna/fila*\n",
    "\n",
    "1. Muestra los datos exclusivamente de las columnas edad, sexo y ganancias.\n",
    "2. Sobre el conjunto anterior muestra las últimas 10 filas."
   ],
   "metadata": {
    "collapsed": false,
    "id": "eowfUgOc3AHo"
   }
  },
  {
   "cell_type": "code",
   "execution_count": 53,
   "outputs": [],
   "source": [],
   "metadata": {
    "id": "lnjOH1Jc3AHo"
   }
  },
  {
   "cell_type": "markdown",
   "source": [
    "3. Muestra los datos de las columnas primera, segunda, tercera y quinta para las 100 primeras filas. Ordena el resultado de forma descendente por edad."
   ],
   "metadata": {
    "collapsed": false,
    "id": "RzjPYw383AHo"
   }
  },
  {
   "cell_type": "code",
   "execution_count": 56,
   "outputs": [
    {
     "data": {
      "text/plain": "        age workclass  fnlwgt  education  education-num      marital-status  \\\n22478  17.0   Private  184198       11th            7.0       Never-married   \n6541   17.0         ?  454614       11th            7.0       Never-married   \n19235  17.0   Private  225106       10th            6.0       Never-married   \n26806  17.0   Private  101626        9th            5.0       Never-married   \n608    17.0   Private  169658       10th            6.0       Never-married   \n...     ...       ...     ...        ...            ...                 ...   \n1934   90.0   Private  221832  Bachelors           13.0  Married-civ-spouse   \n18412  90.0   Private  313749  Bachelors           13.0       Never-married   \n15355  90.0   Private   90523    HS-grad            9.0             Widowed   \n18276  90.0   Private  311184  Bachelors           13.0  Married-civ-spouse   \n50      NaN   Private  226956    HS-grad            9.0       Never-married   \n\n              occupation relationship   race     sex  capital-gain  \\\n22478              Sales    Own-child  White  Female             0   \n6541                   ?    Own-child  White  Female             0   \n19235      Other-service    Own-child  White  Female             0   \n26806  Machine-op-inspct    Own-child  White    Male             0   \n608        Other-service    Own-child  White  Female             0   \n...                  ...          ...    ...     ...           ...   \n1934     Exec-managerial      Husband  White    Male             0   \n18412     Prof-specialty    Own-child  White  Female             0   \n15355   Transport-moving    Unmarried  White    Male             0   \n18276              Sales      Husband  White    Male             0   \n50         Other-service    Own-child  White  Female             0   \n\n       capital-loss  hours-per-week native-country  gains  \n22478             0            13.0  United-States  <=50K  \n6541              0             8.0  United-States  <=50K  \n19235          1602            18.0  United-States  <=50K  \n26806             0            20.0  United-States  <=50K  \n608               0             NaN  United-States  <=50K  \n...             ...             ...            ...    ...  \n1934              0            45.0  United-States  <=50K  \n18412             0            10.0  United-States  <=50K  \n15355             0            99.0  United-States  <=50K  \n18276             0            20.0              ?  <=50K  \n50                0            30.0              ?  <=50K  \n\n[32560 rows x 15 columns]",
      "text/html": "<div>\n<style scoped>\n    .dataframe tbody tr th:only-of-type {\n        vertical-align: middle;\n    }\n\n    .dataframe tbody tr th {\n        vertical-align: top;\n    }\n\n    .dataframe thead th {\n        text-align: right;\n    }\n</style>\n<table border=\"1\" class=\"dataframe\">\n  <thead>\n    <tr style=\"text-align: right;\">\n      <th></th>\n      <th>age</th>\n      <th>workclass</th>\n      <th>fnlwgt</th>\n      <th>education</th>\n      <th>education-num</th>\n      <th>marital-status</th>\n      <th>occupation</th>\n      <th>relationship</th>\n      <th>race</th>\n      <th>sex</th>\n      <th>capital-gain</th>\n      <th>capital-loss</th>\n      <th>hours-per-week</th>\n      <th>native-country</th>\n      <th>gains</th>\n    </tr>\n  </thead>\n  <tbody>\n    <tr>\n      <th>22478</th>\n      <td>17.0</td>\n      <td>Private</td>\n      <td>184198</td>\n      <td>11th</td>\n      <td>7.0</td>\n      <td>Never-married</td>\n      <td>Sales</td>\n      <td>Own-child</td>\n      <td>White</td>\n      <td>Female</td>\n      <td>0</td>\n      <td>0</td>\n      <td>13.0</td>\n      <td>United-States</td>\n      <td>&lt;=50K</td>\n    </tr>\n    <tr>\n      <th>6541</th>\n      <td>17.0</td>\n      <td>?</td>\n      <td>454614</td>\n      <td>11th</td>\n      <td>7.0</td>\n      <td>Never-married</td>\n      <td>?</td>\n      <td>Own-child</td>\n      <td>White</td>\n      <td>Female</td>\n      <td>0</td>\n      <td>0</td>\n      <td>8.0</td>\n      <td>United-States</td>\n      <td>&lt;=50K</td>\n    </tr>\n    <tr>\n      <th>19235</th>\n      <td>17.0</td>\n      <td>Private</td>\n      <td>225106</td>\n      <td>10th</td>\n      <td>6.0</td>\n      <td>Never-married</td>\n      <td>Other-service</td>\n      <td>Own-child</td>\n      <td>White</td>\n      <td>Female</td>\n      <td>0</td>\n      <td>1602</td>\n      <td>18.0</td>\n      <td>United-States</td>\n      <td>&lt;=50K</td>\n    </tr>\n    <tr>\n      <th>26806</th>\n      <td>17.0</td>\n      <td>Private</td>\n      <td>101626</td>\n      <td>9th</td>\n      <td>5.0</td>\n      <td>Never-married</td>\n      <td>Machine-op-inspct</td>\n      <td>Own-child</td>\n      <td>White</td>\n      <td>Male</td>\n      <td>0</td>\n      <td>0</td>\n      <td>20.0</td>\n      <td>United-States</td>\n      <td>&lt;=50K</td>\n    </tr>\n    <tr>\n      <th>608</th>\n      <td>17.0</td>\n      <td>Private</td>\n      <td>169658</td>\n      <td>10th</td>\n      <td>6.0</td>\n      <td>Never-married</td>\n      <td>Other-service</td>\n      <td>Own-child</td>\n      <td>White</td>\n      <td>Female</td>\n      <td>0</td>\n      <td>0</td>\n      <td>NaN</td>\n      <td>United-States</td>\n      <td>&lt;=50K</td>\n    </tr>\n    <tr>\n      <th>...</th>\n      <td>...</td>\n      <td>...</td>\n      <td>...</td>\n      <td>...</td>\n      <td>...</td>\n      <td>...</td>\n      <td>...</td>\n      <td>...</td>\n      <td>...</td>\n      <td>...</td>\n      <td>...</td>\n      <td>...</td>\n      <td>...</td>\n      <td>...</td>\n      <td>...</td>\n    </tr>\n    <tr>\n      <th>1934</th>\n      <td>90.0</td>\n      <td>Private</td>\n      <td>221832</td>\n      <td>Bachelors</td>\n      <td>13.0</td>\n      <td>Married-civ-spouse</td>\n      <td>Exec-managerial</td>\n      <td>Husband</td>\n      <td>White</td>\n      <td>Male</td>\n      <td>0</td>\n      <td>0</td>\n      <td>45.0</td>\n      <td>United-States</td>\n      <td>&lt;=50K</td>\n    </tr>\n    <tr>\n      <th>18412</th>\n      <td>90.0</td>\n      <td>Private</td>\n      <td>313749</td>\n      <td>Bachelors</td>\n      <td>13.0</td>\n      <td>Never-married</td>\n      <td>Prof-specialty</td>\n      <td>Own-child</td>\n      <td>White</td>\n      <td>Female</td>\n      <td>0</td>\n      <td>0</td>\n      <td>10.0</td>\n      <td>United-States</td>\n      <td>&lt;=50K</td>\n    </tr>\n    <tr>\n      <th>15355</th>\n      <td>90.0</td>\n      <td>Private</td>\n      <td>90523</td>\n      <td>HS-grad</td>\n      <td>9.0</td>\n      <td>Widowed</td>\n      <td>Transport-moving</td>\n      <td>Unmarried</td>\n      <td>White</td>\n      <td>Male</td>\n      <td>0</td>\n      <td>0</td>\n      <td>99.0</td>\n      <td>United-States</td>\n      <td>&lt;=50K</td>\n    </tr>\n    <tr>\n      <th>18276</th>\n      <td>90.0</td>\n      <td>Private</td>\n      <td>311184</td>\n      <td>Bachelors</td>\n      <td>13.0</td>\n      <td>Married-civ-spouse</td>\n      <td>Sales</td>\n      <td>Husband</td>\n      <td>White</td>\n      <td>Male</td>\n      <td>0</td>\n      <td>0</td>\n      <td>20.0</td>\n      <td>?</td>\n      <td>&lt;=50K</td>\n    </tr>\n    <tr>\n      <th>50</th>\n      <td>NaN</td>\n      <td>Private</td>\n      <td>226956</td>\n      <td>HS-grad</td>\n      <td>9.0</td>\n      <td>Never-married</td>\n      <td>Other-service</td>\n      <td>Own-child</td>\n      <td>White</td>\n      <td>Female</td>\n      <td>0</td>\n      <td>0</td>\n      <td>30.0</td>\n      <td>?</td>\n      <td>&lt;=50K</td>\n    </tr>\n  </tbody>\n</table>\n<p>32560 rows × 15 columns</p>\n</div>"
     },
     "execution_count": 56,
     "metadata": {},
     "output_type": "execute_result"
    }
   ],
   "source": [
    "adults[['age','sex','gains']].tail(10)\n",
    "\n",
    "adults.iloc[:100,[0,1,2,4]]\n",
    "adults.sort_values(by=\"age\")"
   ],
   "metadata": {
    "id": "90PCxEBr3AHp"
   }
  },
  {
   "cell_type": "markdown",
   "source": [
    "4. Muestra las 4 últimas columnas para todas las filas."
   ],
   "metadata": {
    "collapsed": false,
    "id": "Txx2dmiI3AHp"
   }
  },
  {
   "cell_type": "code",
   "execution_count": null,
   "outputs": [],
   "source": [
    "adults.iloc[:,-4:]"
   ],
   "metadata": {
    "id": "QrNZ4enP3AHp"
   }
  },
  {
   "cell_type": "markdown",
   "source": [
    "5. Utilizando el dataframe que has creado en el ejercicio 3.3, recupera el número de usuarios/as de nacionalidad cubana y solteros/as.  ¿Cómo lo harías sobre el dataframe adultss que no tiene dicho índice?"
   ],
   "metadata": {
    "collapsed": false,
    "id": "0q53Be6A3AHp"
   }
  },
  {
   "cell_type": "code",
   "execution_count": null,
   "outputs": [],
   "source": [
    "adults[(adults['relationship'] =='Unmarried') & (adults['native-country'] =='Cuba')]"
   ],
   "metadata": {
    "id": "0dH4XbPo3AHp"
   }
  },
  {
   "cell_type": "markdown",
   "source": [
    "6. EXTRA1: Busca todas aquellas mujeres solteras de nacionalidad cubana"
   ],
   "metadata": {
    "collapsed": false,
    "id": "bb6KtA6o3AHp"
   }
  },
  {
   "cell_type": "code",
   "execution_count": null,
   "outputs": [],
   "source": [
    "\n",
    "adults[(adults['relationship'] =='Unmarried') & (adults['native-country'] =='Cuba') & (adults['sex']=='Female')]"
   ],
   "metadata": {
    "id": "UhVQBd6l3AHq"
   }
  },
  {
   "cell_type": "markdown",
   "source": [
    "7. EXTRA2: Busca todas aquellas mujeres solteras de nacionalidad cubana que trabajen más de 40 horas a la semana"
   ],
   "metadata": {
    "collapsed": false,
    "id": "bEPZm57y3AHr"
   }
  },
  {
   "cell_type": "code",
   "execution_count": null,
   "outputs": [],
   "source": [],
   "metadata": {
    "id": "m8itTOqA3AHr"
   }
  },
  {
   "cell_type": "markdown",
   "source": [
    "8. EXTRA3: Crea un nuevo dataframe que contenga exclusivamente a aquellos usuarios con nacionalidad portuguesa, francesa o nord-americana. Pista: utiliza la función isin. Borra las columnas occupation, capital-gain y capital-loss. Crea una nueva columna 'age-range' que tome los valores young para usuarios menores de 30 años, old para mayores de 60 y intermediate en cualquier otro caso."
   ],
   "metadata": {
    "collapsed": false,
    "id": "-2P6hgjk3AHr"
   }
  },
  {
   "cell_type": "code",
   "execution_count": null,
   "outputs": [],
   "source": [],
   "metadata": {
    "id": "atYBx5U23AHr"
   }
  },
  {
   "cell_type": "markdown",
   "source": [
    "9. EXTRA4: Busca información sobre las funciones isnull, dropna y fillna. ¿Para qué se utilizan? Por un ejemplo interesante para cada una de ellas dónde se demuestre su utilidad."
   ],
   "metadata": {
    "collapsed": false,
    "id": "FcvG2wNx3AHr"
   }
  },
  {
   "cell_type": "markdown",
   "source": [
    "### *Ejercicio 5: Agrupaciones*\n",
    "\n",
    "1. Tomando los datos presentes en este dataset, ¿Cuál es la nacionalidad que tiene una mayor media de edad? ¿Y menor media?\n"
   ],
   "metadata": {
    "collapsed": false,
    "id": "FCyQAO9N3AHs"
   }
  },
  {
   "cell_type": "code",
   "execution_count": null,
   "outputs": [],
   "source": [],
   "metadata": {
    "id": "nmD5Few53AHs"
   }
  },
  {
   "cell_type": "markdown",
   "source": [
    "### *Ejercicio 6: Gráficos*\n",
    "\n",
    "1. Para cada columna (o feature) numérica, crea un gráfico de barras que muestre su distribución de valores.\n"
   ],
   "metadata": {
    "collapsed": false,
    "id": "zFkeGLjM3AHs"
   }
  },
  {
   "cell_type": "code",
   "execution_count": null,
   "outputs": [],
   "source": [],
   "metadata": {
    "id": "ATv2ahfz3AHt"
   }
  },
  {
   "cell_type": "markdown",
   "source": [
    "2. EXTRA: A continuación tienes un código que crea gráficos que muestran la distribución de las ganancias respecto al resto de columnas. Extrae conclusiones de los resultados y propón realizar estos gráficos para otra columna que consideres de interés."
   ],
   "metadata": {
    "collapsed": false,
    "id": "k-_NjuKp3AHt"
   }
  },
  {
   "cell_type": "code",
   "execution_count": null,
   "outputs": [],
   "source": [
    "import matplotlib.pyplot as plt\n",
    "import seaborn as sns\n",
    "import numpy as np\n",
    "\n",
    "df_numerics = adults.select_dtypes(include = np.number)\n",
    "\n",
    "figure=plt.figure(figsize = (15, 6))\n",
    "\n",
    "for i, column in enumerate(df_numerics.columns, 1):\n",
    "    axes = figure.add_subplot(3,3,i)\n",
    "    sns.kdeplot(x = df_numerics[column], hue = adults['gains'], fill = True, ax = axes)\n",
    "    figure.tight_layout()"
   ],
   "metadata": {
    "id": "KJddAOhm3AHt",
    "outputId": "9f2c880f-1891-475b-f036-e96255758fb4"
   }
  },
  {
   "cell_type": "markdown",
   "source": [
    "### *Ejercicio 7: Valores missing*\n",
    "\n",
    "1. Gestiona los valores nulos con la técnica del rellenado. ¿Qué valores piensas que deberían de tener los nulos presentes en el dataset?"
   ],
   "metadata": {
    "collapsed": false,
    "id": "LcqlA7AT3AHu"
   }
  },
  {
   "cell_type": "code",
   "execution_count": null,
   "outputs": [],
   "source": [],
   "metadata": {
    "id": "uRWErVY13AHu"
   }
  },
  {
   "cell_type": "markdown",
   "source": [
    "2. Borra las columnas fnlwgt, education, capital_gain y capital_loss."
   ],
   "metadata": {
    "collapsed": false,
    "id": "h9ugRHFt3AHv"
   }
  },
  {
   "cell_type": "code",
   "execution_count": null,
   "outputs": [],
   "source": [],
   "metadata": {
    "id": "c_qMGKAu3AHv"
   }
  },
  {
   "cell_type": "markdown",
   "source": [
    "### *Ejercicio 8: Datos categóricos*"
   ],
   "metadata": {
    "collapsed": false,
    "id": "4-CRImUK3AHv"
   }
  },
  {
   "cell_type": "markdown",
   "source": [
    "1. Transforma todas las columnas categóricas a numéricas con un LabelEncoder."
   ],
   "metadata": {
    "collapsed": false,
    "id": "vUUsaloB3AHv"
   }
  },
  {
   "cell_type": "code",
   "execution_count": null,
   "outputs": [],
   "source": [],
   "metadata": {
    "id": "YOmwL4JQ3AHv"
   }
  },
  {
   "cell_type": "markdown",
   "source": [
    "### *Ejercicio 9: Escalado de los datos*\n",
    "\n",
    "1. EXTRA1: Divide el dataset en 4 grupos (training y testing).\n",
    "2. EXTRA2: Escala las columnas categóricas con un StandardScaler."
   ],
   "metadata": {
    "collapsed": false,
    "id": "w-4DRz813AHv"
   }
  },
  {
   "cell_type": "markdown",
   "source": [
    "# Webgrafía\n",
    "\n",
    "\n",
    "[Curso de Cesar Guirò](https://cesguiro.es/doku.php?id=clase:ia:saa:start)\n",
    "[Curso de Luz Frías](https://github.com/koldLight/curso-python-analisis-datos)\n",
    "[Curso de Tirtjakupto Sarkar](https://github.com/tirthajyoti/Machine-Learning-with-Python)\n",
    "[DataCamp](https://www.datacamp.com/)\n"
   ],
   "metadata": {
    "collapsed": false,
    "id": "dWUKBXFL3AHw"
   }
  },
  {
   "cell_type": "markdown",
   "source": [
    "# Licencia\n",
    "\n",
    "[Attributon-ShacerAlike 4.0 International](https://creativecommons.org/licenses/by-sa/4.0/)\n",
    "\n",
    "Puedes utilizar libremente este material, con las siguientes condiciones:\n",
    "\n",
    "* Atribuir la autoría a este documento.\n",
    "* Si lo utilizas y haces cambios, deberás liberarlo también bajo la misma licencia."
   ],
   "metadata": {
    "collapsed": false,
    "id": "8S5JP8jH3AHw"
   }
  }
 ],
 "metadata": {
  "kernelspec": {
   "name": "python3",
   "language": "python",
   "display_name": "Python 3"
  },
  "language_info": {
   "codemirror_mode": {
    "name": "ipython",
    "version": 3
   },
   "file_extension": ".py",
   "mimetype": "text/x-python",
   "name": "python",
   "nbconvert_exporter": "python",
   "pygments_lexer": "ipython3",
   "version": "3.7.3"
  },
  "colab": {
   "provenance": []
  }
 },
 "nbformat": 4,
 "nbformat_minor": 0
}
