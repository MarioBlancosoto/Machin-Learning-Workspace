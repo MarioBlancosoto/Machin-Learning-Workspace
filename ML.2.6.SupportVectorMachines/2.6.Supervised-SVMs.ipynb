{
 "cells": [
  {
   "attachments": {},
   "cell_type": "markdown",
   "metadata": {
    "id": "sTwnMzPLz3bP"
   },
   "source": [
    "# Support Vector Machines\n",
    "#### UD2. Aprendizaxe Supervisada\n",
    "#### MP. Sistemas de Aprendizaxe Automáticos\n",
    "#### IES de Teis (Vigo), Cristina Gómez Alonso\n",
    "\n",
    "En este notebook tomaremos como referencia el material del brillante Aurelien Geron resumido por Akranz.\n",
    "\n",
    "SVM es un conjunto de algoritmos de aprendizaje supervisado potente y versátil que es capaz de realizar clasificación, regresión e incluso detección de valores atípicos.\n",
    "\n",
    "Los SVM son particularmente adecuados para conjuntos de datos complejos de tamaño pequeño a mediano. En este notebook se explicarán los conceptos básicos de los SVM, cómo funcionan y cómo usarlos.\n",
    "\n",
    "Principales características de los SVM:\n",
    "* Es un algoritmo de clasificación binario. Dado un conjunto de puntos de 2 tipos en el lugar N dimensional, SVM genera un hiperplano (N-1) dimensional que separa esos puntos en 2 grupos.\n",
    "* Busca el hiperplano que mejor divide el dataset.\n",
    "* Permite encontrar condiciones de clasificación no obvias.\n",
    "* Está especialmente indicado en conjuntos de datos pequeños y con muchas variables (más registros que datos).\n",
    "\n",
    "\n",
    "## 1. Clasificación Lineal con SVM\n",
    "\n",
    "La idea fundamental detrás de los SVM se explica mejor con la siguiente imagen:\n",
    "\n",
    "<div style=\"text-align:center;\"><img style=\"width:66%\" src=\"./img/SVM_example.png\" /></div>"
   ]
  },
  {
   "cell_type": "markdown",
   "metadata": {
    "collapsed": false,
    "id": "vlkJ6bSOz3bV"
   },
   "source": [
    "Podemos ver que las dos clases se pueden separar fácilmente por una línea recta (linealmente separable).\n",
    "\n",
    "El gráfico de la izquierda muestra los límites de decisión de tres posibles clasificadores lineales. El modelo de línea discontinua es tan malo que ni siquiera separa los dos grupos linealmente. Los otros dos modelos funcionan perfectamente en el conjunto de entrenamiento gráfico, pero sus límites están tan cerca de los puntos de datos de entrenamiento que probablemente no funcionarán bien en datos no vistos con anterioridad.\n",
    "\n",
    "Por el contrario, el modelo de la derecha no solo separa los datos de entrenamiento linealmente, sino que también se mantiene lo más alejado posible de los puntos de datos de ambas clases. Por lo tanto, es probable que funcione bien en datos no vistos.\n",
    "\n",
    "Podemos pensar en un SVM como si encajara en la calle más ancha posible (representada por las líneas discontinuas) entre las clases. Esto se llama **Clasificación de margen máximo (Large Margin Classification)**.\n",
    "\n",
    "En ese concepto de \"separación óptima\" es donde reside la característica fundamental de las SVM: este tipo de algoritmos buscan el hiperplano que tenga la máxima distancia (margen) con los puntos que estén más cerca de él mismo. Por eso también a veces se les conoce a las SVM como clasificadores de margen máximo. De esta forma, los puntos del vector que son etiquetados con una categoría estarán a un lado del hiperplano y los casos que se encuentren en la otra categoría estarán al otro lado.\n",
    "\n",
    "Existe un número infinito de posibles hiperplanos (líneas) que realicen la clasificación pero, ¿cuál es la mejor y cómo la definimos? La mejor solución es aquella que permita un margen máximo entre los elementos de las dos categorías.\n",
    "\n",
    "Debemos notar que **agregar más puntos de entrenamiento fuera de la calle no afectará en absoluto el límite de decisión**, ya que está completamente determinado por los puntos de datos ubicados en el borde de la calle. Estas instancias se denominan **vectores de soporte**.\n",
    "\n",
    "Los SVM también son sensibles a las escalas de las características. **Si las features no están escaladas, el algoritmo tenderá a ignorar las features con escalas pequeñas**."
   ]
  },
  {
   "cell_type": "markdown",
   "metadata": {
    "id": "WejzQQBuz3bW"
   },
   "source": [
    "### 1.1. Clasificación de Margen Suave (Soft Margin Classification) para solucionar los errores de entrenamiento\n",
    "\n",
    "Idealmente, el modelo basado en SVM debería producir un hiperplano que separe completamente los datos del universo estudiado en dos categorías. Sin embargo, una separación perfecta no siempre es posible y, si lo es, el resultado del modelo no puede ser generalizado para otros datos. Esto se conoce como sobreajuste (overfitting).\n",
    "\n",
    "Si restringimos todas las instancias de entrenamiento para que estén fuera de la \"calle SVM\", esto se denomina Clasificación de margen rígido (Hard Margin Classification). La clasificación de margen rígido se ve muy afectada por la presencia de outliers (valores atípicos). Los siguientes son dos ejemplos de cómo los outliers pueden estropear los clasificadores de margen rígido:"
   ]
  },
  {
   "attachments": {},
   "cell_type": "markdown",
   "metadata": {
    "collapsed": false,
    "id": "5bJgYmubz3bX"
   },
   "source": [
    "<div style=\"text-align:center;\"><img style=\"width:66%;\" src=\"./img/Hard_Margin_Classifier.png\" /></div>"
   ]
  },
  {
   "cell_type": "markdown",
   "metadata": {
    "collapsed": false,
    "id": "RM8rYUO5z3bY"
   },
   "source": [
    "Con el fin de permitir cierta flexibilidad, las SVM manejan un parámetro C que controla la compensación entre errores de entrenamiento y los márgenes rígidos, creando así un margen blando (soft margin) que permita algunos errores en la clasificación a la vez que los penaliza. Esto se llama **Clasificación de margen suave**."
   ]
  },
  {
   "cell_type": "markdown",
   "metadata": {
    "collapsed": false,
    "id": "FpCkNKEiz3bY"
   },
   "source": [
    "<div style=\"text-align:center;\"><img style=\"width:66%;\" src=\"./img/Soft_to_Hard_Street.png\" /></div>"
   ]
  },
  {
   "cell_type": "markdown",
   "metadata": {
    "collapsed": false,
    "id": "DxS83IhQz3bZ"
   },
   "source": [
    "Al aumentar el hiperparámetro `C`, aumentamos la sensibilidad del modelo para minimizar las infracciones de margen dentro del conjunto de entrenamiento. Es decir, si estamos sobreajustando, tratamos de reducir el valor del hiperparámetro `C`.\n",
    "\n",
    "Vamos a ver los SVM de scikit-learn:"
   ]
  },
  {
   "cell_type": "code",
   "execution_count": 1,
   "metadata": {
    "executionInfo": {
     "elapsed": 635,
     "status": "ok",
     "timestamp": 1677673960099,
     "user": {
      "displayName": "Ernesto Frías Nores",
      "userId": "04050836756016798788"
     },
     "user_tz": -60
    },
    "id": "j-7V7J30z3ba"
   },
   "outputs": [],
   "source": [
    "import numpy as np\n",
    "from sklearn import datasets\n",
    "from sklearn.pipeline import Pipeline\n",
    "from sklearn.preprocessing import StandardScaler\n",
    "from sklearn.svm import LinearSVC  #Linear Support Vector Classification"
   ]
  },
  {
   "cell_type": "code",
   "execution_count": 2,
   "metadata": {
    "executionInfo": {
     "elapsed": 334,
     "status": "ok",
     "timestamp": 1677673962473,
     "user": {
      "displayName": "Ernesto Frías Nores",
      "userId": "04050836756016798788"
     },
     "user_tz": -60
    },
    "id": "b3-9Ek2ez3bc"
   },
   "outputs": [],
   "source": [
    "iris = datasets.load_iris()"
   ]
  },
  {
   "cell_type": "code",
   "execution_count": 3,
   "metadata": {
    "colab": {
     "base_uri": "https://localhost:8080/"
    },
    "executionInfo": {
     "elapsed": 307,
     "status": "ok",
     "timestamp": 1677673965101,
     "user": {
      "displayName": "Ernesto Frías Nores",
      "userId": "04050836756016798788"
     },
     "user_tz": -60
    },
    "id": "PUu_cWGMz3bd",
    "outputId": "1e93a64e-19bc-4751-e8b1-dcf97c2dfd68"
   },
   "outputs": [
    {
     "data": {
      "text/plain": "(150, 4)"
     },
     "execution_count": 3,
     "metadata": {},
     "output_type": "execute_result"
    }
   ],
   "source": [
    "iris['data'].shape"
   ]
  },
  {
   "cell_type": "code",
   "execution_count": 4,
   "metadata": {
    "colab": {
     "base_uri": "https://localhost:8080/"
    },
    "executionInfo": {
     "elapsed": 335,
     "status": "ok",
     "timestamp": 1677673999605,
     "user": {
      "displayName": "Ernesto Frías Nores",
      "userId": "04050836756016798788"
     },
     "user_tz": -60
    },
    "id": "n3aoXZWfz3be",
    "outputId": "97155930-4e7f-4beb-b33e-9aa47bef63a3"
   },
   "outputs": [
    {
     "data": {
      "text/plain": "((150, 2), (150,))"
     },
     "execution_count": 4,
     "metadata": {},
     "output_type": "execute_result"
    }
   ],
   "source": [
    "# Seleccionamos las características de la longitud y anchura del pétalo\n",
    "X = iris['data'][:, [2,3]]  # Petal Length, Petal Width\n",
    "\n",
    "# Buscamos clasificar si la planta es del tipo Iris Virginica (1) o no (0) \n",
    "y = (iris['target'] == 2).astype(np.float64)  # Iris Virginica\n",
    "X.shape, y.shape"
   ]
  },
  {
   "cell_type": "markdown",
   "metadata": {
    "id": "KCsfJ2z1ARK-"
   },
   "source": [
    "Creamos un pipelines con los procesos que vamos a emplear: Escalado y clasificador SVC"
   ]
  },
  {
   "cell_type": "code",
   "execution_count": 5,
   "metadata": {
    "executionInfo": {
     "elapsed": 258,
     "status": "ok",
     "timestamp": 1677674108094,
     "user": {
      "displayName": "Ernesto Frías Nores",
      "userId": "04050836756016798788"
     },
     "user_tz": -60
    },
    "id": "V_z8rgYVz3bf"
   },
   "outputs": [],
   "source": [
    "svm_clf = Pipeline([\n",
    "    ('Scaler', StandardScaler()),\n",
    "    ('Linear_svc', LinearSVC(C=1, loss='hinge'))\n",
    "])"
   ]
  },
  {
   "cell_type": "markdown",
   "metadata": {
    "id": "4ltxoHdyBwzG"
   },
   "source": [
    "Entrenamos el modelo con el parámetro C=1"
   ]
  },
  {
   "cell_type": "code",
   "execution_count": 6,
   "metadata": {
    "colab": {
     "base_uri": "https://localhost:8080/"
    },
    "executionInfo": {
     "elapsed": 277,
     "status": "ok",
     "timestamp": 1677674114366,
     "user": {
      "displayName": "Ernesto Frías Nores",
      "userId": "04050836756016798788"
     },
     "user_tz": -60
    },
    "id": "f4J4t2llz3bg",
    "outputId": "67433771-a01b-4578-9bca-e49a22a93d84"
   },
   "outputs": [
    {
     "data": {
      "text/plain": "Pipeline(steps=[('Scaler', StandardScaler()),\n                ('Linear_svc', LinearSVC(C=1, loss='hinge'))])",
      "text/html": "<style>#sk-container-id-1 {color: black;background-color: white;}#sk-container-id-1 pre{padding: 0;}#sk-container-id-1 div.sk-toggleable {background-color: white;}#sk-container-id-1 label.sk-toggleable__label {cursor: pointer;display: block;width: 100%;margin-bottom: 0;padding: 0.3em;box-sizing: border-box;text-align: center;}#sk-container-id-1 label.sk-toggleable__label-arrow:before {content: \"▸\";float: left;margin-right: 0.25em;color: #696969;}#sk-container-id-1 label.sk-toggleable__label-arrow:hover:before {color: black;}#sk-container-id-1 div.sk-estimator:hover label.sk-toggleable__label-arrow:before {color: black;}#sk-container-id-1 div.sk-toggleable__content {max-height: 0;max-width: 0;overflow: hidden;text-align: left;background-color: #f0f8ff;}#sk-container-id-1 div.sk-toggleable__content pre {margin: 0.2em;color: black;border-radius: 0.25em;background-color: #f0f8ff;}#sk-container-id-1 input.sk-toggleable__control:checked~div.sk-toggleable__content {max-height: 200px;max-width: 100%;overflow: auto;}#sk-container-id-1 input.sk-toggleable__control:checked~label.sk-toggleable__label-arrow:before {content: \"▾\";}#sk-container-id-1 div.sk-estimator input.sk-toggleable__control:checked~label.sk-toggleable__label {background-color: #d4ebff;}#sk-container-id-1 div.sk-label input.sk-toggleable__control:checked~label.sk-toggleable__label {background-color: #d4ebff;}#sk-container-id-1 input.sk-hidden--visually {border: 0;clip: rect(1px 1px 1px 1px);clip: rect(1px, 1px, 1px, 1px);height: 1px;margin: -1px;overflow: hidden;padding: 0;position: absolute;width: 1px;}#sk-container-id-1 div.sk-estimator {font-family: monospace;background-color: #f0f8ff;border: 1px dotted black;border-radius: 0.25em;box-sizing: border-box;margin-bottom: 0.5em;}#sk-container-id-1 div.sk-estimator:hover {background-color: #d4ebff;}#sk-container-id-1 div.sk-parallel-item::after {content: \"\";width: 100%;border-bottom: 1px solid gray;flex-grow: 1;}#sk-container-id-1 div.sk-label:hover label.sk-toggleable__label {background-color: #d4ebff;}#sk-container-id-1 div.sk-serial::before {content: \"\";position: absolute;border-left: 1px solid gray;box-sizing: border-box;top: 0;bottom: 0;left: 50%;z-index: 0;}#sk-container-id-1 div.sk-serial {display: flex;flex-direction: column;align-items: center;background-color: white;padding-right: 0.2em;padding-left: 0.2em;position: relative;}#sk-container-id-1 div.sk-item {position: relative;z-index: 1;}#sk-container-id-1 div.sk-parallel {display: flex;align-items: stretch;justify-content: center;background-color: white;position: relative;}#sk-container-id-1 div.sk-item::before, #sk-container-id-1 div.sk-parallel-item::before {content: \"\";position: absolute;border-left: 1px solid gray;box-sizing: border-box;top: 0;bottom: 0;left: 50%;z-index: -1;}#sk-container-id-1 div.sk-parallel-item {display: flex;flex-direction: column;z-index: 1;position: relative;background-color: white;}#sk-container-id-1 div.sk-parallel-item:first-child::after {align-self: flex-end;width: 50%;}#sk-container-id-1 div.sk-parallel-item:last-child::after {align-self: flex-start;width: 50%;}#sk-container-id-1 div.sk-parallel-item:only-child::after {width: 0;}#sk-container-id-1 div.sk-dashed-wrapped {border: 1px dashed gray;margin: 0 0.4em 0.5em 0.4em;box-sizing: border-box;padding-bottom: 0.4em;background-color: white;}#sk-container-id-1 div.sk-label label {font-family: monospace;font-weight: bold;display: inline-block;line-height: 1.2em;}#sk-container-id-1 div.sk-label-container {text-align: center;}#sk-container-id-1 div.sk-container {/* jupyter's `normalize.less` sets `[hidden] { display: none; }` but bootstrap.min.css set `[hidden] { display: none !important; }` so we also need the `!important` here to be able to override the default hidden behavior on the sphinx rendered scikit-learn.org. See: https://github.com/scikit-learn/scikit-learn/issues/21755 */display: inline-block !important;position: relative;}#sk-container-id-1 div.sk-text-repr-fallback {display: none;}</style><div id=\"sk-container-id-1\" class=\"sk-top-container\"><div class=\"sk-text-repr-fallback\"><pre>Pipeline(steps=[(&#x27;Scaler&#x27;, StandardScaler()),\n                (&#x27;Linear_svc&#x27;, LinearSVC(C=1, loss=&#x27;hinge&#x27;))])</pre><b>In a Jupyter environment, please rerun this cell to show the HTML representation or trust the notebook. <br />On GitHub, the HTML representation is unable to render, please try loading this page with nbviewer.org.</b></div><div class=\"sk-container\" hidden><div class=\"sk-item sk-dashed-wrapped\"><div class=\"sk-label-container\"><div class=\"sk-label sk-toggleable\"><input class=\"sk-toggleable__control sk-hidden--visually\" id=\"sk-estimator-id-1\" type=\"checkbox\" ><label for=\"sk-estimator-id-1\" class=\"sk-toggleable__label sk-toggleable__label-arrow\">Pipeline</label><div class=\"sk-toggleable__content\"><pre>Pipeline(steps=[(&#x27;Scaler&#x27;, StandardScaler()),\n                (&#x27;Linear_svc&#x27;, LinearSVC(C=1, loss=&#x27;hinge&#x27;))])</pre></div></div></div><div class=\"sk-serial\"><div class=\"sk-item\"><div class=\"sk-estimator sk-toggleable\"><input class=\"sk-toggleable__control sk-hidden--visually\" id=\"sk-estimator-id-2\" type=\"checkbox\" ><label for=\"sk-estimator-id-2\" class=\"sk-toggleable__label sk-toggleable__label-arrow\">StandardScaler</label><div class=\"sk-toggleable__content\"><pre>StandardScaler()</pre></div></div></div><div class=\"sk-item\"><div class=\"sk-estimator sk-toggleable\"><input class=\"sk-toggleable__control sk-hidden--visually\" id=\"sk-estimator-id-3\" type=\"checkbox\" ><label for=\"sk-estimator-id-3\" class=\"sk-toggleable__label sk-toggleable__label-arrow\">LinearSVC</label><div class=\"sk-toggleable__content\"><pre>LinearSVC(C=1, loss=&#x27;hinge&#x27;)</pre></div></div></div></div></div></div></div>"
     },
     "execution_count": 6,
     "metadata": {},
     "output_type": "execute_result"
    }
   ],
   "source": [
    "svm_clf.fit(X, y)"
   ]
  },
  {
   "cell_type": "markdown",
   "metadata": {
    "id": "SoVFeOX8CXpL"
   },
   "source": [
    "Realizamos la predicción"
   ]
  },
  {
   "cell_type": "code",
   "execution_count": 7,
   "metadata": {
    "colab": {
     "base_uri": "https://localhost:8080/"
    },
    "executionInfo": {
     "elapsed": 235,
     "status": "ok",
     "timestamp": 1677674124172,
     "user": {
      "displayName": "Ernesto Frías Nores",
      "userId": "04050836756016798788"
     },
     "user_tz": -60
    },
    "id": "tqLERIw4z3bg",
    "outputId": "e8c25c12-2684-4c37-f316-f026092794e4"
   },
   "outputs": [
    {
     "data": {
      "text/plain": "array([1., 0.])"
     },
     "execution_count": 7,
     "metadata": {},
     "output_type": "execute_result"
    }
   ],
   "source": [
    "svm_clf.predict([[5.5, 1.7], [2.0, 1.8]])"
   ]
  },
  {
   "cell_type": "markdown",
   "metadata": {
    "id": "W6_dX8txz3bh"
   },
   "source": [
    "A diferencia de los modelos de regresión logística (con sus funciones sigmoideas), los SVM no generan probabilidades para cada clase."
   ]
  },
  {
   "cell_type": "markdown",
   "metadata": {
    "id": "s4Ds_223z3bh"
   },
   "source": [
    "## 2. Clasificación no Lineal con SVM\n",
    "\n",
    "Muchos datasets ni siquiera están cerca de ser separables linealmente. Un enfoque para manejar el modelado no lineal es agregar más características, como características polinómicas.\n",
    "En algunos casos, esto puede resultar en datasets linealmente separables.\n",
    "\n",
    "![SVM](./img/img.png)\n",
    "\n",
    "El siguiente es un ejemplo de un conjunto de datos separable no linealmente original con una sola característica $x_{1}$ (a la izquierda) y un conjunto de datos separable linealmente aumentado con una característica adicional $x_{2}=x_{1}^{2}$ :\n",
    "\n",
    "<div style=\"text-align:center;\"><img style=\"width:66%;\" src=\"./img/nonlinear_to_linear.png\" /></div>\n",
    "\n",
    "Veamos a continuación como implementar esta idea usando scikit-learn con el dataset moons. Este dataset está formado por conjuntos de puntos (cuyo número es configurable, en este caso, será de 100) dispuestos en el plano formando dos lunas opuestas::"
   ]
  },
  {
   "cell_type": "code",
   "execution_count": 8,
   "metadata": {
    "colab": {
     "base_uri": "https://localhost:8080/",
     "height": 320
    },
    "executionInfo": {
     "elapsed": 1503,
     "status": "ok",
     "timestamp": 1677674407298,
     "user": {
      "displayName": "Ernesto Frías Nores",
      "userId": "04050836756016798788"
     },
     "user_tz": -60
    },
    "id": "7zxY6F_Jz3bh",
    "outputId": "eb4e07d9-9652-4c1f-a4e9-1a79598d51a7"
   },
   "outputs": [
    {
     "name": "stderr",
     "output_type": "stream",
     "text": [
      "/home/a22mariobs/anaconda3/envs/ml_env_linux/lib/python3.9/site-packages/seaborn/_decorators.py:36: FutureWarning: Pass the following variables as keyword args: x, y. From version 0.12, the only valid positional argument will be `data`, and passing other arguments without an explicit keyword will result in an error or misinterpretation.\n",
      "  warnings.warn(\n"
     ]
    },
    {
     "data": {
      "text/plain": "<Figure size 432x288 with 1 Axes>",
      "image/png": "[encoded data removed]"
     },
     "metadata": {
      "needs_background": "light"
     },
     "output_type": "display_data"
    }
   ],
   "source": [
    "from sklearn.datasets import make_moons\n",
    "X, y = make_moons(n_samples=100, noise=0.15)\n",
    "import seaborn as sns\n",
    "Cx = X[:, 0]\n",
    "Cy = X[:, 1]\n",
    "sns.scatterplot(Cx,Cy);"
   ]
  },
  {
   "cell_type": "code",
   "execution_count": 9,
   "metadata": {
    "executionInfo": {
     "elapsed": 246,
     "status": "ok",
     "timestamp": 1677674426349,
     "user": {
      "displayName": "Ernesto Frías Nores",
      "userId": "04050836756016798788"
     },
     "user_tz": -60
    },
    "id": "oTnsVhz2z3bi"
   },
   "outputs": [],
   "source": [
    "from sklearn.preprocessing import PolynomialFeatures\n",
    "polynomial_svm_clf = Pipeline([\n",
    "    (\"poly_features\", PolynomialFeatures(degree=3)),\n",
    "    (\"scaler\", StandardScaler()),\n",
    "    (\"svm_clf\", LinearSVC(C=10, loss=\"hinge\"))\n",
    "])"
   ]
  },
  {
   "cell_type": "code",
   "execution_count": 10,
   "metadata": {
    "colab": {
     "base_uri": "https://localhost:8080/"
    },
    "executionInfo": {
     "elapsed": 228,
     "status": "ok",
     "timestamp": 1677674479273,
     "user": {
      "displayName": "Ernesto Frías Nores",
      "userId": "04050836756016798788"
     },
     "user_tz": -60
    },
    "id": "lZnS3_95z3bi",
    "outputId": "8be3b2d2-fc66-4460-f3c3-4184bad8c26c"
   },
   "outputs": [
    {
     "name": "stderr",
     "output_type": "stream",
     "text": [
      "/home/a22mariobs/anaconda3/envs/ml_env_linux/lib/python3.9/site-packages/sklearn/svm/_base.py:1225: ConvergenceWarning: Liblinear failed to converge, increase the number of iterations.\n",
      "  warnings.warn(\n"
     ]
    },
    {
     "data": {
      "text/plain": "Pipeline(steps=[('poly_features', PolynomialFeatures(degree=3)),\n                ('scaler', StandardScaler()),\n                ('svm_clf', LinearSVC(C=10, loss='hinge'))])",
      "text/html": "<style>#sk-container-id-2 {color: black;background-color: white;}#sk-container-id-2 pre{padding: 0;}#sk-container-id-2 div.sk-toggleable {background-color: white;}#sk-container-id-2 label.sk-toggleable__label {cursor: pointer;display: block;width: 100%;margin-bottom: 0;padding: 0.3em;box-sizing: border-box;text-align: center;}#sk-container-id-2 label.sk-toggleable__label-arrow:before {content: \"▸\";float: left;margin-right: 0.25em;color: #696969;}#sk-container-id-2 label.sk-toggleable__label-arrow:hover:before {color: black;}#sk-container-id-2 div.sk-estimator:hover label.sk-toggleable__label-arrow:before {color: black;}#sk-container-id-2 div.sk-toggleable__content {max-height: 0;max-width: 0;overflow: hidden;text-align: left;background-color: #f0f8ff;}#sk-container-id-2 div.sk-toggleable__content pre {margin: 0.2em;color: black;border-radius: 0.25em;background-color: #f0f8ff;}#sk-container-id-2 input.sk-toggleable__control:checked~div.sk-toggleable__content {max-height: 200px;max-width: 100%;overflow: auto;}#sk-container-id-2 input.sk-toggleable__control:checked~label.sk-toggleable__label-arrow:before {content: \"▾\";}#sk-container-id-2 div.sk-estimator input.sk-toggleable__control:checked~label.sk-toggleable__label {background-color: #d4ebff;}#sk-container-id-2 div.sk-label input.sk-toggleable__control:checked~label.sk-toggleable__label {background-color: #d4ebff;}#sk-container-id-2 input.sk-hidden--visually {border: 0;clip: rect(1px 1px 1px 1px);clip: rect(1px, 1px, 1px, 1px);height: 1px;margin: -1px;overflow: hidden;padding: 0;position: absolute;width: 1px;}#sk-container-id-2 div.sk-estimator {font-family: monospace;background-color: #f0f8ff;border: 1px dotted black;border-radius: 0.25em;box-sizing: border-box;margin-bottom: 0.5em;}#sk-container-id-2 div.sk-estimator:hover {background-color: #d4ebff;}#sk-container-id-2 div.sk-parallel-item::after {content: \"\";width: 100%;border-bottom: 1px solid gray;flex-grow: 1;}#sk-container-id-2 div.sk-label:hover label.sk-toggleable__label {background-color: #d4ebff;}#sk-container-id-2 div.sk-serial::before {content: \"\";position: absolute;border-left: 1px solid gray;box-sizing: border-box;top: 0;bottom: 0;left: 50%;z-index: 0;}#sk-container-id-2 div.sk-serial {display: flex;flex-direction: column;align-items: center;background-color: white;padding-right: 0.2em;padding-left: 0.2em;position: relative;}#sk-container-id-2 div.sk-item {position: relative;z-index: 1;}#sk-container-id-2 div.sk-parallel {display: flex;align-items: stretch;justify-content: center;background-color: white;position: relative;}#sk-container-id-2 div.sk-item::before, #sk-container-id-2 div.sk-parallel-item::before {content: \"\";position: absolute;border-left: 1px solid gray;box-sizing: border-box;top: 0;bottom: 0;left: 50%;z-index: -1;}#sk-container-id-2 div.sk-parallel-item {display: flex;flex-direction: column;z-index: 1;position: relative;background-color: white;}#sk-container-id-2 div.sk-parallel-item:first-child::after {align-self: flex-end;width: 50%;}#sk-container-id-2 div.sk-parallel-item:last-child::after {align-self: flex-start;width: 50%;}#sk-container-id-2 div.sk-parallel-item:only-child::after {width: 0;}#sk-container-id-2 div.sk-dashed-wrapped {border: 1px dashed gray;margin: 0 0.4em 0.5em 0.4em;box-sizing: border-box;padding-bottom: 0.4em;background-color: white;}#sk-container-id-2 div.sk-label label {font-family: monospace;font-weight: bold;display: inline-block;line-height: 1.2em;}#sk-container-id-2 div.sk-label-container {text-align: center;}#sk-container-id-2 div.sk-container {/* jupyter's `normalize.less` sets `[hidden] { display: none; }` but bootstrap.min.css set `[hidden] { display: none !important; }` so we also need the `!important` here to be able to override the default hidden behavior on the sphinx rendered scikit-learn.org. See: https://github.com/scikit-learn/scikit-learn/issues/21755 */display: inline-block !important;position: relative;}#sk-container-id-2 div.sk-text-repr-fallback {display: none;}</style><div id=\"sk-container-id-2\" class=\"sk-top-container\"><div class=\"sk-text-repr-fallback\"><pre>Pipeline(steps=[(&#x27;poly_features&#x27;, PolynomialFeatures(degree=3)),\n                (&#x27;scaler&#x27;, StandardScaler()),\n                (&#x27;svm_clf&#x27;, LinearSVC(C=10, loss=&#x27;hinge&#x27;))])</pre><b>In a Jupyter environment, please rerun this cell to show the HTML representation or trust the notebook. <br />On GitHub, the HTML representation is unable to render, please try loading this page with nbviewer.org.</b></div><div class=\"sk-container\" hidden><div class=\"sk-item sk-dashed-wrapped\"><div class=\"sk-label-container\"><div class=\"sk-label sk-toggleable\"><input class=\"sk-toggleable__control sk-hidden--visually\" id=\"sk-estimator-id-4\" type=\"checkbox\" ><label for=\"sk-estimator-id-4\" class=\"sk-toggleable__label sk-toggleable__label-arrow\">Pipeline</label><div class=\"sk-toggleable__content\"><pre>Pipeline(steps=[(&#x27;poly_features&#x27;, PolynomialFeatures(degree=3)),\n                (&#x27;scaler&#x27;, StandardScaler()),\n                (&#x27;svm_clf&#x27;, LinearSVC(C=10, loss=&#x27;hinge&#x27;))])</pre></div></div></div><div class=\"sk-serial\"><div class=\"sk-item\"><div class=\"sk-estimator sk-toggleable\"><input class=\"sk-toggleable__control sk-hidden--visually\" id=\"sk-estimator-id-5\" type=\"checkbox\" ><label for=\"sk-estimator-id-5\" class=\"sk-toggleable__label sk-toggleable__label-arrow\">PolynomialFeatures</label><div class=\"sk-toggleable__content\"><pre>PolynomialFeatures(degree=3)</pre></div></div></div><div class=\"sk-item\"><div class=\"sk-estimator sk-toggleable\"><input class=\"sk-toggleable__control sk-hidden--visually\" id=\"sk-estimator-id-6\" type=\"checkbox\" ><label for=\"sk-estimator-id-6\" class=\"sk-toggleable__label sk-toggleable__label-arrow\">StandardScaler</label><div class=\"sk-toggleable__content\"><pre>StandardScaler()</pre></div></div></div><div class=\"sk-item\"><div class=\"sk-estimator sk-toggleable\"><input class=\"sk-toggleable__control sk-hidden--visually\" id=\"sk-estimator-id-7\" type=\"checkbox\" ><label for=\"sk-estimator-id-7\" class=\"sk-toggleable__label sk-toggleable__label-arrow\">LinearSVC</label><div class=\"sk-toggleable__content\"><pre>LinearSVC(C=10, loss=&#x27;hinge&#x27;)</pre></div></div></div></div></div></div></div>"
     },
     "execution_count": 10,
     "metadata": {},
     "output_type": "execute_result"
    }
   ],
   "source": [
    "polynomial_svm_clf.fit(X, y)"
   ]
  },
  {
   "cell_type": "code",
   "execution_count": 11,
   "metadata": {
    "colab": {
     "base_uri": "https://localhost:8080/"
    },
    "executionInfo": {
     "elapsed": 253,
     "status": "ok",
     "timestamp": 1677674483404,
     "user": {
      "displayName": "Ernesto Frías Nores",
      "userId": "04050836756016798788"
     },
     "user_tz": -60
    },
    "id": "dhX3hDKHz3bj",
    "outputId": "87a900e0-fbd1-4444-9c22-d6126f310f75"
   },
   "outputs": [
    {
     "data": {
      "text/plain": "1.0"
     },
     "execution_count": 11,
     "metadata": {},
     "output_type": "execute_result"
    }
   ],
   "source": [
    "polynomial_svm_clf.score(X, y)"
   ]
  },
  {
   "cell_type": "code",
   "execution_count": 12,
   "metadata": {
    "colab": {
     "base_uri": "https://localhost:8080/",
     "height": 309
    },
    "executionInfo": {
     "elapsed": 857,
     "status": "ok",
     "timestamp": 1677674525377,
     "user": {
      "displayName": "Ernesto Frías Nores",
      "userId": "04050836756016798788"
     },
     "user_tz": -60
    },
    "id": "WyH1DsX2z3bj",
    "outputId": "69aaf762-9c27-4ba3-ab0e-46faf37cbaec"
   },
   "outputs": [
    {
     "data": {
      "text/plain": "<Figure size 432x288 with 1 Axes>",
      "image/png": "[encoded data removed]"
     },
     "metadata": {
      "needs_background": "light"
     },
     "output_type": "display_data"
    }
   ],
   "source": [
    "import matplotlib.pyplot as plt\n",
    "def plot_dataset(X, y, axes):\n",
    "    plt.plot(X[:, 0][y==0], X[:, 1][y==0], \"bs\") #bs: blue squares\n",
    "    plt.plot(X[:, 0][y==1], X[:, 1][y==1], \"g^\") #green triangles\n",
    "    plt.axis(axes)\n",
    "    plt.grid(True, which='both')\n",
    "    plt.xlabel(r\"$x_1$\", fontsize=20)\n",
    "    plt.ylabel(r\"$x_2$\", fontsize=20, rotation=0)\n",
    "    plt.title(\"Datos lunares\",fontsize=20)\n",
    "def plot_predictions(clf, axes):\n",
    "    # Por metro\n",
    "    x0s = np.linspace(axes[0], axes[1], 100)\n",
    "    x1s = np.linspace(axes[2], axes[3], 100)\n",
    "    x0, x1 = np.meshgrid(x0s, x1s)\n",
    "    X = np.c_[x0.ravel(), x1.ravel()]\n",
    "    y_pred = clf.predict(X).reshape(x0.shape)\n",
    "    y_decision = clf.decision_function(X).reshape(x0.shape)\n",
    "    #     print(y_pred)\n",
    "    #     print(y_decision)\n",
    "    plt.contourf(x0, x1, y_pred, cmap=plt.cm.brg, alpha=0.2)\n",
    "    plt.contourf(x0, x1, y_decision, cmap=plt.cm.brg, alpha=0.1)\n",
    "plot_predictions(polynomial_svm_clf, [-1.5, 2.5, -1, 1.5])\n",
    "plot_dataset(X, y, [-1.5, 2.5, -1, 1.5])\n",
    "plt.show()\n"
   ]
  },
  {
   "cell_type": "markdown",
   "metadata": {
    "id": "TVzu6do8z3bk"
   },
   "source": [
    "El siguiente gráfico muestra los límites de decisión del modelo. Debido a que agregamos grados polinómicos, los límites proyectados ahora son no lineales:\n",
    "\n",
    "<div style=\"text-align:center;\"><img style=\"width:50%;\" src=\"./img/polynomial_svms.png\" /></div>"
   ]
  },
  {
   "cell_type": "markdown",
   "metadata": {
    "id": "8eljbOJaz3bk"
   },
   "source": [
    "### 2.1. Kernels Polinómicos\n",
    "\n",
    "En grados polinómicos bajos, agregar características no permite manejar conjuntos de datos complejos, y para grados polinómicos altos, terminamos agregando muchas características, lo que da como resultado un modelo muy complejo y lento.\n",
    "\n",
    "Afortunadamente, cuando usamos SVM podemos aplicar una técnica matemática casi milagrosa llamada **truco del kernel**. El truco del kernel hace posible obtener el mismo resultado que si añadiéramos muchas características polinomiales sin añadirlas realmente.\n",
    "\n",
    "Vamos a probarlo en el dataset moons:"
   ]
  },
  {
   "cell_type": "code",
   "execution_count": 13,
   "metadata": {
    "executionInfo": {
     "elapsed": 257,
     "status": "ok",
     "timestamp": 1677674798551,
     "user": {
      "displayName": "Ernesto Frías Nores",
      "userId": "04050836756016798788"
     },
     "user_tz": -60
    },
    "id": "IxeFhUwnz3bl"
   },
   "outputs": [],
   "source": [
    "from sklearn.svm  import SVC\n"
   ]
  },
  {
   "cell_type": "code",
   "execution_count": 14,
   "metadata": {
    "executionInfo": {
     "elapsed": 354,
     "status": "ok",
     "timestamp": 1677674800901,
     "user": {
      "displayName": "Ernesto Frías Nores",
      "userId": "04050836756016798788"
     },
     "user_tz": -60
    },
    "id": "Jnd9NSiaz3bl"
   },
   "outputs": [],
   "source": [
    "from sklearn.datasets import make_moons\n",
    "X, y = make_moons(n_samples=300, noise=0.15)"
   ]
  },
  {
   "cell_type": "code",
   "execution_count": 15,
   "metadata": {
    "executionInfo": {
     "elapsed": 245,
     "status": "ok",
     "timestamp": 1677674803106,
     "user": {
      "displayName": "Ernesto Frías Nores",
      "userId": "04050836756016798788"
     },
     "user_tz": -60
    },
    "id": "u73QWCibz3bl"
   },
   "outputs": [],
   "source": [
    "poly_kernel_svm_clf = Pipeline([\n",
    "    ('scaler', StandardScaler()),\n",
    "    ('svm_clf', SVC(kernel='poly', degree=3, coef0=1, C=5))\n",
    "])"
   ]
  },
  {
   "cell_type": "code",
   "execution_count": 16,
   "metadata": {
    "colab": {
     "base_uri": "https://localhost:8080/"
    },
    "executionInfo": {
     "elapsed": 417,
     "status": "ok",
     "timestamp": 1677674808167,
     "user": {
      "displayName": "Ernesto Frías Nores",
      "userId": "04050836756016798788"
     },
     "user_tz": -60
    },
    "id": "g-ZVHEn3z3bl",
    "outputId": "817dd601-ba63-43b5-aac7-9857f0e23c65"
   },
   "outputs": [
    {
     "data": {
      "text/plain": "Pipeline(steps=[('scaler', StandardScaler()),\n                ('svm_clf', SVC(C=5, coef0=1, kernel='poly'))])",
      "text/html": "<style>#sk-container-id-3 {color: black;background-color: white;}#sk-container-id-3 pre{padding: 0;}#sk-container-id-3 div.sk-toggleable {background-color: white;}#sk-container-id-3 label.sk-toggleable__label {cursor: pointer;display: block;width: 100%;margin-bottom: 0;padding: 0.3em;box-sizing: border-box;text-align: center;}#sk-container-id-3 label.sk-toggleable__label-arrow:before {content: \"▸\";float: left;margin-right: 0.25em;color: #696969;}#sk-container-id-3 label.sk-toggleable__label-arrow:hover:before {color: black;}#sk-container-id-3 div.sk-estimator:hover label.sk-toggleable__label-arrow:before {color: black;}#sk-container-id-3 div.sk-toggleable__content {max-height: 0;max-width: 0;overflow: hidden;text-align: left;background-color: #f0f8ff;}#sk-container-id-3 div.sk-toggleable__content pre {margin: 0.2em;color: black;border-radius: 0.25em;background-color: #f0f8ff;}#sk-container-id-3 input.sk-toggleable__control:checked~div.sk-toggleable__content {max-height: 200px;max-width: 100%;overflow: auto;}#sk-container-id-3 input.sk-toggleable__control:checked~label.sk-toggleable__label-arrow:before {content: \"▾\";}#sk-container-id-3 div.sk-estimator input.sk-toggleable__control:checked~label.sk-toggleable__label {background-color: #d4ebff;}#sk-container-id-3 div.sk-label input.sk-toggleable__control:checked~label.sk-toggleable__label {background-color: #d4ebff;}#sk-container-id-3 input.sk-hidden--visually {border: 0;clip: rect(1px 1px 1px 1px);clip: rect(1px, 1px, 1px, 1px);height: 1px;margin: -1px;overflow: hidden;padding: 0;position: absolute;width: 1px;}#sk-container-id-3 div.sk-estimator {font-family: monospace;background-color: #f0f8ff;border: 1px dotted black;border-radius: 0.25em;box-sizing: border-box;margin-bottom: 0.5em;}#sk-container-id-3 div.sk-estimator:hover {background-color: #d4ebff;}#sk-container-id-3 div.sk-parallel-item::after {content: \"\";width: 100%;border-bottom: 1px solid gray;flex-grow: 1;}#sk-container-id-3 div.sk-label:hover label.sk-toggleable__label {background-color: #d4ebff;}#sk-container-id-3 div.sk-serial::before {content: \"\";position: absolute;border-left: 1px solid gray;box-sizing: border-box;top: 0;bottom: 0;left: 50%;z-index: 0;}#sk-container-id-3 div.sk-serial {display: flex;flex-direction: column;align-items: center;background-color: white;padding-right: 0.2em;padding-left: 0.2em;position: relative;}#sk-container-id-3 div.sk-item {position: relative;z-index: 1;}#sk-container-id-3 div.sk-parallel {display: flex;align-items: stretch;justify-content: center;background-color: white;position: relative;}#sk-container-id-3 div.sk-item::before, #sk-container-id-3 div.sk-parallel-item::before {content: \"\";position: absolute;border-left: 1px solid gray;box-sizing: border-box;top: 0;bottom: 0;left: 50%;z-index: -1;}#sk-container-id-3 div.sk-parallel-item {display: flex;flex-direction: column;z-index: 1;position: relative;background-color: white;}#sk-container-id-3 div.sk-parallel-item:first-child::after {align-self: flex-end;width: 50%;}#sk-container-id-3 div.sk-parallel-item:last-child::after {align-self: flex-start;width: 50%;}#sk-container-id-3 div.sk-parallel-item:only-child::after {width: 0;}#sk-container-id-3 div.sk-dashed-wrapped {border: 1px dashed gray;margin: 0 0.4em 0.5em 0.4em;box-sizing: border-box;padding-bottom: 0.4em;background-color: white;}#sk-container-id-3 div.sk-label label {font-family: monospace;font-weight: bold;display: inline-block;line-height: 1.2em;}#sk-container-id-3 div.sk-label-container {text-align: center;}#sk-container-id-3 div.sk-container {/* jupyter's `normalize.less` sets `[hidden] { display: none; }` but bootstrap.min.css set `[hidden] { display: none !important; }` so we also need the `!important` here to be able to override the default hidden behavior on the sphinx rendered scikit-learn.org. See: https://github.com/scikit-learn/scikit-learn/issues/21755 */display: inline-block !important;position: relative;}#sk-container-id-3 div.sk-text-repr-fallback {display: none;}</style><div id=\"sk-container-id-3\" class=\"sk-top-container\"><div class=\"sk-text-repr-fallback\"><pre>Pipeline(steps=[(&#x27;scaler&#x27;, StandardScaler()),\n                (&#x27;svm_clf&#x27;, SVC(C=5, coef0=1, kernel=&#x27;poly&#x27;))])</pre><b>In a Jupyter environment, please rerun this cell to show the HTML representation or trust the notebook. <br />On GitHub, the HTML representation is unable to render, please try loading this page with nbviewer.org.</b></div><div class=\"sk-container\" hidden><div class=\"sk-item sk-dashed-wrapped\"><div class=\"sk-label-container\"><div class=\"sk-label sk-toggleable\"><input class=\"sk-toggleable__control sk-hidden--visually\" id=\"sk-estimator-id-8\" type=\"checkbox\" ><label for=\"sk-estimator-id-8\" class=\"sk-toggleable__label sk-toggleable__label-arrow\">Pipeline</label><div class=\"sk-toggleable__content\"><pre>Pipeline(steps=[(&#x27;scaler&#x27;, StandardScaler()),\n                (&#x27;svm_clf&#x27;, SVC(C=5, coef0=1, kernel=&#x27;poly&#x27;))])</pre></div></div></div><div class=\"sk-serial\"><div class=\"sk-item\"><div class=\"sk-estimator sk-toggleable\"><input class=\"sk-toggleable__control sk-hidden--visually\" id=\"sk-estimator-id-9\" type=\"checkbox\" ><label for=\"sk-estimator-id-9\" class=\"sk-toggleable__label sk-toggleable__label-arrow\">StandardScaler</label><div class=\"sk-toggleable__content\"><pre>StandardScaler()</pre></div></div></div><div class=\"sk-item\"><div class=\"sk-estimator sk-toggleable\"><input class=\"sk-toggleable__control sk-hidden--visually\" id=\"sk-estimator-id-10\" type=\"checkbox\" ><label for=\"sk-estimator-id-10\" class=\"sk-toggleable__label sk-toggleable__label-arrow\">SVC</label><div class=\"sk-toggleable__content\"><pre>SVC(C=5, coef0=1, kernel=&#x27;poly&#x27;)</pre></div></div></div></div></div></div></div>"
     },
     "execution_count": 16,
     "metadata": {},
     "output_type": "execute_result"
    }
   ],
   "source": [
    "poly_kernel_svm_clf.fit(X, y)\n"
   ]
  },
  {
   "cell_type": "code",
   "execution_count": 17,
   "metadata": {
    "colab": {
     "base_uri": "https://localhost:8080/",
     "height": 309
    },
    "executionInfo": {
     "elapsed": 1247,
     "status": "ok",
     "timestamp": 1677674813427,
     "user": {
      "displayName": "Ernesto Frías Nores",
      "userId": "04050836756016798788"
     },
     "user_tz": -60
    },
    "id": "I5bdbIzuz3bm",
    "outputId": "3f9960db-1399-4d2c-d861-aac22e11d78c"
   },
   "outputs": [
    {
     "data": {
      "text/plain": "<Figure size 432x288 with 1 Axes>",
      "image/png": "[encoded data removed]"
     },
     "metadata": {
      "needs_background": "light"
     },
     "output_type": "display_data"
    }
   ],
   "source": [
    "plot_predictions(poly_kernel_svm_clf, [-1.5, 2.5, -1, 1.5])\n",
    "plot_dataset(X, y, [-1.5, 2.5, -1, 1.5])\n",
    "plt.show()"
   ]
  },
  {
   "cell_type": "markdown",
   "metadata": {
    "collapsed": false,
    "id": "FvqxpjO1z3bm"
   },
   "source": [
    "Este modelo entrena un clasificador SVM utilizando un kernel de features de tercer grado.\n",
    "\n",
    "Si nuestro modelo se ajusta en exceso, es posible que deseemos disminuir el grado del polinomio, y si se ajusta de manera insuficiente, puede ser una buena idea aumentar el grado. `coef0` (r) controla en qué porcentaje el modelo está influenciado por polinomios de alto grado frente a polinomios de bajo grado.\n",
    "\n",
    "La siguiente figura muestra el modelo previamente entrenado de grado 3 (a la izquierda) frente a un modelo más complejo de kernel de grado 10:"
   ]
  },
  {
   "cell_type": "markdown",
   "metadata": {
    "collapsed": false,
    "id": "ZStHg5LPz3bm"
   },
   "source": [
    "<div style=\"text-align:center;\"><img style=\"width:66%;\" src=\"./img/kernel_trick.png\" /></div>"
   ]
  },
  {
   "cell_type": "markdown",
   "metadata": {
    "id": "DGUHsmsez3bn"
   },
   "source": [
    "## 3. Regresión SVM\n",
    "\n",
    "Las SVM también admiten la regresión lineal y no lineal, pero para pasar de la clasificación a la regresión tenemos que invertir el objetivo. En lugar de intentar encajar la calle más grande posible entre dos clases mientras se limitan las infracciones de margen, la regresión SVM intenta encajar **tantas instancias como sea posible** en la calle mientras limita las infracciones de margen. El ancho de la calle está controlado por el hiperparámetro $\\epsilon$. A continuación se muestra un ejemplo:\n",
    "\n"
   ]
  },
  {
   "cell_type": "markdown",
   "metadata": {
    "collapsed": false,
    "id": "sOxXqoi8z3bn"
   },
   "source": [
    "<div style=\"text-align:center;\"><img style=\"width:66%;\" src=\"./img/SVM_regression.png\" /></div>\n",
    "\n",
    "Agregar más instancias al margen no afecta las predicciones del modelo; por lo tanto, se dice que el modelo es $\\epsilon$-insensible.\n",
    "\n",
    "Vamos a implementar un regresor lineal `SVR` de `sklearn` (después de escalar y centrar los datos):"
   ]
  },
  {
   "cell_type": "code",
   "execution_count": 18,
   "metadata": {
    "executionInfo": {
     "elapsed": 268,
     "status": "ok",
     "timestamp": 1677674910318,
     "user": {
      "displayName": "Ernesto Frías Nores",
      "userId": "04050836756016798788"
     },
     "user_tz": -60
    },
    "id": "MjPbbozcz3bn"
   },
   "outputs": [],
   "source": [
    "from sklearn.svm import LinearSVR"
   ]
  },
  {
   "cell_type": "code",
   "execution_count": 19,
   "metadata": {
    "executionInfo": {
     "elapsed": 288,
     "status": "ok",
     "timestamp": 1677674913410,
     "user": {
      "displayName": "Ernesto Frías Nores",
      "userId": "04050836756016798788"
     },
     "user_tz": -60
    },
    "id": "ITMBFCwcz3bn"
   },
   "outputs": [],
   "source": [
    "svm_reg = LinearSVR(epsilon=1.5)"
   ]
  },
  {
   "cell_type": "code",
   "execution_count": 20,
   "metadata": {
    "colab": {
     "base_uri": "https://localhost:8080/"
    },
    "executionInfo": {
     "elapsed": 35,
     "status": "ok",
     "timestamp": 1677674915331,
     "user": {
      "displayName": "Ernesto Frías Nores",
      "userId": "04050836756016798788"
     },
     "user_tz": -60
    },
    "id": "BWqp54OXz3bo",
    "outputId": "f7388042-8b0f-4a59-fcf3-a50268c6bb2b"
   },
   "outputs": [
    {
     "data": {
      "text/plain": "LinearSVR(epsilon=1.5)",
      "text/html": "<style>#sk-container-id-4 {color: black;background-color: white;}#sk-container-id-4 pre{padding: 0;}#sk-container-id-4 div.sk-toggleable {background-color: white;}#sk-container-id-4 label.sk-toggleable__label {cursor: pointer;display: block;width: 100%;margin-bottom: 0;padding: 0.3em;box-sizing: border-box;text-align: center;}#sk-container-id-4 label.sk-toggleable__label-arrow:before {content: \"▸\";float: left;margin-right: 0.25em;color: #696969;}#sk-container-id-4 label.sk-toggleable__label-arrow:hover:before {color: black;}#sk-container-id-4 div.sk-estimator:hover label.sk-toggleable__label-arrow:before {color: black;}#sk-container-id-4 div.sk-toggleable__content {max-height: 0;max-width: 0;overflow: hidden;text-align: left;background-color: #f0f8ff;}#sk-container-id-4 div.sk-toggleable__content pre {margin: 0.2em;color: black;border-radius: 0.25em;background-color: #f0f8ff;}#sk-container-id-4 input.sk-toggleable__control:checked~div.sk-toggleable__content {max-height: 200px;max-width: 100%;overflow: auto;}#sk-container-id-4 input.sk-toggleable__control:checked~label.sk-toggleable__label-arrow:before {content: \"▾\";}#sk-container-id-4 div.sk-estimator input.sk-toggleable__control:checked~label.sk-toggleable__label {background-color: #d4ebff;}#sk-container-id-4 div.sk-label input.sk-toggleable__control:checked~label.sk-toggleable__label {background-color: #d4ebff;}#sk-container-id-4 input.sk-hidden--visually {border: 0;clip: rect(1px 1px 1px 1px);clip: rect(1px, 1px, 1px, 1px);height: 1px;margin: -1px;overflow: hidden;padding: 0;position: absolute;width: 1px;}#sk-container-id-4 div.sk-estimator {font-family: monospace;background-color: #f0f8ff;border: 1px dotted black;border-radius: 0.25em;box-sizing: border-box;margin-bottom: 0.5em;}#sk-container-id-4 div.sk-estimator:hover {background-color: #d4ebff;}#sk-container-id-4 div.sk-parallel-item::after {content: \"\";width: 100%;border-bottom: 1px solid gray;flex-grow: 1;}#sk-container-id-4 div.sk-label:hover label.sk-toggleable__label {background-color: #d4ebff;}#sk-container-id-4 div.sk-serial::before {content: \"\";position: absolute;border-left: 1px solid gray;box-sizing: border-box;top: 0;bottom: 0;left: 50%;z-index: 0;}#sk-container-id-4 div.sk-serial {display: flex;flex-direction: column;align-items: center;background-color: white;padding-right: 0.2em;padding-left: 0.2em;position: relative;}#sk-container-id-4 div.sk-item {position: relative;z-index: 1;}#sk-container-id-4 div.sk-parallel {display: flex;align-items: stretch;justify-content: center;background-color: white;position: relative;}#sk-container-id-4 div.sk-item::before, #sk-container-id-4 div.sk-parallel-item::before {content: \"\";position: absolute;border-left: 1px solid gray;box-sizing: border-box;top: 0;bottom: 0;left: 50%;z-index: -1;}#sk-container-id-4 div.sk-parallel-item {display: flex;flex-direction: column;z-index: 1;position: relative;background-color: white;}#sk-container-id-4 div.sk-parallel-item:first-child::after {align-self: flex-end;width: 50%;}#sk-container-id-4 div.sk-parallel-item:last-child::after {align-self: flex-start;width: 50%;}#sk-container-id-4 div.sk-parallel-item:only-child::after {width: 0;}#sk-container-id-4 div.sk-dashed-wrapped {border: 1px dashed gray;margin: 0 0.4em 0.5em 0.4em;box-sizing: border-box;padding-bottom: 0.4em;background-color: white;}#sk-container-id-4 div.sk-label label {font-family: monospace;font-weight: bold;display: inline-block;line-height: 1.2em;}#sk-container-id-4 div.sk-label-container {text-align: center;}#sk-container-id-4 div.sk-container {/* jupyter's `normalize.less` sets `[hidden] { display: none; }` but bootstrap.min.css set `[hidden] { display: none !important; }` so we also need the `!important` here to be able to override the default hidden behavior on the sphinx rendered scikit-learn.org. See: https://github.com/scikit-learn/scikit-learn/issues/21755 */display: inline-block !important;position: relative;}#sk-container-id-4 div.sk-text-repr-fallback {display: none;}</style><div id=\"sk-container-id-4\" class=\"sk-top-container\"><div class=\"sk-text-repr-fallback\"><pre>LinearSVR(epsilon=1.5)</pre><b>In a Jupyter environment, please rerun this cell to show the HTML representation or trust the notebook. <br />On GitHub, the HTML representation is unable to render, please try loading this page with nbviewer.org.</b></div><div class=\"sk-container\" hidden><div class=\"sk-item\"><div class=\"sk-estimator sk-toggleable\"><input class=\"sk-toggleable__control sk-hidden--visually\" id=\"sk-estimator-id-11\" type=\"checkbox\" checked><label for=\"sk-estimator-id-11\" class=\"sk-toggleable__label sk-toggleable__label-arrow\">LinearSVR</label><div class=\"sk-toggleable__content\"><pre>LinearSVR(epsilon=1.5)</pre></div></div></div></div></div>"
     },
     "execution_count": 20,
     "metadata": {},
     "output_type": "execute_result"
    }
   ],
   "source": [
    "svm_reg.fit(X, y)"
   ]
  },
  {
   "cell_type": "markdown",
   "metadata": {
    "collapsed": false,
    "id": "ijYETwoyz3bo"
   },
   "source": [
    "Para abordar las tareas de regresión lineal, podemos usar un modelo SVM con kernel polinomial:\n"
   ]
  },
  {
   "cell_type": "code",
   "execution_count": 21,
   "metadata": {
    "executionInfo": {
     "elapsed": 330,
     "status": "ok",
     "timestamp": 1677674923696,
     "user": {
      "displayName": "Ernesto Frías Nores",
      "userId": "04050836756016798788"
     },
     "user_tz": -60
    },
    "id": "4MPpUUbUz3bo"
   },
   "outputs": [],
   "source": [
    "from sklearn.svm import SVR"
   ]
  },
  {
   "cell_type": "code",
   "execution_count": 22,
   "metadata": {
    "executionInfo": {
     "elapsed": 207,
     "status": "ok",
     "timestamp": 1677674929617,
     "user": {
      "displayName": "Ernesto Frías Nores",
      "userId": "04050836756016798788"
     },
     "user_tz": -60
    },
    "id": "bC_VfnTCz3bo"
   },
   "outputs": [],
   "source": [
    "svm_poly_reg = SVR(kernel='poly', degree=2, C=100, epsilon=0.1, gamma='auto')"
   ]
  },
  {
   "cell_type": "code",
   "execution_count": 23,
   "metadata": {
    "colab": {
     "base_uri": "https://localhost:8080/"
    },
    "executionInfo": {
     "elapsed": 307,
     "status": "ok",
     "timestamp": 1677674941120,
     "user": {
      "displayName": "Ernesto Frías Nores",
      "userId": "04050836756016798788"
     },
     "user_tz": -60
    },
    "id": "gTxnQgUIz3bp",
    "outputId": "9a72f5bb-78bb-4c90-cdce-5073983923b7"
   },
   "outputs": [
    {
     "data": {
      "text/plain": "SVR(C=100, degree=2, gamma='auto', kernel='poly')",
      "text/html": "<style>#sk-container-id-5 {color: black;background-color: white;}#sk-container-id-5 pre{padding: 0;}#sk-container-id-5 div.sk-toggleable {background-color: white;}#sk-container-id-5 label.sk-toggleable__label {cursor: pointer;display: block;width: 100%;margin-bottom: 0;padding: 0.3em;box-sizing: border-box;text-align: center;}#sk-container-id-5 label.sk-toggleable__label-arrow:before {content: \"▸\";float: left;margin-right: 0.25em;color: #696969;}#sk-container-id-5 label.sk-toggleable__label-arrow:hover:before {color: black;}#sk-container-id-5 div.sk-estimator:hover label.sk-toggleable__label-arrow:before {color: black;}#sk-container-id-5 div.sk-toggleable__content {max-height: 0;max-width: 0;overflow: hidden;text-align: left;background-color: #f0f8ff;}#sk-container-id-5 div.sk-toggleable__content pre {margin: 0.2em;color: black;border-radius: 0.25em;background-color: #f0f8ff;}#sk-container-id-5 input.sk-toggleable__control:checked~div.sk-toggleable__content {max-height: 200px;max-width: 100%;overflow: auto;}#sk-container-id-5 input.sk-toggleable__control:checked~label.sk-toggleable__label-arrow:before {content: \"▾\";}#sk-container-id-5 div.sk-estimator input.sk-toggleable__control:checked~label.sk-toggleable__label {background-color: #d4ebff;}#sk-container-id-5 div.sk-label input.sk-toggleable__control:checked~label.sk-toggleable__label {background-color: #d4ebff;}#sk-container-id-5 input.sk-hidden--visually {border: 0;clip: rect(1px 1px 1px 1px);clip: rect(1px, 1px, 1px, 1px);height: 1px;margin: -1px;overflow: hidden;padding: 0;position: absolute;width: 1px;}#sk-container-id-5 div.sk-estimator {font-family: monospace;background-color: #f0f8ff;border: 1px dotted black;border-radius: 0.25em;box-sizing: border-box;margin-bottom: 0.5em;}#sk-container-id-5 div.sk-estimator:hover {background-color: #d4ebff;}#sk-container-id-5 div.sk-parallel-item::after {content: \"\";width: 100%;border-bottom: 1px solid gray;flex-grow: 1;}#sk-container-id-5 div.sk-label:hover label.sk-toggleable__label {background-color: #d4ebff;}#sk-container-id-5 div.sk-serial::before {content: \"\";position: absolute;border-left: 1px solid gray;box-sizing: border-box;top: 0;bottom: 0;left: 50%;z-index: 0;}#sk-container-id-5 div.sk-serial {display: flex;flex-direction: column;align-items: center;background-color: white;padding-right: 0.2em;padding-left: 0.2em;position: relative;}#sk-container-id-5 div.sk-item {position: relative;z-index: 1;}#sk-container-id-5 div.sk-parallel {display: flex;align-items: stretch;justify-content: center;background-color: white;position: relative;}#sk-container-id-5 div.sk-item::before, #sk-container-id-5 div.sk-parallel-item::before {content: \"\";position: absolute;border-left: 1px solid gray;box-sizing: border-box;top: 0;bottom: 0;left: 50%;z-index: -1;}#sk-container-id-5 div.sk-parallel-item {display: flex;flex-direction: column;z-index: 1;position: relative;background-color: white;}#sk-container-id-5 div.sk-parallel-item:first-child::after {align-self: flex-end;width: 50%;}#sk-container-id-5 div.sk-parallel-item:last-child::after {align-self: flex-start;width: 50%;}#sk-container-id-5 div.sk-parallel-item:only-child::after {width: 0;}#sk-container-id-5 div.sk-dashed-wrapped {border: 1px dashed gray;margin: 0 0.4em 0.5em 0.4em;box-sizing: border-box;padding-bottom: 0.4em;background-color: white;}#sk-container-id-5 div.sk-label label {font-family: monospace;font-weight: bold;display: inline-block;line-height: 1.2em;}#sk-container-id-5 div.sk-label-container {text-align: center;}#sk-container-id-5 div.sk-container {/* jupyter's `normalize.less` sets `[hidden] { display: none; }` but bootstrap.min.css set `[hidden] { display: none !important; }` so we also need the `!important` here to be able to override the default hidden behavior on the sphinx rendered scikit-learn.org. See: https://github.com/scikit-learn/scikit-learn/issues/21755 */display: inline-block !important;position: relative;}#sk-container-id-5 div.sk-text-repr-fallback {display: none;}</style><div id=\"sk-container-id-5\" class=\"sk-top-container\"><div class=\"sk-text-repr-fallback\"><pre>SVR(C=100, degree=2, gamma=&#x27;auto&#x27;, kernel=&#x27;poly&#x27;)</pre><b>In a Jupyter environment, please rerun this cell to show the HTML representation or trust the notebook. <br />On GitHub, the HTML representation is unable to render, please try loading this page with nbviewer.org.</b></div><div class=\"sk-container\" hidden><div class=\"sk-item\"><div class=\"sk-estimator sk-toggleable\"><input class=\"sk-toggleable__control sk-hidden--visually\" id=\"sk-estimator-id-12\" type=\"checkbox\" checked><label for=\"sk-estimator-id-12\" class=\"sk-toggleable__label sk-toggleable__label-arrow\">SVR</label><div class=\"sk-toggleable__content\"><pre>SVR(C=100, degree=2, gamma=&#x27;auto&#x27;, kernel=&#x27;poly&#x27;)</pre></div></div></div></div></div>"
     },
     "execution_count": 23,
     "metadata": {},
     "output_type": "execute_result"
    }
   ],
   "source": [
    "svm_poly_reg.fit(X, y)"
   ]
  },
  {
   "cell_type": "markdown",
   "metadata": {
    "collapsed": false,
    "id": "abW-EeY2z3bp"
   },
   "source": [
    "`LinearSVR` se escala linealmente al tamaño del conjunto de entrenamiento, mientras que `SVR` es mucho más lento (al igual que `LinearSVC` y `SVC`)."
   ]
  },
  {
   "cell_type": "markdown",
   "metadata": {
    "collapsed": false,
    "id": "F5nnrbJCz3bp"
   },
   "source": [
    "## 4. EXTRA: Similarity Features\n",
    "\n",
    "Al margen de los kernels polinómicos, existe otra técnicas habitual para abordar problemas no lineales llamada \"Similarity features\" consistente en agregar características calculadas usando una **función de similitud**, que mide cuánto se parece cada instancia a un punto de referencia en particular.\n",
    "\n",
    "Por ejemplo, si tomamos el dataset visto anteriormente y agregamos dos puntos de referencia en $x_{1}=-2$ y $x_{1}=1$, como se muestra en el gráfico izquierdo de:\n",
    "\n",
    "<div style=\"text-align:center;\"><img style=\"width:66%;\" src=\"./img/similarity_measures.png\" /></div>\n",
    "\n",
    "Definimos la función de similitud como la **Función de base radial gaussiana (RBF)** con $\\gamma = 0.3$. $\\phi$ es una función en forma de campana que varía de 0 ($x$ está muy lejos de $l$) a 1 ($x=l$). Después de definir una función de similitud, las nuevas características son las **distancias** de cada instancia de entrenamiento desde los puntos de referencia.\n",
    "\n",
    "Como podemos ver en el gráfico de la derecha, las instancias se vuelven linealmente separables usando solo características de distancia.\n",
    "\n",
    "Pero, ¿cómo seleccionamos los puntos de referencia? El enfoque más simple es crear un punto de referencia en todos y cada uno de los puntos de los datos de entrenamiento. Hacer eso aumentará el número de dimensiones y dará una mejor oportunidad de encontrar un separador lineal. La desventaja es que crearemos un número `m` adicional de funciones (como filas), lo que puede provocar problemas de rendimiento."
   ]
  },
  {
   "cell_type": "markdown",
   "metadata": {
    "collapsed": false,
    "id": "yqHbLRBmz3bp"
   },
   "source": [
    "### 4.1. Gaussian RBF Kernel\n",
    "\n",
    "Al igual que el método de características polinómicas, el método de características de similitud puede ser útil en muchos algoritmos de ML. El problema es que con conjuntos de datos muy grandes, terminaremos con un espacio de características muy grande, pero una vez más tenemos el truco de Kernel para que parezca como si añadimos características adicionales.\n",
    "\n",
    "Vamos a verlo con `sklearn`:"
   ]
  },
  {
   "cell_type": "code",
   "execution_count": 24,
   "metadata": {
    "executionInfo": {
     "elapsed": 316,
     "status": "ok",
     "timestamp": 1677674990549,
     "user": {
      "displayName": "Ernesto Frías Nores",
      "userId": "04050836756016798788"
     },
     "user_tz": -60
    },
    "id": "kK-TA4P8z3bq"
   },
   "outputs": [],
   "source": [
    "from sklearn.svm import SVC"
   ]
  },
  {
   "cell_type": "code",
   "execution_count": 25,
   "metadata": {
    "executionInfo": {
     "elapsed": 618,
     "status": "ok",
     "timestamp": 1677674993819,
     "user": {
      "displayName": "Ernesto Frías Nores",
      "userId": "04050836756016798788"
     },
     "user_tz": -60
    },
    "id": "R5e7gCYGz3bq"
   },
   "outputs": [],
   "source": [
    "rbf_kernel_svm_clf = Pipeline([\n",
    "    (\"scaler\", StandardScaler()),\n",
    "    (\"svm_clf\", SVC(kernel=\"rbf\", gamma=5, C=0.001))\n",
    "])"
   ]
  },
  {
   "cell_type": "code",
   "execution_count": 26,
   "metadata": {
    "colab": {
     "base_uri": "https://localhost:8080/"
    },
    "executionInfo": {
     "elapsed": 281,
     "status": "ok",
     "timestamp": 1677674996600,
     "user": {
      "displayName": "Ernesto Frías Nores",
      "userId": "04050836756016798788"
     },
     "user_tz": -60
    },
    "id": "puiHAjkzz3bq",
    "outputId": "136c4e0b-3e75-4176-aae5-bc222d7e3c11"
   },
   "outputs": [
    {
     "data": {
      "text/plain": "Pipeline(steps=[('scaler', StandardScaler()),\n                ('svm_clf', SVC(C=0.001, gamma=5))])",
      "text/html": "<style>#sk-container-id-6 {color: black;background-color: white;}#sk-container-id-6 pre{padding: 0;}#sk-container-id-6 div.sk-toggleable {background-color: white;}#sk-container-id-6 label.sk-toggleable__label {cursor: pointer;display: block;width: 100%;margin-bottom: 0;padding: 0.3em;box-sizing: border-box;text-align: center;}#sk-container-id-6 label.sk-toggleable__label-arrow:before {content: \"▸\";float: left;margin-right: 0.25em;color: #696969;}#sk-container-id-6 label.sk-toggleable__label-arrow:hover:before {color: black;}#sk-container-id-6 div.sk-estimator:hover label.sk-toggleable__label-arrow:before {color: black;}#sk-container-id-6 div.sk-toggleable__content {max-height: 0;max-width: 0;overflow: hidden;text-align: left;background-color: #f0f8ff;}#sk-container-id-6 div.sk-toggleable__content pre {margin: 0.2em;color: black;border-radius: 0.25em;background-color: #f0f8ff;}#sk-container-id-6 input.sk-toggleable__control:checked~div.sk-toggleable__content {max-height: 200px;max-width: 100%;overflow: auto;}#sk-container-id-6 input.sk-toggleable__control:checked~label.sk-toggleable__label-arrow:before {content: \"▾\";}#sk-container-id-6 div.sk-estimator input.sk-toggleable__control:checked~label.sk-toggleable__label {background-color: #d4ebff;}#sk-container-id-6 div.sk-label input.sk-toggleable__control:checked~label.sk-toggleable__label {background-color: #d4ebff;}#sk-container-id-6 input.sk-hidden--visually {border: 0;clip: rect(1px 1px 1px 1px);clip: rect(1px, 1px, 1px, 1px);height: 1px;margin: -1px;overflow: hidden;padding: 0;position: absolute;width: 1px;}#sk-container-id-6 div.sk-estimator {font-family: monospace;background-color: #f0f8ff;border: 1px dotted black;border-radius: 0.25em;box-sizing: border-box;margin-bottom: 0.5em;}#sk-container-id-6 div.sk-estimator:hover {background-color: #d4ebff;}#sk-container-id-6 div.sk-parallel-item::after {content: \"\";width: 100%;border-bottom: 1px solid gray;flex-grow: 1;}#sk-container-id-6 div.sk-label:hover label.sk-toggleable__label {background-color: #d4ebff;}#sk-container-id-6 div.sk-serial::before {content: \"\";position: absolute;border-left: 1px solid gray;box-sizing: border-box;top: 0;bottom: 0;left: 50%;z-index: 0;}#sk-container-id-6 div.sk-serial {display: flex;flex-direction: column;align-items: center;background-color: white;padding-right: 0.2em;padding-left: 0.2em;position: relative;}#sk-container-id-6 div.sk-item {position: relative;z-index: 1;}#sk-container-id-6 div.sk-parallel {display: flex;align-items: stretch;justify-content: center;background-color: white;position: relative;}#sk-container-id-6 div.sk-item::before, #sk-container-id-6 div.sk-parallel-item::before {content: \"\";position: absolute;border-left: 1px solid gray;box-sizing: border-box;top: 0;bottom: 0;left: 50%;z-index: -1;}#sk-container-id-6 div.sk-parallel-item {display: flex;flex-direction: column;z-index: 1;position: relative;background-color: white;}#sk-container-id-6 div.sk-parallel-item:first-child::after {align-self: flex-end;width: 50%;}#sk-container-id-6 div.sk-parallel-item:last-child::after {align-self: flex-start;width: 50%;}#sk-container-id-6 div.sk-parallel-item:only-child::after {width: 0;}#sk-container-id-6 div.sk-dashed-wrapped {border: 1px dashed gray;margin: 0 0.4em 0.5em 0.4em;box-sizing: border-box;padding-bottom: 0.4em;background-color: white;}#sk-container-id-6 div.sk-label label {font-family: monospace;font-weight: bold;display: inline-block;line-height: 1.2em;}#sk-container-id-6 div.sk-label-container {text-align: center;}#sk-container-id-6 div.sk-container {/* jupyter's `normalize.less` sets `[hidden] { display: none; }` but bootstrap.min.css set `[hidden] { display: none !important; }` so we also need the `!important` here to be able to override the default hidden behavior on the sphinx rendered scikit-learn.org. See: https://github.com/scikit-learn/scikit-learn/issues/21755 */display: inline-block !important;position: relative;}#sk-container-id-6 div.sk-text-repr-fallback {display: none;}</style><div id=\"sk-container-id-6\" class=\"sk-top-container\"><div class=\"sk-text-repr-fallback\"><pre>Pipeline(steps=[(&#x27;scaler&#x27;, StandardScaler()),\n                (&#x27;svm_clf&#x27;, SVC(C=0.001, gamma=5))])</pre><b>In a Jupyter environment, please rerun this cell to show the HTML representation or trust the notebook. <br />On GitHub, the HTML representation is unable to render, please try loading this page with nbviewer.org.</b></div><div class=\"sk-container\" hidden><div class=\"sk-item sk-dashed-wrapped\"><div class=\"sk-label-container\"><div class=\"sk-label sk-toggleable\"><input class=\"sk-toggleable__control sk-hidden--visually\" id=\"sk-estimator-id-13\" type=\"checkbox\" ><label for=\"sk-estimator-id-13\" class=\"sk-toggleable__label sk-toggleable__label-arrow\">Pipeline</label><div class=\"sk-toggleable__content\"><pre>Pipeline(steps=[(&#x27;scaler&#x27;, StandardScaler()),\n                (&#x27;svm_clf&#x27;, SVC(C=0.001, gamma=5))])</pre></div></div></div><div class=\"sk-serial\"><div class=\"sk-item\"><div class=\"sk-estimator sk-toggleable\"><input class=\"sk-toggleable__control sk-hidden--visually\" id=\"sk-estimator-id-14\" type=\"checkbox\" ><label for=\"sk-estimator-id-14\" class=\"sk-toggleable__label sk-toggleable__label-arrow\">StandardScaler</label><div class=\"sk-toggleable__content\"><pre>StandardScaler()</pre></div></div></div><div class=\"sk-item\"><div class=\"sk-estimator sk-toggleable\"><input class=\"sk-toggleable__control sk-hidden--visually\" id=\"sk-estimator-id-15\" type=\"checkbox\" ><label for=\"sk-estimator-id-15\" class=\"sk-toggleable__label sk-toggleable__label-arrow\">SVC</label><div class=\"sk-toggleable__content\"><pre>SVC(C=0.001, gamma=5)</pre></div></div></div></div></div></div></div>"
     },
     "execution_count": 26,
     "metadata": {},
     "output_type": "execute_result"
    }
   ],
   "source": [
    "rbf_kernel_svm_clf.fit(X, y)"
   ]
  },
  {
   "cell_type": "markdown",
   "metadata": {
    "collapsed": false,
    "id": "FwXRMxYHz3bq"
   },
   "source": [
    "A continuación tenemos el espacio de predicciones con las instancias del conjunto de entrenamiento (abajo a la izquierda está el modelo entrenado anteriormente). Los otros gráficos se corresponden a diferentes configuraciones de hiperparámetros:\n",
    "\n",
    "<div style=\"text-align:center;\"><img style=\"width:66%;\" src=\"./img/training_rbfs.png\" /></div>\n",
    "\n",
    "El aumento de $\\gamma$ hace que la curva en forma de campana sea más estrecha, el límite de decisión termina siendo más irregular, moviéndose alrededor de instancias individuales. Entonces $\\gamma$ actúa como un hiperparámetro de regularización.\n",
    "- El aumento de gamma aumenta la sensibilidad del modelo (puede dar lugar a un sobreajuste).\n",
    "- la disminución de gamma aumenta el sesgo del modelo (puede conducir a un ajuste insuficiente)\n",
    "\n",
    "Siempre deberíamos probar primero el kernel lineal, y si el conjunto de entrenamiento no es demasiado grande, entonces podríamos probar el kernel RBF gaussiano."
   ]
  },
  {
   "attachments": {},
   "cell_type": "markdown",
   "metadata": {
    "collapsed": false,
    "id": "Wh3kztkrz3bq"
   },
   "source": [
    "## Ejercicios:\n",
    "\n",
    "Responde a las siguientes preguntas cortas:\n",
    "\n",
    "1. ¿Qué es un vector de soporte?\n",
    "\n",
    "Es un conjunto de algoritmos que se usan para clasificación binaria, es decir para separar un set de datos en dos categorías o clases diferentes (clasificación).\n",
    "\n",
    "2. ¿Es necesario escalar las features cuando usamos SVM? ¿Por qué?\n",
    "\n",
    "Para evitar Outliers y que distorsione a la hora de entrenar el modelo ya que se trata de algoritmos de clasificación y cualquier Outlier estropearía nuestro modelo.\n",
    "\n",
    "3. Supongamos que has entrenado un clasificador SVM con Kernel Polinómicos, pero parece que no se ajusta bien a los datos de entrenamiento. ¿Qué harías?\n",
    "\n",
    "Probaría con una clasificación lineal con polinomial features,ya que es similiar y si no,probaría con el resto de algorítmos de SVM que más se ajuste a los datos de los que disponemos."
   ]
  },
  {
   "cell_type": "markdown",
   "metadata": {
    "id": "oOCoGkXhz3br"
   },
   "source": [
    "**4. Entrena un clasificador `LinearSVC` sobre un dataset separable lienalmente generado aleatóriamente.**"
   ]
  },
  {
   "cell_type": "code",
   "execution_count": 27,
   "metadata": {
    "executionInfo": {
     "elapsed": 225,
     "status": "ok",
     "timestamp": 1677675212461,
     "user": {
      "displayName": "Ernesto Frías Nores",
      "userId": "04050836756016798788"
     },
     "user_tz": -60
    },
    "id": "G9flW7iuz3br"
   },
   "outputs": [],
   "source": [
    "from sklearn.svm import LinearSVC, SVC\n",
    "import matplotlib.pyplot as plt"
   ]
  },
  {
   "cell_type": "markdown",
   "metadata": {
    "id": "v2AFYgdBz3br"
   },
   "source": [
    "Primero generamos los datos separable linealmente:"
   ]
  },
  {
   "cell_type": "code",
   "execution_count": 28,
   "metadata": {
    "colab": {
     "base_uri": "https://localhost:8080/"
    },
    "executionInfo": {
     "elapsed": 295,
     "status": "ok",
     "timestamp": 1677675215213,
     "user": {
      "displayName": "Ernesto Frías Nores",
      "userId": "04050836756016798788"
     },
     "user_tz": -60
    },
    "id": "CZd4IIDVz3br",
    "outputId": "5460414e-8c8e-4b0d-e627-e8adb09d0de7"
   },
   "outputs": [
    {
     "data": {
      "text/plain": "((500, 3), (500, 3))"
     },
     "execution_count": 28,
     "metadata": {},
     "output_type": "execute_result"
    }
   ],
   "source": [
    "d1 = np.concatenate((np.random.normal(loc=6, scale=1, size=(500, 2)), np.ones((500, 1))), axis=1) \n",
    "d2 = np.concatenate((np.random.normal(loc=3, scale=1, size=(500, 2)), np.zeros((500, 1))), axis=1) \n",
    "d1.shape, d2.shape"
   ]
  },
  {
   "cell_type": "code",
   "execution_count": 29,
   "metadata": {
    "colab": {
     "base_uri": "https://localhost:8080/",
     "height": 295
    },
    "executionInfo": {
     "elapsed": 333,
     "status": "ok",
     "timestamp": 1677675218845,
     "user": {
      "displayName": "Ernesto Frías Nores",
      "userId": "04050836756016798788"
     },
     "user_tz": -60
    },
    "id": "8hLnYRlPz3br",
    "outputId": "1ee34d21-40f7-48cd-96ff-f94c152ea1ae"
   },
   "outputs": [
    {
     "data": {
      "text/plain": "<Figure size 432x288 with 1 Axes>",
      "image/png": "[encoded data removed]"
     },
     "metadata": {
      "needs_background": "light"
     },
     "output_type": "display_data"
    }
   ],
   "source": [
    "plt.scatter(d1[:,0], d1[:,1], c='red')\n",
    "plt.scatter(d2[:,0], d2[:,1], c='blue')\n",
    "plt.xlabel('x1')\n",
    "plt.ylabel('x2')\n",
    "plt.title('Synthetic 2D Points')\n",
    "plt.xlim(0, 10)\n",
    "plt.ylim(0, 10)\n",
    "plt.show()"
   ]
  },
  {
   "cell_type": "markdown",
   "metadata": {
    "id": "RWSqcBuWz3bs"
   },
   "source": [
    "Posteriormente, combinamos y mezclamos los datos d1 y d2:"
   ]
  },
  {
   "cell_type": "code",
   "execution_count": 30,
   "metadata": {
    "colab": {
     "base_uri": "https://localhost:8080/"
    },
    "executionInfo": {
     "elapsed": 317,
     "status": "ok",
     "timestamp": 1677675225146,
     "user": {
      "displayName": "Ernesto Frías Nores",
      "userId": "04050836756016798788"
     },
     "user_tz": -60
    },
    "id": "ZhZCbJ71z3bs",
    "outputId": "7e7cb6aa-8ab4-401a-f4df-6f1d00663dc5"
   },
   "outputs": [
    {
     "data": {
      "text/plain": "(1000, 3)"
     },
     "execution_count": 30,
     "metadata": {},
     "output_type": "execute_result"
    }
   ],
   "source": [
    "d = np.concatenate((d1,d2), axis=0)\n",
    "d.shape"
   ]
  },
  {
   "cell_type": "code",
   "execution_count": 31,
   "metadata": {
    "executionInfo": {
     "elapsed": 249,
     "status": "ok",
     "timestamp": 1677675227651,
     "user": {
      "displayName": "Ernesto Frías Nores",
      "userId": "04050836756016798788"
     },
     "user_tz": -60
    },
    "id": "wDkP4y7Tz3bs"
   },
   "outputs": [],
   "source": [
    "np.random.shuffle(d)"
   ]
  },
  {
   "cell_type": "markdown",
   "metadata": {
    "id": "cElD5Cclz3bs"
   },
   "source": [
    "Entrenamiento:"
   ]
  },
  {
   "cell_type": "code",
   "execution_count": 32,
   "metadata": {
    "executionInfo": {
     "elapsed": 296,
     "status": "ok",
     "timestamp": 1677675230144,
     "user": {
      "displayName": "Ernesto Frías Nores",
      "userId": "04050836756016798788"
     },
     "user_tz": -60
    },
    "id": "nxqtGXTFz3bt"
   },
   "outputs": [],
   "source": [
    "model = LinearSVC()"
   ]
  },
  {
   "cell_type": "code",
   "execution_count": 33,
   "metadata": {
    "executionInfo": {
     "elapsed": 19,
     "status": "ok",
     "timestamp": 1677675231736,
     "user": {
      "displayName": "Ernesto Frías Nores",
      "userId": "04050836756016798788"
     },
     "user_tz": -60
    },
    "id": "hhxJE0o1z3bt"
   },
   "outputs": [],
   "source": [
    "from sklearn.model_selection import train_test_split"
   ]
  },
  {
   "cell_type": "code",
   "execution_count": 34,
   "metadata": {
    "executionInfo": {
     "elapsed": 207,
     "status": "ok",
     "timestamp": 1677675233389,
     "user": {
      "displayName": "Ernesto Frías Nores",
      "userId": "04050836756016798788"
     },
     "user_tz": -60
    },
    "id": "KebHc28Wz3bt"
   },
   "outputs": [],
   "source": [
    "X_train, X_test, y_train, y_test =  train_test_split(d[:,:2], d[:,2:], test_size=0.2)"
   ]
  },
  {
   "cell_type": "code",
   "execution_count": 35,
   "metadata": {
    "id": "LIMFqk-xz3bt"
   },
   "outputs": [
    {
     "data": {
      "text/plain": "((800, 2), (200, 2), (800, 1), (200, 1))"
     },
     "execution_count": 35,
     "metadata": {},
     "output_type": "execute_result"
    }
   ],
   "source": [
    "X_train.shape, X_test.shape, y_train.shape, y_test.shape"
   ]
  },
  {
   "cell_type": "code",
   "execution_count": 36,
   "metadata": {
    "colab": {
     "base_uri": "https://localhost:8080/"
    },
    "executionInfo": {
     "elapsed": 14,
     "status": "ok",
     "timestamp": 1677675240102,
     "user": {
      "displayName": "Ernesto Frías Nores",
      "userId": "04050836756016798788"
     },
     "user_tz": -60
    },
    "id": "38SZ4r8dz3bt",
    "outputId": "5c0f5391-85a3-4ea2-b6cb-e986ccfbbfb0"
   },
   "outputs": [
    {
     "name": "stderr",
     "output_type": "stream",
     "text": [
      "/home/a22mariobs/anaconda3/envs/ml_env_linux/lib/python3.9/site-packages/sklearn/svm/_base.py:1225: ConvergenceWarning: Liblinear failed to converge, increase the number of iterations.\n",
      "  warnings.warn(\n"
     ]
    },
    {
     "data": {
      "text/plain": "LinearSVC()",
      "text/html": "<style>#sk-container-id-7 {color: black;background-color: white;}#sk-container-id-7 pre{padding: 0;}#sk-container-id-7 div.sk-toggleable {background-color: white;}#sk-container-id-7 label.sk-toggleable__label {cursor: pointer;display: block;width: 100%;margin-bottom: 0;padding: 0.3em;box-sizing: border-box;text-align: center;}#sk-container-id-7 label.sk-toggleable__label-arrow:before {content: \"▸\";float: left;margin-right: 0.25em;color: #696969;}#sk-container-id-7 label.sk-toggleable__label-arrow:hover:before {color: black;}#sk-container-id-7 div.sk-estimator:hover label.sk-toggleable__label-arrow:before {color: black;}#sk-container-id-7 div.sk-toggleable__content {max-height: 0;max-width: 0;overflow: hidden;text-align: left;background-color: #f0f8ff;}#sk-container-id-7 div.sk-toggleable__content pre {margin: 0.2em;color: black;border-radius: 0.25em;background-color: #f0f8ff;}#sk-container-id-7 input.sk-toggleable__control:checked~div.sk-toggleable__content {max-height: 200px;max-width: 100%;overflow: auto;}#sk-container-id-7 input.sk-toggleable__control:checked~label.sk-toggleable__label-arrow:before {content: \"▾\";}#sk-container-id-7 div.sk-estimator input.sk-toggleable__control:checked~label.sk-toggleable__label {background-color: #d4ebff;}#sk-container-id-7 div.sk-label input.sk-toggleable__control:checked~label.sk-toggleable__label {background-color: #d4ebff;}#sk-container-id-7 input.sk-hidden--visually {border: 0;clip: rect(1px 1px 1px 1px);clip: rect(1px, 1px, 1px, 1px);height: 1px;margin: -1px;overflow: hidden;padding: 0;position: absolute;width: 1px;}#sk-container-id-7 div.sk-estimator {font-family: monospace;background-color: #f0f8ff;border: 1px dotted black;border-radius: 0.25em;box-sizing: border-box;margin-bottom: 0.5em;}#sk-container-id-7 div.sk-estimator:hover {background-color: #d4ebff;}#sk-container-id-7 div.sk-parallel-item::after {content: \"\";width: 100%;border-bottom: 1px solid gray;flex-grow: 1;}#sk-container-id-7 div.sk-label:hover label.sk-toggleable__label {background-color: #d4ebff;}#sk-container-id-7 div.sk-serial::before {content: \"\";position: absolute;border-left: 1px solid gray;box-sizing: border-box;top: 0;bottom: 0;left: 50%;z-index: 0;}#sk-container-id-7 div.sk-serial {display: flex;flex-direction: column;align-items: center;background-color: white;padding-right: 0.2em;padding-left: 0.2em;position: relative;}#sk-container-id-7 div.sk-item {position: relative;z-index: 1;}#sk-container-id-7 div.sk-parallel {display: flex;align-items: stretch;justify-content: center;background-color: white;position: relative;}#sk-container-id-7 div.sk-item::before, #sk-container-id-7 div.sk-parallel-item::before {content: \"\";position: absolute;border-left: 1px solid gray;box-sizing: border-box;top: 0;bottom: 0;left: 50%;z-index: -1;}#sk-container-id-7 div.sk-parallel-item {display: flex;flex-direction: column;z-index: 1;position: relative;background-color: white;}#sk-container-id-7 div.sk-parallel-item:first-child::after {align-self: flex-end;width: 50%;}#sk-container-id-7 div.sk-parallel-item:last-child::after {align-self: flex-start;width: 50%;}#sk-container-id-7 div.sk-parallel-item:only-child::after {width: 0;}#sk-container-id-7 div.sk-dashed-wrapped {border: 1px dashed gray;margin: 0 0.4em 0.5em 0.4em;box-sizing: border-box;padding-bottom: 0.4em;background-color: white;}#sk-container-id-7 div.sk-label label {font-family: monospace;font-weight: bold;display: inline-block;line-height: 1.2em;}#sk-container-id-7 div.sk-label-container {text-align: center;}#sk-container-id-7 div.sk-container {/* jupyter's `normalize.less` sets `[hidden] { display: none; }` but bootstrap.min.css set `[hidden] { display: none !important; }` so we also need the `!important` here to be able to override the default hidden behavior on the sphinx rendered scikit-learn.org. See: https://github.com/scikit-learn/scikit-learn/issues/21755 */display: inline-block !important;position: relative;}#sk-container-id-7 div.sk-text-repr-fallback {display: none;}</style><div id=\"sk-container-id-7\" class=\"sk-top-container\"><div class=\"sk-text-repr-fallback\"><pre>LinearSVC()</pre><b>In a Jupyter environment, please rerun this cell to show the HTML representation or trust the notebook. <br />On GitHub, the HTML representation is unable to render, please try loading this page with nbviewer.org.</b></div><div class=\"sk-container\" hidden><div class=\"sk-item\"><div class=\"sk-estimator sk-toggleable\"><input class=\"sk-toggleable__control sk-hidden--visually\" id=\"sk-estimator-id-16\" type=\"checkbox\" checked><label for=\"sk-estimator-id-16\" class=\"sk-toggleable__label sk-toggleable__label-arrow\">LinearSVC</label><div class=\"sk-toggleable__content\"><pre>LinearSVC()</pre></div></div></div></div></div>"
     },
     "execution_count": 36,
     "metadata": {},
     "output_type": "execute_result"
    }
   ],
   "source": [
    "model.fit(X_train, y_train.ravel())"
   ]
  },
  {
   "cell_type": "code",
   "execution_count": 37,
   "metadata": {
    "colab": {
     "base_uri": "https://localhost:8080/"
    },
    "executionInfo": {
     "elapsed": 336,
     "status": "ok",
     "timestamp": 1677675243307,
     "user": {
      "displayName": "Ernesto Frías Nores",
      "userId": "04050836756016798788"
     },
     "user_tz": -60
    },
    "id": "wdsS6RTEz3bu",
    "outputId": "97ae6510-b9aa-43fa-c574-8c3fccd2c968"
   },
   "outputs": [
    {
     "data": {
      "text/plain": "0.975"
     },
     "execution_count": 37,
     "metadata": {},
     "output_type": "execute_result"
    }
   ],
   "source": [
    "model.score(X_test, y_test)"
   ]
  },
  {
   "cell_type": "markdown",
   "metadata": {
    "id": "PWBqLA1Nz3bu"
   },
   "source": [
    "Printado de los márgenes de decisión:"
   ]
  },
  {
   "cell_type": "code",
   "execution_count": 38,
   "metadata": {
    "colab": {
     "base_uri": "https://localhost:8080/",
     "height": 513
    },
    "executionInfo": {
     "elapsed": 733,
     "status": "ok",
     "timestamp": 1677675251239,
     "user": {
      "displayName": "Ernesto Frías Nores",
      "userId": "04050836756016798788"
     },
     "user_tz": -60
    },
    "id": "RWs0972Xz3bu",
    "outputId": "e041fd81-19db-4352-ae64-7cc5433679ef"
   },
   "outputs": [
    {
     "data": {
      "text/plain": "<Figure size 864x576 with 1 Axes>",
      "image/png": "[encoded data removed]"
     },
     "metadata": {
      "needs_background": "light"
     },
     "output_type": "display_data"
    }
   ],
   "source": [
    "plt.figure(figsize=(12,8))\n",
    "# Points\n",
    "plt.scatter(d1[:,0], d1[:,1], c='red', s=7)\n",
    "plt.scatter(d2[:,0], d2[:,1], c='blue', s=7)\n",
    "# Decision boundaries\n",
    "w = model.coef_[0]\n",
    "a = -w[0] / w[1]\n",
    "xx = np.linspace(0, 10)\n",
    "yy = a * xx - (model.intercept_[0]) / w[1]\n",
    "plt.plot(xx, yy, 'k-')\n",
    "# Other\n",
    "plt.xlabel('x1')\n",
    "plt.ylabel('x2')\n",
    "plt.title('Synthetic 2D Points')\n",
    "plt.xlim(0, 10)\n",
    "plt.ylim(0, 10)\n",
    "plt.show()"
   ]
  },
  {
   "cell_type": "markdown",
   "metadata": {
    "id": "KOjbmvT9z3bu"
   },
   "source": [
    "A continuación, entrenamos un clasificador SVC:"
   ]
  },
  {
   "cell_type": "code",
   "execution_count": 39,
   "metadata": {
    "executionInfo": {
     "elapsed": 316,
     "status": "ok",
     "timestamp": 1677675681764,
     "user": {
      "displayName": "Ernesto Frías Nores",
      "userId": "04050836756016798788"
     },
     "user_tz": -60
    },
    "id": "uC4s38nZz3bu"
   },
   "outputs": [],
   "source": [
    "C = .01\n",
    "svc_clf = SVC(C=C, kernel='linear', degree=1, gamma='auto')"
   ]
  },
  {
   "cell_type": "code",
   "execution_count": 40,
   "metadata": {
    "colab": {
     "base_uri": "https://localhost:8080/"
    },
    "executionInfo": {
     "elapsed": 479,
     "status": "ok",
     "timestamp": 1677675687388,
     "user": {
      "displayName": "Ernesto Frías Nores",
      "userId": "04050836756016798788"
     },
     "user_tz": -60
    },
    "id": "p18c-KlSz3bv",
    "outputId": "e6b77afe-8b2e-4d9c-9781-3e9e8ae59ecf"
   },
   "outputs": [
    {
     "data": {
      "text/plain": "SVC(C=0.01, degree=1, gamma='auto', kernel='linear')",
      "text/html": "<style>#sk-container-id-8 {color: black;background-color: white;}#sk-container-id-8 pre{padding: 0;}#sk-container-id-8 div.sk-toggleable {background-color: white;}#sk-container-id-8 label.sk-toggleable__label {cursor: pointer;display: block;width: 100%;margin-bottom: 0;padding: 0.3em;box-sizing: border-box;text-align: center;}#sk-container-id-8 label.sk-toggleable__label-arrow:before {content: \"▸\";float: left;margin-right: 0.25em;color: #696969;}#sk-container-id-8 label.sk-toggleable__label-arrow:hover:before {color: black;}#sk-container-id-8 div.sk-estimator:hover label.sk-toggleable__label-arrow:before {color: black;}#sk-container-id-8 div.sk-toggleable__content {max-height: 0;max-width: 0;overflow: hidden;text-align: left;background-color: #f0f8ff;}#sk-container-id-8 div.sk-toggleable__content pre {margin: 0.2em;color: black;border-radius: 0.25em;background-color: #f0f8ff;}#sk-container-id-8 input.sk-toggleable__control:checked~div.sk-toggleable__content {max-height: 200px;max-width: 100%;overflow: auto;}#sk-container-id-8 input.sk-toggleable__control:checked~label.sk-toggleable__label-arrow:before {content: \"▾\";}#sk-container-id-8 div.sk-estimator input.sk-toggleable__control:checked~label.sk-toggleable__label {background-color: #d4ebff;}#sk-container-id-8 div.sk-label input.sk-toggleable__control:checked~label.sk-toggleable__label {background-color: #d4ebff;}#sk-container-id-8 input.sk-hidden--visually {border: 0;clip: rect(1px 1px 1px 1px);clip: rect(1px, 1px, 1px, 1px);height: 1px;margin: -1px;overflow: hidden;padding: 0;position: absolute;width: 1px;}#sk-container-id-8 div.sk-estimator {font-family: monospace;background-color: #f0f8ff;border: 1px dotted black;border-radius: 0.25em;box-sizing: border-box;margin-bottom: 0.5em;}#sk-container-id-8 div.sk-estimator:hover {background-color: #d4ebff;}#sk-container-id-8 div.sk-parallel-item::after {content: \"\";width: 100%;border-bottom: 1px solid gray;flex-grow: 1;}#sk-container-id-8 div.sk-label:hover label.sk-toggleable__label {background-color: #d4ebff;}#sk-container-id-8 div.sk-serial::before {content: \"\";position: absolute;border-left: 1px solid gray;box-sizing: border-box;top: 0;bottom: 0;left: 50%;z-index: 0;}#sk-container-id-8 div.sk-serial {display: flex;flex-direction: column;align-items: center;background-color: white;padding-right: 0.2em;padding-left: 0.2em;position: relative;}#sk-container-id-8 div.sk-item {position: relative;z-index: 1;}#sk-container-id-8 div.sk-parallel {display: flex;align-items: stretch;justify-content: center;background-color: white;position: relative;}#sk-container-id-8 div.sk-item::before, #sk-container-id-8 div.sk-parallel-item::before {content: \"\";position: absolute;border-left: 1px solid gray;box-sizing: border-box;top: 0;bottom: 0;left: 50%;z-index: -1;}#sk-container-id-8 div.sk-parallel-item {display: flex;flex-direction: column;z-index: 1;position: relative;background-color: white;}#sk-container-id-8 div.sk-parallel-item:first-child::after {align-self: flex-end;width: 50%;}#sk-container-id-8 div.sk-parallel-item:last-child::after {align-self: flex-start;width: 50%;}#sk-container-id-8 div.sk-parallel-item:only-child::after {width: 0;}#sk-container-id-8 div.sk-dashed-wrapped {border: 1px dashed gray;margin: 0 0.4em 0.5em 0.4em;box-sizing: border-box;padding-bottom: 0.4em;background-color: white;}#sk-container-id-8 div.sk-label label {font-family: monospace;font-weight: bold;display: inline-block;line-height: 1.2em;}#sk-container-id-8 div.sk-label-container {text-align: center;}#sk-container-id-8 div.sk-container {/* jupyter's `normalize.less` sets `[hidden] { display: none; }` but bootstrap.min.css set `[hidden] { display: none !important; }` so we also need the `!important` here to be able to override the default hidden behavior on the sphinx rendered scikit-learn.org. See: https://github.com/scikit-learn/scikit-learn/issues/21755 */display: inline-block !important;position: relative;}#sk-container-id-8 div.sk-text-repr-fallback {display: none;}</style><div id=\"sk-container-id-8\" class=\"sk-top-container\"><div class=\"sk-text-repr-fallback\"><pre>SVC(C=0.01, degree=1, gamma=&#x27;auto&#x27;, kernel=&#x27;linear&#x27;)</pre><b>In a Jupyter environment, please rerun this cell to show the HTML representation or trust the notebook. <br />On GitHub, the HTML representation is unable to render, please try loading this page with nbviewer.org.</b></div><div class=\"sk-container\" hidden><div class=\"sk-item\"><div class=\"sk-estimator sk-toggleable\"><input class=\"sk-toggleable__control sk-hidden--visually\" id=\"sk-estimator-id-17\" type=\"checkbox\" checked><label for=\"sk-estimator-id-17\" class=\"sk-toggleable__label sk-toggleable__label-arrow\">SVC</label><div class=\"sk-toggleable__content\"><pre>SVC(C=0.01, degree=1, gamma=&#x27;auto&#x27;, kernel=&#x27;linear&#x27;)</pre></div></div></div></div></div>"
     },
     "execution_count": 40,
     "metadata": {},
     "output_type": "execute_result"
    }
   ],
   "source": [
    "svc_clf.fit(X_train, y_train.ravel())"
   ]
  },
  {
   "cell_type": "code",
   "execution_count": 41,
   "metadata": {
    "colab": {
     "base_uri": "https://localhost:8080/"
    },
    "executionInfo": {
     "elapsed": 8,
     "status": "ok",
     "timestamp": 1677675690462,
     "user": {
      "displayName": "Ernesto Frías Nores",
      "userId": "04050836756016798788"
     },
     "user_tz": -60
    },
    "id": "ET-Bp1Ccz3bv",
    "outputId": "c20e7844-6d8b-49ea-fbda-6c1eb84a002c"
   },
   "outputs": [
    {
     "data": {
      "text/plain": "0.97"
     },
     "execution_count": 41,
     "metadata": {},
     "output_type": "execute_result"
    }
   ],
   "source": [
    "svc_clf.score(X_test, y_test)"
   ]
  },
  {
   "cell_type": "code",
   "execution_count": 42,
   "metadata": {
    "executionInfo": {
     "elapsed": 311,
     "status": "ok",
     "timestamp": 1677675692726,
     "user": {
      "displayName": "Ernesto Frías Nores",
      "userId": "04050836756016798788"
     },
     "user_tz": -60
    },
    "id": "FXd1zHwPz3bv"
   },
   "outputs": [],
   "source": [
    "h = .02 \n",
    "x_min, x_max = d[:,0].min() - 1, d[:,0].max() + 1\n",
    "y_min, y_max = d[:,1].min() - 1, d[:,1].max() + 1\n",
    "xx, yy = np.meshgrid(np.arange(x_min, x_max, h),\n",
    "                     np.arange(y_min, y_max, h))"
   ]
  },
  {
   "cell_type": "code",
   "execution_count": 43,
   "metadata": {
    "executionInfo": {
     "elapsed": 4,
     "status": "ok",
     "timestamp": 1677675696191,
     "user": {
      "displayName": "Ernesto Frías Nores",
      "userId": "04050836756016798788"
     },
     "user_tz": -60
    },
    "id": "v5ABat6dz3bv"
   },
   "outputs": [],
   "source": [
    "Z = svc_clf.predict(np.c_[xx.ravel(), yy.ravel()])\n",
    "Z = Z.reshape(xx.shape)"
   ]
  },
  {
   "cell_type": "code",
   "execution_count": 44,
   "metadata": {
    "colab": {
     "base_uri": "https://localhost:8080/",
     "height": 513
    },
    "executionInfo": {
     "elapsed": 12,
     "status": "ok",
     "timestamp": 1677675698419,
     "user": {
      "displayName": "Ernesto Frías Nores",
      "userId": "04050836756016798788"
     },
     "user_tz": -60
    },
    "id": "UzwMkKJ3z3bv",
    "outputId": "e98cd38e-311c-45a7-b362-5fa48e2a717f"
   },
   "outputs": [
    {
     "data": {
      "text/plain": "<Figure size 864x576 with 1 Axes>",
      "image/png": "[encoded data removed]"
     },
     "metadata": {
      "needs_background": "light"
     },
     "output_type": "display_data"
    }
   ],
   "source": [
    "plt.figure(figsize=(12,8))\n",
    "# Points\n",
    "plt.scatter(d1[:,0], d1[:,1], c='red', s=7)\n",
    "plt.scatter(d2[:,0], d2[:,1], c='blue', s=7)\n",
    "# Decision boundary\n",
    "plt.contour(xx, yy, Z, cmap=plt.cm.Paired)\n",
    "# Other\n",
    "plt.xlabel('x1')\n",
    "plt.ylabel('x2')\n",
    "plt.title('Synthetic 2D Points')\n",
    "plt.xlim(0, 10)\n",
    "plt.ylim(0, 10)\n",
    "plt.show()"
   ]
  },
  {
   "cell_type": "markdown",
   "metadata": {
    "collapsed": false,
    "id": "e-9C7fP0z3bw"
   },
   "source": [
    "Explica que diferencias has encontrado entre ambos. ¿Son iguales sus resultados? ¿Podríamos obtener el mismo modelo de ambos?"
   ]
  },
  {
   "cell_type": "markdown",
   "metadata": {
    "id": "B7sVvb_Dz3bw"
   },
   "source": [
    "**5. Entrena un Regresor SVM sobre el dataset de casas de California (California Housing)**"
   ]
  },
  {
   "cell_type": "code",
   "execution_count": 45,
   "metadata": {
    "executionInfo": {
     "elapsed": 311,
     "status": "ok",
     "timestamp": 1677675774232,
     "user": {
      "displayName": "Ernesto Frías Nores",
      "userId": "04050836756016798788"
     },
     "user_tz": -60
    },
    "id": "DEVmNRd_z3bw"
   },
   "outputs": [],
   "source": [
    "from sklearn.svm import SVR"
   ]
  },
  {
   "cell_type": "code",
   "execution_count": 46,
   "metadata": {
    "colab": {
     "base_uri": "https://localhost:8080/"
    },
    "executionInfo": {
     "elapsed": 1544,
     "status": "ok",
     "timestamp": 1677675883800,
     "user": {
      "displayName": "Ernesto Frías Nores",
      "userId": "04050836756016798788"
     },
     "user_tz": -60
    },
    "id": "Lt_FG2Jbz3bw",
    "outputId": "3244344b-7b4e-4703-b220-124e06b80f8c"
   },
   "outputs": [
    {
     "data": {
      "text/plain": "((20640, 8), (20640,))"
     },
     "execution_count": 46,
     "metadata": {},
     "output_type": "execute_result"
    }
   ],
   "source": [
    "#X, y = datasets.california_housing.fetch_california_housing(return_X_y=True)\n",
    "X, y = datasets.fetch_california_housing(return_X_y=True)\n",
    "X.shape, y.shape"
   ]
  },
  {
   "cell_type": "code",
   "execution_count": 47,
   "metadata": {
    "executionInfo": {
     "elapsed": 262,
     "status": "ok",
     "timestamp": 1677675891787,
     "user": {
      "displayName": "Ernesto Frías Nores",
      "userId": "04050836756016798788"
     },
     "user_tz": -60
    },
    "id": "xFMCAZfMz3bw"
   },
   "outputs": [],
   "source": [
    "X_train, X_val, y_train, y_val = train_test_split(X, y, test_size=0.33)"
   ]
  },
  {
   "cell_type": "code",
   "execution_count": 48,
   "metadata": {
    "executionInfo": {
     "elapsed": 334,
     "status": "ok",
     "timestamp": 1677675893967,
     "user": {
      "displayName": "Ernesto Frías Nores",
      "userId": "04050836756016798788"
     },
     "user_tz": -60
    },
    "id": "fBj77MP9z3bx"
   },
   "outputs": [],
   "source": [
    "from sklearn.preprocessing import StandardScaler"
   ]
  },
  {
   "cell_type": "markdown",
   "metadata": {
    "id": "Kfumw1yqz3bx"
   },
   "source": [
    "Primero, escalamos los datos, para después entrenar y evaluar los resultados:"
   ]
  },
  {
   "cell_type": "code",
   "execution_count": 49,
   "metadata": {
    "executionInfo": {
     "elapsed": 257,
     "status": "ok",
     "timestamp": 1677675901736,
     "user": {
      "displayName": "Ernesto Frías Nores",
      "userId": "04050836756016798788"
     },
     "user_tz": -60
    },
    "id": "NKL5dnwSz3bx"
   },
   "outputs": [],
   "source": [
    "scaler = StandardScaler()"
   ]
  },
  {
   "cell_type": "code",
   "execution_count": 50,
   "metadata": {
    "executionInfo": {
     "elapsed": 297,
     "status": "ok",
     "timestamp": 1677675903777,
     "user": {
      "displayName": "Ernesto Frías Nores",
      "userId": "04050836756016798788"
     },
     "user_tz": -60
    },
    "id": "DqTdmrgQz3bx"
   },
   "outputs": [],
   "source": [
    "X_train = scaler.fit_transform(X_train)"
   ]
  },
  {
   "cell_type": "code",
   "execution_count": 51,
   "metadata": {
    "executionInfo": {
     "elapsed": 289,
     "status": "ok",
     "timestamp": 1677675906850,
     "user": {
      "displayName": "Ernesto Frías Nores",
      "userId": "04050836756016798788"
     },
     "user_tz": -60
    },
    "id": "yoxb8c-_z3bx"
   },
   "outputs": [],
   "source": [
    "regressor = SVR()"
   ]
  },
  {
   "cell_type": "code",
   "execution_count": 52,
   "metadata": {
    "colab": {
     "base_uri": "https://localhost:8080/"
    },
    "executionInfo": {
     "elapsed": 8446,
     "status": "ok",
     "timestamp": 1677675918250,
     "user": {
      "displayName": "Ernesto Frías Nores",
      "userId": "04050836756016798788"
     },
     "user_tz": -60
    },
    "id": "9wDSde9fz3bx",
    "outputId": "338f96f7-5fac-4eae-ed20-6d11e6165b77"
   },
   "outputs": [
    {
     "data": {
      "text/plain": "SVR()",
      "text/html": "<style>#sk-container-id-9 {color: black;background-color: white;}#sk-container-id-9 pre{padding: 0;}#sk-container-id-9 div.sk-toggleable {background-color: white;}#sk-container-id-9 label.sk-toggleable__label {cursor: pointer;display: block;width: 100%;margin-bottom: 0;padding: 0.3em;box-sizing: border-box;text-align: center;}#sk-container-id-9 label.sk-toggleable__label-arrow:before {content: \"▸\";float: left;margin-right: 0.25em;color: #696969;}#sk-container-id-9 label.sk-toggleable__label-arrow:hover:before {color: black;}#sk-container-id-9 div.sk-estimator:hover label.sk-toggleable__label-arrow:before {color: black;}#sk-container-id-9 div.sk-toggleable__content {max-height: 0;max-width: 0;overflow: hidden;text-align: left;background-color: #f0f8ff;}#sk-container-id-9 div.sk-toggleable__content pre {margin: 0.2em;color: black;border-radius: 0.25em;background-color: #f0f8ff;}#sk-container-id-9 input.sk-toggleable__control:checked~div.sk-toggleable__content {max-height: 200px;max-width: 100%;overflow: auto;}#sk-container-id-9 input.sk-toggleable__control:checked~label.sk-toggleable__label-arrow:before {content: \"▾\";}#sk-container-id-9 div.sk-estimator input.sk-toggleable__control:checked~label.sk-toggleable__label {background-color: #d4ebff;}#sk-container-id-9 div.sk-label input.sk-toggleable__control:checked~label.sk-toggleable__label {background-color: #d4ebff;}#sk-container-id-9 input.sk-hidden--visually {border: 0;clip: rect(1px 1px 1px 1px);clip: rect(1px, 1px, 1px, 1px);height: 1px;margin: -1px;overflow: hidden;padding: 0;position: absolute;width: 1px;}#sk-container-id-9 div.sk-estimator {font-family: monospace;background-color: #f0f8ff;border: 1px dotted black;border-radius: 0.25em;box-sizing: border-box;margin-bottom: 0.5em;}#sk-container-id-9 div.sk-estimator:hover {background-color: #d4ebff;}#sk-container-id-9 div.sk-parallel-item::after {content: \"\";width: 100%;border-bottom: 1px solid gray;flex-grow: 1;}#sk-container-id-9 div.sk-label:hover label.sk-toggleable__label {background-color: #d4ebff;}#sk-container-id-9 div.sk-serial::before {content: \"\";position: absolute;border-left: 1px solid gray;box-sizing: border-box;top: 0;bottom: 0;left: 50%;z-index: 0;}#sk-container-id-9 div.sk-serial {display: flex;flex-direction: column;align-items: center;background-color: white;padding-right: 0.2em;padding-left: 0.2em;position: relative;}#sk-container-id-9 div.sk-item {position: relative;z-index: 1;}#sk-container-id-9 div.sk-parallel {display: flex;align-items: stretch;justify-content: center;background-color: white;position: relative;}#sk-container-id-9 div.sk-item::before, #sk-container-id-9 div.sk-parallel-item::before {content: \"\";position: absolute;border-left: 1px solid gray;box-sizing: border-box;top: 0;bottom: 0;left: 50%;z-index: -1;}#sk-container-id-9 div.sk-parallel-item {display: flex;flex-direction: column;z-index: 1;position: relative;background-color: white;}#sk-container-id-9 div.sk-parallel-item:first-child::after {align-self: flex-end;width: 50%;}#sk-container-id-9 div.sk-parallel-item:last-child::after {align-self: flex-start;width: 50%;}#sk-container-id-9 div.sk-parallel-item:only-child::after {width: 0;}#sk-container-id-9 div.sk-dashed-wrapped {border: 1px dashed gray;margin: 0 0.4em 0.5em 0.4em;box-sizing: border-box;padding-bottom: 0.4em;background-color: white;}#sk-container-id-9 div.sk-label label {font-family: monospace;font-weight: bold;display: inline-block;line-height: 1.2em;}#sk-container-id-9 div.sk-label-container {text-align: center;}#sk-container-id-9 div.sk-container {/* jupyter's `normalize.less` sets `[hidden] { display: none; }` but bootstrap.min.css set `[hidden] { display: none !important; }` so we also need the `!important` here to be able to override the default hidden behavior on the sphinx rendered scikit-learn.org. See: https://github.com/scikit-learn/scikit-learn/issues/21755 */display: inline-block !important;position: relative;}#sk-container-id-9 div.sk-text-repr-fallback {display: none;}</style><div id=\"sk-container-id-9\" class=\"sk-top-container\"><div class=\"sk-text-repr-fallback\"><pre>SVR()</pre><b>In a Jupyter environment, please rerun this cell to show the HTML representation or trust the notebook. <br />On GitHub, the HTML representation is unable to render, please try loading this page with nbviewer.org.</b></div><div class=\"sk-container\" hidden><div class=\"sk-item\"><div class=\"sk-estimator sk-toggleable\"><input class=\"sk-toggleable__control sk-hidden--visually\" id=\"sk-estimator-id-18\" type=\"checkbox\" checked><label for=\"sk-estimator-id-18\" class=\"sk-toggleable__label sk-toggleable__label-arrow\">SVR</label><div class=\"sk-toggleable__content\"><pre>SVR()</pre></div></div></div></div></div>"
     },
     "execution_count": 52,
     "metadata": {},
     "output_type": "execute_result"
    }
   ],
   "source": [
    "regressor.fit(X_train, y_train)"
   ]
  },
  {
   "cell_type": "code",
   "execution_count": 53,
   "metadata": {
    "colab": {
     "base_uri": "https://localhost:8080/"
    },
    "executionInfo": {
     "elapsed": 3704,
     "status": "ok",
     "timestamp": 1677675923858,
     "user": {
      "displayName": "Ernesto Frías Nores",
      "userId": "04050836756016798788"
     },
     "user_tz": -60
    },
    "id": "zdEKE8Xtz3by",
    "outputId": "a6622d6a-ba3b-47de-c174-e1cf9b460c93"
   },
   "outputs": [
    {
     "data": {
      "text/plain": "0.7381512693779926"
     },
     "execution_count": 53,
     "metadata": {},
     "output_type": "execute_result"
    }
   ],
   "source": [
    "regressor.score(scaler.transform(X_val), y_val)"
   ]
  },
  {
   "cell_type": "markdown",
   "metadata": {
    "collapsed": false,
    "id": "HEP8JWBsz3by"
   },
   "source": [
    "¿Cómo ha ido el regresor? Muestra gráficamente si todos los puntos se encuentran dentro de los márgenes."
   ]
  },
  {
   "cell_type": "code",
   "execution_count": 54,
   "metadata": {},
   "outputs": [],
   "source": [
    "# import matplotlib.pyplot as plt\n",
    "\n",
    "\n",
    "# plt.scatter(X_val,y_val)\n",
    "# plt.show()"
   ]
  },
  {
   "cell_type": "markdown",
   "metadata": {
    "collapsed": false,
    "id": "Q3qIUatyz3by"
   },
   "source": [
    "**EXTRA: Entrena un clasificador SVM en el conjunto de datos MNIST. Dado que los clasificadores SVM son clasificadores binarios, deberás usar uno contra el resto para clasificar los 10 dígitos. Es posible que quieras ajustar los hiperparámetros mediante pequeños conjuntos de validación para acelerar el proceso. ¿Qué precisión puedes alcanzar?\n",
    "Pista: https://www.kaggle.com/nishan192/mnist-digit-recognition-using-svm**"
   ]
  },
  {
   "cell_type": "code",
   "execution_count": 55,
   "metadata": {
    "executionInfo": {
     "elapsed": 245,
     "status": "ok",
     "timestamp": 1677675953468,
     "user": {
      "displayName": "Ernesto Frías Nores",
      "userId": "04050836756016798788"
     },
     "user_tz": -60
    },
    "id": "ASanZRh9z3by"
   },
   "outputs": [],
   "source": [
    "from sklearn import datasets"
   ]
  },
  {
   "cell_type": "code",
   "execution_count": 56,
   "metadata": {
    "executionInfo": {
     "elapsed": 56402,
     "status": "ok",
     "timestamp": 1677676011394,
     "user": {
      "displayName": "Ernesto Frías Nores",
      "userId": "04050836756016798788"
     },
     "user_tz": -60
    },
    "id": "bEqqMYSoz3by"
   },
   "outputs": [
    {
     "ename": "KeyboardInterrupt",
     "evalue": "",
     "output_type": "error",
     "traceback": [
      "\u001B[0;31m---------------------------------------------------------------------------\u001B[0m",
      "\u001B[0;31mKeyboardInterrupt\u001B[0m                         Traceback (most recent call last)",
      "Input \u001B[0;32mIn [56]\u001B[0m, in \u001B[0;36m<cell line: 1>\u001B[0;34m()\u001B[0m\n\u001B[0;32m----> 1\u001B[0m X, y \u001B[38;5;241m=\u001B[39m \u001B[43mdatasets\u001B[49m\u001B[38;5;241;43m.\u001B[39;49m\u001B[43mfetch_openml\u001B[49m\u001B[43m(\u001B[49m\u001B[43mname\u001B[49m\u001B[38;5;241;43m=\u001B[39;49m\u001B[38;5;124;43m'\u001B[39;49m\u001B[38;5;124;43mmnist_784\u001B[39;49m\u001B[38;5;124;43m'\u001B[39;49m\u001B[43m,\u001B[49m\u001B[43m \u001B[49m\u001B[43mreturn_X_y\u001B[49m\u001B[38;5;241;43m=\u001B[39;49m\u001B[38;5;28;43;01mTrue\u001B[39;49;00m\u001B[43m)\u001B[49m\n",
      "File \u001B[0;32m~/anaconda3/envs/ml_env_linux/lib/python3.9/site-packages/sklearn/datasets/_openml.py:842\u001B[0m, in \u001B[0;36mfetch_openml\u001B[0;34m(name, version, data_id, data_home, target_column, cache, return_X_y, as_frame, n_retries, delay)\u001B[0m\n\u001B[1;32m    840\u001B[0m \u001B[38;5;66;03m# obtain the data\u001B[39;00m\n\u001B[1;32m    841\u001B[0m url \u001B[38;5;241m=\u001B[39m _DATA_FILE\u001B[38;5;241m.\u001B[39mformat(data_description[\u001B[38;5;124m\"\u001B[39m\u001B[38;5;124mfile_id\u001B[39m\u001B[38;5;124m\"\u001B[39m])\n\u001B[0;32m--> 842\u001B[0m bunch \u001B[38;5;241m=\u001B[39m \u001B[43m_download_data_to_bunch\u001B[49m\u001B[43m(\u001B[49m\n\u001B[1;32m    843\u001B[0m \u001B[43m    \u001B[49m\u001B[43murl\u001B[49m\u001B[43m,\u001B[49m\n\u001B[1;32m    844\u001B[0m \u001B[43m    \u001B[49m\u001B[43mreturn_sparse\u001B[49m\u001B[43m,\u001B[49m\n\u001B[1;32m    845\u001B[0m \u001B[43m    \u001B[49m\u001B[43mdata_home\u001B[49m\u001B[43m,\u001B[49m\n\u001B[1;32m    846\u001B[0m \u001B[43m    \u001B[49m\u001B[43mas_frame\u001B[49m\u001B[38;5;241;43m=\u001B[39;49m\u001B[38;5;28;43mbool\u001B[39;49m\u001B[43m(\u001B[49m\u001B[43mas_frame\u001B[49m\u001B[43m)\u001B[49m\u001B[43m,\u001B[49m\n\u001B[1;32m    847\u001B[0m \u001B[43m    \u001B[49m\u001B[43mfeatures_list\u001B[49m\u001B[38;5;241;43m=\u001B[39;49m\u001B[43mfeatures_list\u001B[49m\u001B[43m,\u001B[49m\n\u001B[1;32m    848\u001B[0m \u001B[43m    \u001B[49m\u001B[43mshape\u001B[49m\u001B[38;5;241;43m=\u001B[39;49m\u001B[43mshape\u001B[49m\u001B[43m,\u001B[49m\n\u001B[1;32m    849\u001B[0m \u001B[43m    \u001B[49m\u001B[43mtarget_columns\u001B[49m\u001B[38;5;241;43m=\u001B[39;49m\u001B[43mtarget_columns\u001B[49m\u001B[43m,\u001B[49m\n\u001B[1;32m    850\u001B[0m \u001B[43m    \u001B[49m\u001B[43mdata_columns\u001B[49m\u001B[38;5;241;43m=\u001B[39;49m\u001B[43mdata_columns\u001B[49m\u001B[43m,\u001B[49m\n\u001B[1;32m    851\u001B[0m \u001B[43m    \u001B[49m\u001B[43mmd5_checksum\u001B[49m\u001B[38;5;241;43m=\u001B[39;49m\u001B[43mdata_description\u001B[49m\u001B[43m[\u001B[49m\u001B[38;5;124;43m\"\u001B[39;49m\u001B[38;5;124;43mmd5_checksum\u001B[39;49m\u001B[38;5;124;43m\"\u001B[39;49m\u001B[43m]\u001B[49m\u001B[43m,\u001B[49m\n\u001B[1;32m    852\u001B[0m \u001B[43m    \u001B[49m\u001B[43mn_retries\u001B[49m\u001B[38;5;241;43m=\u001B[39;49m\u001B[43mn_retries\u001B[49m\u001B[43m,\u001B[49m\n\u001B[1;32m    853\u001B[0m \u001B[43m    \u001B[49m\u001B[43mdelay\u001B[49m\u001B[38;5;241;43m=\u001B[39;49m\u001B[43mdelay\u001B[49m\u001B[43m,\u001B[49m\n\u001B[1;32m    854\u001B[0m \u001B[43m\u001B[49m\u001B[43m)\u001B[49m\n\u001B[1;32m    856\u001B[0m \u001B[38;5;28;01mif\u001B[39;00m return_X_y:\n\u001B[1;32m    857\u001B[0m     \u001B[38;5;28;01mreturn\u001B[39;00m bunch\u001B[38;5;241m.\u001B[39mdata, bunch\u001B[38;5;241m.\u001B[39mtarget\n",
      "File \u001B[0;32m~/anaconda3/envs/ml_env_linux/lib/python3.9/site-packages/sklearn/datasets/_openml.py:520\u001B[0m, in \u001B[0;36m_download_data_to_bunch\u001B[0;34m(url, sparse, data_home, as_frame, features_list, data_columns, target_columns, shape, md5_checksum, n_retries, delay)\u001B[0m\n\u001B[1;32m    517\u001B[0m \u001B[38;5;28;01melse\u001B[39;00m:\n\u001B[1;32m    518\u001B[0m     output_arrays_type \u001B[38;5;241m=\u001B[39m \u001B[38;5;124m\"\u001B[39m\u001B[38;5;124mnumpy\u001B[39m\u001B[38;5;124m\"\u001B[39m\n\u001B[0;32m--> 520\u001B[0m X, y, frame, nominal_attributes \u001B[38;5;241m=\u001B[39m \u001B[43m_retry_with_clean_cache\u001B[49m\u001B[43m(\u001B[49m\u001B[43murl\u001B[49m\u001B[43m,\u001B[49m\u001B[43m \u001B[49m\u001B[43mdata_home\u001B[49m\u001B[43m)\u001B[49m\u001B[43m(\u001B[49m\n\u001B[1;32m    521\u001B[0m \u001B[43m    \u001B[49m\u001B[43m_load_arff_response\u001B[49m\n\u001B[1;32m    522\u001B[0m \u001B[43m\u001B[49m\u001B[43m)\u001B[49m\u001B[43m(\u001B[49m\n\u001B[1;32m    523\u001B[0m \u001B[43m    \u001B[49m\u001B[43murl\u001B[49m\u001B[43m,\u001B[49m\n\u001B[1;32m    524\u001B[0m \u001B[43m    \u001B[49m\u001B[43mdata_home\u001B[49m\u001B[43m,\u001B[49m\n\u001B[1;32m    525\u001B[0m \u001B[43m    \u001B[49m\u001B[43moutput_arrays_type\u001B[49m\u001B[43m,\u001B[49m\n\u001B[1;32m    526\u001B[0m \u001B[43m    \u001B[49m\u001B[43mfeatures_dict\u001B[49m\u001B[43m,\u001B[49m\n\u001B[1;32m    527\u001B[0m \u001B[43m    \u001B[49m\u001B[43mdata_columns\u001B[49m\u001B[43m,\u001B[49m\n\u001B[1;32m    528\u001B[0m \u001B[43m    \u001B[49m\u001B[43mtarget_columns\u001B[49m\u001B[43m,\u001B[49m\n\u001B[1;32m    529\u001B[0m \u001B[43m    \u001B[49m\u001B[43mcol_slice_x\u001B[49m\u001B[43m,\u001B[49m\n\u001B[1;32m    530\u001B[0m \u001B[43m    \u001B[49m\u001B[43mcol_slice_y\u001B[49m\u001B[43m,\u001B[49m\n\u001B[1;32m    531\u001B[0m \u001B[43m    \u001B[49m\u001B[43mshape\u001B[49m\u001B[43m,\u001B[49m\n\u001B[1;32m    532\u001B[0m \u001B[43m    \u001B[49m\u001B[43mmd5_checksum\u001B[49m\u001B[38;5;241;43m=\u001B[39;49m\u001B[43mmd5_checksum\u001B[49m\u001B[43m,\u001B[49m\n\u001B[1;32m    533\u001B[0m \u001B[43m    \u001B[49m\u001B[43mn_retries\u001B[49m\u001B[38;5;241;43m=\u001B[39;49m\u001B[43mn_retries\u001B[49m\u001B[43m,\u001B[49m\n\u001B[1;32m    534\u001B[0m \u001B[43m    \u001B[49m\u001B[43mdelay\u001B[49m\u001B[38;5;241;43m=\u001B[39;49m\u001B[43mdelay\u001B[49m\u001B[43m,\u001B[49m\n\u001B[1;32m    535\u001B[0m \u001B[43m\u001B[49m\u001B[43m)\u001B[49m\n\u001B[1;32m    537\u001B[0m \u001B[38;5;28;01mreturn\u001B[39;00m Bunch(\n\u001B[1;32m    538\u001B[0m     data\u001B[38;5;241m=\u001B[39mX,\n\u001B[1;32m    539\u001B[0m     target\u001B[38;5;241m=\u001B[39my,\n\u001B[0;32m   (...)\u001B[0m\n\u001B[1;32m    543\u001B[0m     target_names\u001B[38;5;241m=\u001B[39mtarget_columns,\n\u001B[1;32m    544\u001B[0m )\n",
      "File \u001B[0;32m~/anaconda3/envs/ml_env_linux/lib/python3.9/site-packages/sklearn/datasets/_openml.py:52\u001B[0m, in \u001B[0;36m_retry_with_clean_cache.<locals>.decorator.<locals>.wrapper\u001B[0;34m(*args, **kw)\u001B[0m\n\u001B[1;32m     50\u001B[0m     \u001B[38;5;28;01mreturn\u001B[39;00m f(\u001B[38;5;241m*\u001B[39margs, \u001B[38;5;241m*\u001B[39m\u001B[38;5;241m*\u001B[39mkw)\n\u001B[1;32m     51\u001B[0m \u001B[38;5;28;01mtry\u001B[39;00m:\n\u001B[0;32m---> 52\u001B[0m     \u001B[38;5;28;01mreturn\u001B[39;00m \u001B[43mf\u001B[49m\u001B[43m(\u001B[49m\u001B[38;5;241;43m*\u001B[39;49m\u001B[43margs\u001B[49m\u001B[43m,\u001B[49m\u001B[43m \u001B[49m\u001B[38;5;241;43m*\u001B[39;49m\u001B[38;5;241;43m*\u001B[39;49m\u001B[43mkw\u001B[49m\u001B[43m)\u001B[49m\n\u001B[1;32m     53\u001B[0m \u001B[38;5;28;01mexcept\u001B[39;00m URLError:\n\u001B[1;32m     54\u001B[0m     \u001B[38;5;28;01mraise\u001B[39;00m\n",
      "File \u001B[0;32m~/anaconda3/envs/ml_env_linux/lib/python3.9/site-packages/sklearn/datasets/_openml.py:446\u001B[0m, in \u001B[0;36m_load_arff_response\u001B[0;34m(url, data_home, output_arrays_type, features_dict, data_columns, target_columns, col_slice_x, col_slice_y, shape, md5_checksum, n_retries, delay)\u001B[0m\n\u001B[1;32m    440\u001B[0m return_type \u001B[38;5;241m=\u001B[39m _arff\u001B[38;5;241m.\u001B[39mCOO \u001B[38;5;28;01mif\u001B[39;00m output_arrays_type \u001B[38;5;241m==\u001B[39m \u001B[38;5;124m\"\u001B[39m\u001B[38;5;124msparse\u001B[39m\u001B[38;5;124m\"\u001B[39m \u001B[38;5;28;01melse\u001B[39;00m _arff\u001B[38;5;241m.\u001B[39mDENSE_GEN\n\u001B[1;32m    442\u001B[0m arff \u001B[38;5;241m=\u001B[39m _arff\u001B[38;5;241m.\u001B[39mload(\n\u001B[1;32m    443\u001B[0m     stream, return_type\u001B[38;5;241m=\u001B[39mreturn_type, encode_nominal\u001B[38;5;241m=\u001B[39mencode_nominal\n\u001B[1;32m    444\u001B[0m )\n\u001B[0;32m--> 446\u001B[0m X, y, frame, nominal_attributes \u001B[38;5;241m=\u001B[39m \u001B[43m_liac_arff_parser\u001B[49m\u001B[43m(\u001B[49m\n\u001B[1;32m    447\u001B[0m \u001B[43m    \u001B[49m\u001B[43marff\u001B[49m\u001B[43m,\u001B[49m\n\u001B[1;32m    448\u001B[0m \u001B[43m    \u001B[49m\u001B[43moutput_arrays_type\u001B[49m\u001B[43m,\u001B[49m\n\u001B[1;32m    449\u001B[0m \u001B[43m    \u001B[49m\u001B[43mfeatures_dict\u001B[49m\u001B[43m,\u001B[49m\n\u001B[1;32m    450\u001B[0m \u001B[43m    \u001B[49m\u001B[43mdata_columns\u001B[49m\u001B[43m,\u001B[49m\n\u001B[1;32m    451\u001B[0m \u001B[43m    \u001B[49m\u001B[43mtarget_columns\u001B[49m\u001B[43m,\u001B[49m\n\u001B[1;32m    452\u001B[0m \u001B[43m    \u001B[49m\u001B[43mcol_slice_x\u001B[49m\u001B[43m,\u001B[49m\n\u001B[1;32m    453\u001B[0m \u001B[43m    \u001B[49m\u001B[43mcol_slice_y\u001B[49m\u001B[43m,\u001B[49m\n\u001B[1;32m    454\u001B[0m \u001B[43m    \u001B[49m\u001B[43mshape\u001B[49m\u001B[43m,\u001B[49m\n\u001B[1;32m    455\u001B[0m \u001B[43m\u001B[49m\u001B[43m)\u001B[49m\n\u001B[1;32m    457\u001B[0m \u001B[38;5;66;03m# consume remaining stream, if early exited\u001B[39;00m\n\u001B[1;32m    458\u001B[0m \u001B[38;5;28;01mfor\u001B[39;00m _ \u001B[38;5;129;01min\u001B[39;00m stream:\n",
      "File \u001B[0;32m~/anaconda3/envs/ml_env_linux/lib/python3.9/site-packages/sklearn/datasets/_arff_parser.py:223\u001B[0m, in \u001B[0;36m_liac_arff_parser\u001B[0;34m(arff_container, output_arrays_type, features_dict, data_columns, target_columns, col_slice_x, col_slice_y, shape)\u001B[0m\n\u001B[1;32m    221\u001B[0m nominal_attributes \u001B[38;5;241m=\u001B[39m \u001B[38;5;28;01mNone\u001B[39;00m\n\u001B[1;32m    222\u001B[0m columns \u001B[38;5;241m=\u001B[39m data_columns \u001B[38;5;241m+\u001B[39m target_columns\n\u001B[0;32m--> 223\u001B[0m (frame,) \u001B[38;5;241m=\u001B[39m \u001B[43m_convert_arff_data_dataframe\u001B[49m\u001B[43m(\u001B[49m\u001B[43marff_container\u001B[49m\u001B[43m,\u001B[49m\u001B[43m \u001B[49m\u001B[43mcolumns\u001B[49m\u001B[43m,\u001B[49m\u001B[43m \u001B[49m\u001B[43mfeatures_dict\u001B[49m\u001B[43m)\u001B[49m\n\u001B[1;32m    224\u001B[0m X \u001B[38;5;241m=\u001B[39m frame[data_columns]\n\u001B[1;32m    225\u001B[0m \u001B[38;5;28;01mif\u001B[39;00m \u001B[38;5;28mlen\u001B[39m(target_columns) \u001B[38;5;241m>\u001B[39m\u001B[38;5;241m=\u001B[39m \u001B[38;5;241m2\u001B[39m:\n",
      "File \u001B[0;32m~/anaconda3/envs/ml_env_linux/lib/python3.9/site-packages/sklearn/datasets/_arff_parser.py:193\u001B[0m, in \u001B[0;36m_convert_arff_data_dataframe\u001B[0;34m(arff, columns, features_dict)\u001B[0m\n\u001B[1;32m    191\u001B[0m dfs \u001B[38;5;241m=\u001B[39m []\n\u001B[1;32m    192\u001B[0m dfs\u001B[38;5;241m.\u001B[39mappend(first_df[columns_to_keep])\n\u001B[0;32m--> 193\u001B[0m \u001B[38;5;28;01mfor\u001B[39;00m data \u001B[38;5;129;01min\u001B[39;00m _chunk_generator(arff[\u001B[38;5;124m\"\u001B[39m\u001B[38;5;124mdata\u001B[39m\u001B[38;5;124m\"\u001B[39m], chunksize):\n\u001B[1;32m    194\u001B[0m     dfs\u001B[38;5;241m.\u001B[39mappend(pd\u001B[38;5;241m.\u001B[39mDataFrame(data, columns\u001B[38;5;241m=\u001B[39marff_columns)[columns_to_keep])\n\u001B[1;32m    195\u001B[0m df \u001B[38;5;241m=\u001B[39m pd\u001B[38;5;241m.\u001B[39mconcat(dfs, ignore_index\u001B[38;5;241m=\u001B[39m\u001B[38;5;28;01mTrue\u001B[39;00m)\n",
      "File \u001B[0;32m~/anaconda3/envs/ml_env_linux/lib/python3.9/site-packages/sklearn/utils/__init__.py:688\u001B[0m, in \u001B[0;36m_chunk_generator\u001B[0;34m(gen, chunksize)\u001B[0m\n\u001B[1;32m    685\u001B[0m \u001B[38;5;124;03m\"\"\"Chunk generator, ``gen`` into lists of length ``chunksize``. The last\u001B[39;00m\n\u001B[1;32m    686\u001B[0m \u001B[38;5;124;03mchunk may have a length less than ``chunksize``.\"\"\"\u001B[39;00m\n\u001B[1;32m    687\u001B[0m \u001B[38;5;28;01mwhile\u001B[39;00m \u001B[38;5;28;01mTrue\u001B[39;00m:\n\u001B[0;32m--> 688\u001B[0m     chunk \u001B[38;5;241m=\u001B[39m \u001B[38;5;28;43mlist\u001B[39;49m\u001B[43m(\u001B[49m\u001B[43mislice\u001B[49m\u001B[43m(\u001B[49m\u001B[43mgen\u001B[49m\u001B[43m,\u001B[49m\u001B[43m \u001B[49m\u001B[43mchunksize\u001B[49m\u001B[43m)\u001B[49m\u001B[43m)\u001B[49m\n\u001B[1;32m    689\u001B[0m     \u001B[38;5;28;01mif\u001B[39;00m chunk:\n\u001B[1;32m    690\u001B[0m         \u001B[38;5;28;01myield\u001B[39;00m chunk\n",
      "File \u001B[0;32m~/anaconda3/envs/ml_env_linux/lib/python3.9/site-packages/sklearn/externals/_arff.py:474\u001B[0m, in \u001B[0;36mDenseGeneratorData.decode_rows\u001B[0;34m(self, stream, conversors)\u001B[0m\n\u001B[1;32m    471\u001B[0m     \u001B[38;5;28;01mif\u001B[39;00m \u001B[38;5;28mlen\u001B[39m(values) \u001B[38;5;241m!=\u001B[39m \u001B[38;5;28mlen\u001B[39m(conversors):\n\u001B[1;32m    472\u001B[0m         \u001B[38;5;28;01mraise\u001B[39;00m BadDataFormat(row)\n\u001B[0;32m--> 474\u001B[0m \u001B[38;5;28;01myield\u001B[39;00m \u001B[38;5;28;43mself\u001B[39;49m\u001B[38;5;241;43m.\u001B[39;49m\u001B[43m_decode_values\u001B[49m\u001B[43m(\u001B[49m\u001B[43mvalues\u001B[49m\u001B[43m,\u001B[49m\u001B[43m \u001B[49m\u001B[43mconversors\u001B[49m\u001B[43m)\u001B[49m\n",
      "File \u001B[0;32m~/anaconda3/envs/ml_env_linux/lib/python3.9/site-packages/sklearn/externals/_arff.py:479\u001B[0m, in \u001B[0;36mDenseGeneratorData._decode_values\u001B[0;34m(values, conversors)\u001B[0m\n\u001B[1;32m    476\u001B[0m \u001B[38;5;129m@staticmethod\u001B[39m\n\u001B[1;32m    477\u001B[0m \u001B[38;5;28;01mdef\u001B[39;00m \u001B[38;5;21m_decode_values\u001B[39m(values, conversors):\n\u001B[1;32m    478\u001B[0m     \u001B[38;5;28;01mtry\u001B[39;00m:\n\u001B[0;32m--> 479\u001B[0m         values \u001B[38;5;241m=\u001B[39m [\u001B[38;5;28;01mNone\u001B[39;00m \u001B[38;5;28;01mif\u001B[39;00m value \u001B[38;5;129;01mis\u001B[39;00m \u001B[38;5;28;01mNone\u001B[39;00m \u001B[38;5;28;01melse\u001B[39;00m conversor(value)\n\u001B[1;32m    480\u001B[0m                   \u001B[38;5;28;01mfor\u001B[39;00m conversor, value\n\u001B[1;32m    481\u001B[0m                   \u001B[38;5;129;01min\u001B[39;00m \u001B[38;5;28mzip\u001B[39m(conversors, values)]\n\u001B[1;32m    482\u001B[0m     \u001B[38;5;28;01mexcept\u001B[39;00m \u001B[38;5;167;01mValueError\u001B[39;00m \u001B[38;5;28;01mas\u001B[39;00m exc:\n\u001B[1;32m    483\u001B[0m         \u001B[38;5;28;01mif\u001B[39;00m \u001B[38;5;124m'\u001B[39m\u001B[38;5;124mfloat: \u001B[39m\u001B[38;5;124m'\u001B[39m \u001B[38;5;129;01min\u001B[39;00m \u001B[38;5;28mstr\u001B[39m(exc):\n",
      "File \u001B[0;32m~/anaconda3/envs/ml_env_linux/lib/python3.9/site-packages/sklearn/externals/_arff.py:479\u001B[0m, in \u001B[0;36m<listcomp>\u001B[0;34m(.0)\u001B[0m\n\u001B[1;32m    476\u001B[0m \u001B[38;5;129m@staticmethod\u001B[39m\n\u001B[1;32m    477\u001B[0m \u001B[38;5;28;01mdef\u001B[39;00m \u001B[38;5;21m_decode_values\u001B[39m(values, conversors):\n\u001B[1;32m    478\u001B[0m     \u001B[38;5;28;01mtry\u001B[39;00m:\n\u001B[0;32m--> 479\u001B[0m         values \u001B[38;5;241m=\u001B[39m [\u001B[38;5;28;01mNone\u001B[39;00m \u001B[38;5;28;01mif\u001B[39;00m value \u001B[38;5;129;01mis\u001B[39;00m \u001B[38;5;28;01mNone\u001B[39;00m \u001B[38;5;28;01melse\u001B[39;00m \u001B[43mconversor\u001B[49m\u001B[43m(\u001B[49m\u001B[43mvalue\u001B[49m\u001B[43m)\u001B[49m\n\u001B[1;32m    480\u001B[0m                   \u001B[38;5;28;01mfor\u001B[39;00m conversor, value\n\u001B[1;32m    481\u001B[0m                   \u001B[38;5;129;01min\u001B[39;00m \u001B[38;5;28mzip\u001B[39m(conversors, values)]\n\u001B[1;32m    482\u001B[0m     \u001B[38;5;28;01mexcept\u001B[39;00m \u001B[38;5;167;01mValueError\u001B[39;00m \u001B[38;5;28;01mas\u001B[39;00m exc:\n\u001B[1;32m    483\u001B[0m         \u001B[38;5;28;01mif\u001B[39;00m \u001B[38;5;124m'\u001B[39m\u001B[38;5;124mfloat: \u001B[39m\u001B[38;5;124m'\u001B[39m \u001B[38;5;129;01min\u001B[39;00m \u001B[38;5;28mstr\u001B[39m(exc):\n",
      "\u001B[0;31mKeyboardInterrupt\u001B[0m: "
     ]
    }
   ],
   "source": [
    "X, y = datasets.fetch_openml(name='mnist_784', return_X_y=True)"
   ]
  },
  {
   "cell_type": "code",
   "execution_count": null,
   "metadata": {
    "executionInfo": {
     "elapsed": 579,
     "status": "ok",
     "timestamp": 1677676019434,
     "user": {
      "displayName": "Ernesto Frías Nores",
      "userId": "04050836756016798788"
     },
     "user_tz": -60
    },
    "id": "z0TpUWqYz3by"
   },
   "outputs": [],
   "source": [
    "X_train, X_test, y_train, y_test = train_test_split(X, y, test_size=0.33)"
   ]
  },
  {
   "cell_type": "code",
   "execution_count": null,
   "metadata": {
    "id": "RG2Ztpbmz3bz"
   },
   "outputs": [],
   "source": [
    "X_train.shape, X_test.shape, y_train.shape, y_test.shape"
   ]
  },
  {
   "cell_type": "markdown",
   "metadata": {
    "collapsed": false,
    "id": "SSOSdeQqz3bz"
   },
   "source": [
    "Usaremos la validación cruzada para optimizar los hiperparámetros:"
   ]
  },
  {
   "cell_type": "code",
   "execution_count": null,
   "metadata": {
    "executionInfo": {
     "elapsed": 313,
     "status": "ok",
     "timestamp": 1677676025739,
     "user": {
      "displayName": "Ernesto Frías Nores",
      "userId": "04050836756016798788"
     },
     "user_tz": -60
    },
    "id": "zdgGFmQiz3bz"
   },
   "outputs": [],
   "source": [
    "from sklearn.multiclass import OneVsRestClassifier\n",
    "from sklearn.model_selection import cross_val_score"
   ]
  },
  {
   "cell_type": "code",
   "execution_count": null,
   "metadata": {
    "executionInfo": {
     "elapsed": 296,
     "status": "ok",
     "timestamp": 1677676032179,
     "user": {
      "displayName": "Ernesto Frías Nores",
      "userId": "04050836756016798788"
     },
     "user_tz": -60
    },
    "id": "JfwGx1hDz3bz"
   },
   "outputs": [],
   "source": [
    "clf = OneVsRestClassifier(estimator=SVC(gamma='auto'))"
   ]
  },
  {
   "cell_type": "code",
   "execution_count": null,
   "metadata": {
    "executionInfo": {
     "elapsed": 7395,
     "status": "ok",
     "timestamp": 1677676041722,
     "user": {
      "displayName": "Ernesto Frías Nores",
      "userId": "04050836756016798788"
     },
     "user_tz": -60
    },
    "id": "ar43GK14z3bz"
   },
   "outputs": [],
   "source": [
    "scores = cross_val_score(estimator=clf, X=X_train[:1000]/255., y=y_train[:1000], cv=7)"
   ]
  },
  {
   "cell_type": "code",
   "execution_count": null,
   "metadata": {
    "colab": {
     "base_uri": "https://localhost:8080/"
    },
    "executionInfo": {
     "elapsed": 302,
     "status": "ok",
     "timestamp": 1677676044981,
     "user": {
      "displayName": "Ernesto Frías Nores",
      "userId": "04050836756016798788"
     },
     "user_tz": -60
    },
    "id": "puD7Zn0nz3b0",
    "outputId": "f28e91e9-c295-4765-899c-6857237926a3"
   },
   "outputs": [],
   "source": [
    "print(f\"We reach an accuracy of {sum(scores)/len(scores)}\")"
   ]
  },
  {
   "cell_type": "markdown",
   "metadata": {
    "id": "D41uSBBWz3b0"
   },
   "source": [
    "---"
   ]
  }
 ],
 "metadata": {
  "colab": {
   "provenance": []
  },
  "kernelspec": {
   "display_name": "ml_env_linux",
   "language": "python",
   "name": "python3"
  },
  "language_info": {
   "codemirror_mode": {
    "name": "ipython",
    "version": 3
   },
   "file_extension": ".py",
   "mimetype": "text/x-python",
   "name": "python",
   "nbconvert_exporter": "python",
   "pygments_lexer": "ipython3",
   "version": "3.9.13"
  },
  "vscode": {
   "interpreter": {
    "hash": "3f38cd8a412e8f72af66873b09c8db1185b5fea664ca3bed935d92b3a0bbc75a"
   }
  }
 },
 "nbformat": 4,
 "nbformat_minor": 0
}
