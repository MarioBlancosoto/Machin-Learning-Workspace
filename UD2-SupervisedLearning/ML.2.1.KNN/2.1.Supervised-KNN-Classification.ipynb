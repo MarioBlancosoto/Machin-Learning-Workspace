{
 "cells": [
  {
   "cell_type": "markdown",
   "source": [
    "# Clasificación con el Algoritmo K Nearest Neighbors\n",
    "#### UD2. Aprendizaxe Supervisada\n",
    "#### MP. Sistemas de Aprendizaxe Automáticos\n",
    "#### IES de Teis (Vigo), Cristina Gómez Alonso"
   ],
   "metadata": {
    "collapsed": false,
    "id": "e3l-M-AjXU1b"
   }
  },
  {
   "cell_type": "markdown",
   "source": [
    "En este nuevo notebook presentaremos el algoritmo de clasificación K Nearest Neighbors (K Vecinos más cercanos) dónde se estima la probabilidad de que un elemento pertenezca a una clase mediante el cálculo de la distancia euclídea a otros ejemplos cercanos en el espacio de los elementos.\n",
    "k-nn es un algoritmo de tipo de aprendizaje vago (lazy learning) ya que la función se aproxima solo localmente y todo el cómputo es diferido a la clasificación.\n"
   ],
   "metadata": {
    "collapsed": false,
    "id": "G3561opqXU1c"
   }
  },
  {
   "cell_type": "markdown",
   "source": [
    "### *Ejercicio 0: Importación*\n",
    "\n",
    "Carga en un dataframe el reviews_sentiment.csv y muestra las primeras 10 filas. ¿De qué trata este dataset? Utiliza funciones de EDA para entender su contenido y sus opciones."
   ],
   "metadata": {
    "collapsed": false,
    "id": "gMj-JKiNXU1d"
   }
  },
  {
   "cell_type": "code",
   "execution_count": 23,
   "outputs": [
    {
     "data": {
      "text/plain": "                 Review Title  \\\n0                Sin conexión   \n1                faltan cosas   \n2  Es muy buena lo recomiendo   \n3             Version antigua   \n4                   Esta bien   \n5                       Buena   \n6               De gran ayuda   \n7                   Muy buena   \n8                Ta to guapa.   \n9            Se han corregido   \n\n                                         Review Text  wordcount  \\\n0  Hola desde hace algo más de un mes me pone sin...         23   \n1                 Han mejorado la apariencia pero no         20   \n2                               Andres e puto amoooo          4   \n3  Me gustana mas la version anterior esta es mas...         17   \n4                    Sin ser la biblia.... Esta bien          6   \n5        Nada del otro mundo pero han mejorado mucho          8   \n6   Lo malo q necesita de …,pero la app es muy buena         23   \n7  Estaba más acostumbrado al otro diseño, pero e...         16   \n8                                    Va de escándalo         21   \n9  Han corregido muchos fallos pero el diseño es ...         13   \n\n  titleSentiment textSentiment  Star Rating  sentimentValue  \n0       negative      negative            1       -0.486389  \n1       negative      negative            1       -0.586187  \n2            NaN      negative            1       -0.602240  \n3            NaN      negative            1       -0.616271  \n4       negative      negative            1       -0.651784  \n5       positive      negative            1       -0.720443  \n6       positive      negative            1       -0.726825  \n7       positive      negative            1       -0.736769  \n8       positive      negative            1       -0.765284  \n9       negative      negative            1       -0.797961  ",
      "text/html": "<div>\n<style scoped>\n    .dataframe tbody tr th:only-of-type {\n        vertical-align: middle;\n    }\n\n    .dataframe tbody tr th {\n        vertical-align: top;\n    }\n\n    .dataframe thead th {\n        text-align: right;\n    }\n</style>\n<table border=\"1\" class=\"dataframe\">\n  <thead>\n    <tr style=\"text-align: right;\">\n      <th></th>\n      <th>Review Title</th>\n      <th>Review Text</th>\n      <th>wordcount</th>\n      <th>titleSentiment</th>\n      <th>textSentiment</th>\n      <th>Star Rating</th>\n      <th>sentimentValue</th>\n    </tr>\n  </thead>\n  <tbody>\n    <tr>\n      <th>0</th>\n      <td>Sin conexión</td>\n      <td>Hola desde hace algo más de un mes me pone sin...</td>\n      <td>23</td>\n      <td>negative</td>\n      <td>negative</td>\n      <td>1</td>\n      <td>-0.486389</td>\n    </tr>\n    <tr>\n      <th>1</th>\n      <td>faltan cosas</td>\n      <td>Han mejorado la apariencia pero no</td>\n      <td>20</td>\n      <td>negative</td>\n      <td>negative</td>\n      <td>1</td>\n      <td>-0.586187</td>\n    </tr>\n    <tr>\n      <th>2</th>\n      <td>Es muy buena lo recomiendo</td>\n      <td>Andres e puto amoooo</td>\n      <td>4</td>\n      <td>NaN</td>\n      <td>negative</td>\n      <td>1</td>\n      <td>-0.602240</td>\n    </tr>\n    <tr>\n      <th>3</th>\n      <td>Version antigua</td>\n      <td>Me gustana mas la version anterior esta es mas...</td>\n      <td>17</td>\n      <td>NaN</td>\n      <td>negative</td>\n      <td>1</td>\n      <td>-0.616271</td>\n    </tr>\n    <tr>\n      <th>4</th>\n      <td>Esta bien</td>\n      <td>Sin ser la biblia.... Esta bien</td>\n      <td>6</td>\n      <td>negative</td>\n      <td>negative</td>\n      <td>1</td>\n      <td>-0.651784</td>\n    </tr>\n    <tr>\n      <th>5</th>\n      <td>Buena</td>\n      <td>Nada del otro mundo pero han mejorado mucho</td>\n      <td>8</td>\n      <td>positive</td>\n      <td>negative</td>\n      <td>1</td>\n      <td>-0.720443</td>\n    </tr>\n    <tr>\n      <th>6</th>\n      <td>De gran ayuda</td>\n      <td>Lo malo q necesita de …,pero la app es muy buena</td>\n      <td>23</td>\n      <td>positive</td>\n      <td>negative</td>\n      <td>1</td>\n      <td>-0.726825</td>\n    </tr>\n    <tr>\n      <th>7</th>\n      <td>Muy buena</td>\n      <td>Estaba más acostumbrado al otro diseño, pero e...</td>\n      <td>16</td>\n      <td>positive</td>\n      <td>negative</td>\n      <td>1</td>\n      <td>-0.736769</td>\n    </tr>\n    <tr>\n      <th>8</th>\n      <td>Ta to guapa.</td>\n      <td>Va de escándalo</td>\n      <td>21</td>\n      <td>positive</td>\n      <td>negative</td>\n      <td>1</td>\n      <td>-0.765284</td>\n    </tr>\n    <tr>\n      <th>9</th>\n      <td>Se han corregido</td>\n      <td>Han corregido muchos fallos pero el diseño es ...</td>\n      <td>13</td>\n      <td>negative</td>\n      <td>negative</td>\n      <td>1</td>\n      <td>-0.797961</td>\n    </tr>\n  </tbody>\n</table>\n</div>"
     },
     "execution_count": 23,
     "metadata": {},
     "output_type": "execute_result"
    }
   ],
   "source": [
    "import pandas as pd\n",
    "df = pd.read_csv(\"data/reviews_sentiment.csv\", sep = \";\")\n",
    "df.head(10)"
   ],
   "metadata": {
    "colab": {
     "base_uri": "https://localhost:8080/",
     "height": 363
    },
    "id": "kaeLuNd_XU1e",
    "executionInfo": {
     "status": "ok",
     "timestamp": 1673387636252,
     "user_tz": -60,
     "elapsed": 1613,
     "user": {
      "displayName": "Alejandro Gómez",
      "userId": "01523778567682460403"
     }
    },
    "outputId": "fc2e825d-42bb-46f8-f0cc-ffeb927226ca"
   }
  },
  {
   "cell_type": "markdown",
   "source": [
    "## 1. Importanción de librerías"
   ],
   "metadata": {
    "collapsed": false,
    "id": "NIPMmwGmXU1e"
   }
  },
  {
   "cell_type": "code",
   "execution_count": 24,
   "outputs": [],
   "source": [
    "import pandas as pd\n",
    "import numpy as np\n",
    "import matplotlib.pyplot as plt\n",
    "from matplotlib.colors import ListedColormap\n",
    "import matplotlib.patches as mpatches\n",
    "import seaborn as sb\n",
    "\n",
    "%matplotlib inline\n",
    "plt.rcParams['figure.figsize'] = (16, 9)\n",
    "plt.style.use('ggplot')\n",
    "\n",
    "from sklearn.model_selection import train_test_split\n",
    "from sklearn.preprocessing import MinMaxScaler\n",
    "from sklearn.neighbors import KNeighborsClassifier\n",
    "from sklearn.metrics import classification_report\n",
    "from sklearn.metrics import confusion_matrix"
   ],
   "metadata": {
    "id": "1ToxhqjxXU1e",
    "executionInfo": {
     "status": "ok",
     "timestamp": 1673387644024,
     "user_tz": -60,
     "elapsed": 1696,
     "user": {
      "displayName": "Alejandro Gómez",
      "userId": "01523778567682460403"
     }
    }
   }
  },
  {
   "cell_type": "markdown",
   "source": [
    "## 2. Preparación de los datos"
   ],
   "metadata": {
    "collapsed": false,
    "id": "dFQsmcbIXU1f"
   }
  },
  {
   "cell_type": "code",
   "execution_count": 25,
   "outputs": [],
   "source": [
    "X = df[['wordcount','sentimentValue']].values\n",
    "y = df['Star Rating'].values\n",
    "\n",
    "X_train, X_test, y_train, y_test = train_test_split(X, y, random_state=0)\n",
    "scaler = MinMaxScaler()\n",
    "X_train = scaler.fit_transform(X_train)\n",
    "X_test = scaler.transform(X_test)"
   ],
   "metadata": {
    "id": "7ngnjQ2eXU1f",
    "executionInfo": {
     "status": "ok",
     "timestamp": 1673387648898,
     "user_tz": -60,
     "elapsed": 335,
     "user": {
      "displayName": "Alejandro Gómez",
      "userId": "01523778567682460403"
     }
    }
   }
  },
  {
   "cell_type": "markdown",
   "source": [
    "## 3. Creación del modelo"
   ],
   "metadata": {
    "collapsed": false,
    "id": "4pdi4vFkXU1f"
   }
  },
  {
   "cell_type": "code",
   "execution_count": 26,
   "outputs": [
    {
     "name": "stdout",
     "output_type": "stream",
     "text": [
      "Accuracy of K-NN classifier on training set: 0.90\n",
      "Accuracy of K-NN classifier on test set: 0.86\n"
     ]
    }
   ],
   "source": [
    "n_neighbors = 7\n",
    "\n",
    "knn = KNeighborsClassifier(n_neighbors)\n",
    "knn.fit(X_train, y_train)\n",
    "print('Accuracy of K-NN classifier on training set: {:.2f}'.format(knn.score(X_train, y_train)))\n",
    "print('Accuracy of K-NN classifier on test set: {:.2f}'.format(knn.score(X_test, y_test)))"
   ],
   "metadata": {
    "id": "kPVPLef2XU1g",
    "outputId": "7643c2f6-de3c-4132-d96c-5640624746cb",
    "colab": {
     "base_uri": "https://localhost:8080/",
     "height": 0
    },
    "executionInfo": {
     "status": "ok",
     "timestamp": 1673387657360,
     "user_tz": -60,
     "elapsed": 272,
     "user": {
      "displayName": "Alejandro Gómez",
      "userId": "01523778567682460403"
     }
    }
   }
  },
  {
   "cell_type": "markdown",
   "source": [],
   "metadata": {
    "collapsed": false,
    "id": "WIk2FMX6XU1g"
   }
  },
  {
   "cell_type": "markdown",
   "source": [
    "## 4. Análisis de los resultados"
   ],
   "metadata": {
    "collapsed": false,
    "id": "ecEK-UGHXU1h"
   }
  },
  {
   "cell_type": "markdown",
   "source": [
    "Matriz de confusión: Matriz con los elementos y cómo se han clasificado<br/>\n",
    "    - TP(True positive): elementos clasificados bien como verdadero<br/>\n",
    "    - TN(True Negative): Elementos clasificados bien como falso<br/>\n",
    "    - FN(False Negative): Elementos clasificados mal como negativos<br/>\n",
    "    - FP(False Positive): Elementos clasificados mal como positivos<br/>\n",
    "\n",
    "    accuracy = (TP + TN) / total\n",
    "    precision = TP / (TP + FP) // Se optimiza cuando no queremos Falsos positivos\n",
    "    recall = TP / (TP + FN) // Se optimiza cuando no queremos falsos negativos"
   ],
   "metadata": {
    "id": "1NXsQYjP3Hoy"
   }
  },
  {
   "cell_type": "code",
   "execution_count": 27,
   "outputs": [
    {
     "name": "stdout",
     "output_type": "stream",
     "text": [
      "[[ 9  0  1  0  0]\n",
      " [ 0  1  0  0  0]\n",
      " [ 0  1 17  0  1]\n",
      " [ 0  0  2  8  0]\n",
      " [ 0  0  4  0 21]]\n",
      "              precision    recall  f1-score   support\n",
      "\n",
      "           1       1.00      0.90      0.95        10\n",
      "           2       0.50      1.00      0.67         1\n",
      "           3       0.71      0.89      0.79        19\n",
      "           4       1.00      0.80      0.89        10\n",
      "           5       0.95      0.84      0.89        25\n",
      "\n",
      "    accuracy                           0.86        65\n",
      "   macro avg       0.83      0.89      0.84        65\n",
      "weighted avg       0.89      0.86      0.87        65\n",
      "\n"
     ]
    }
   ],
   "source": [
    "pred = knn.predict(X_test)\n",
    "print(confusion_matrix(y_test, pred))\n",
    "print(classification_report(y_test, pred))"
   ],
   "metadata": {
    "id": "FDNI5m15XU1h",
    "outputId": "29ac3839-dad4-4759-b177-de223b4d6e2e",
    "colab": {
     "base_uri": "https://localhost:8080/",
     "height": 0
    },
    "executionInfo": {
     "status": "ok",
     "timestamp": 1673387665600,
     "user_tz": -60,
     "elapsed": 217,
     "user": {
      "displayName": "Alejandro Gómez",
      "userId": "01523778567682460403"
     }
    }
   }
  },
  {
   "cell_type": "markdown",
   "source": [
    "## 5. Gráficos de la clasificación obtenida"
   ],
   "metadata": {
    "collapsed": false,
    "id": "0nJ32u5jXU1h"
   }
  },
  {
   "cell_type": "code",
   "execution_count": 28,
   "outputs": [
    {
     "data": {
      "text/plain": "<Figure size 1152x648 with 1 Axes>",
      "image/png": "[encoded data removed]"
     },
     "metadata": {},
     "output_type": "display_data"
    }
   ],
   "source": [
    "h = .02  # step size in the mesh\n",
    "\n",
    "# Create color maps\n",
    "cmap_light = ListedColormap(['#FFAAAA', '#ffcc99', '#ffffb3','#b3ffff','#c2f0c2'])\n",
    "cmap_bold = ListedColormap(['#FF0000', '#ff9933','#FFFF00','#00ffff','#00FF00'])\n",
    "\n",
    "# we create an instance of Neighbours Classifier and fit the data.\n",
    "clf = KNeighborsClassifier(n_neighbors, weights='distance')\n",
    "clf.fit(X, y)\n",
    "\n",
    "# Plot the decision boundary. For that, we will assign a color to each\n",
    "# point in the mesh [x_min, x_max]x[y_min, y_max].\n",
    "x_min, x_max = X[:, 0].min() - 1, X[:, 0].max() + 1\n",
    "y_min, y_max = X[:, 1].min() - 1, X[:, 1].max() + 1\n",
    "xx, yy = np.meshgrid(np.arange(x_min, x_max, h),\n",
    "                     np.arange(y_min, y_max, h))\n",
    "Z = clf.predict(np.c_[xx.ravel(), yy.ravel()])\n",
    "\n",
    "# Put the result into a color plot\n",
    "Z = Z.reshape(xx.shape)\n",
    "plt.figure()\n",
    "plt.pcolormesh(xx, yy, Z, cmap=cmap_light)\n",
    "\n",
    "# Plot also the training points\n",
    "plt.scatter(X[:, 0], X[:, 1], c=y, cmap=cmap_bold,\n",
    "            edgecolor='k', s=20)\n",
    "plt.xlim(xx.min(), xx.max())\n",
    "plt.ylim(yy.min(), yy.max())\n",
    "\n",
    "patch0 = mpatches.Patch(color='#FF0000', label='1')\n",
    "patch1 = mpatches.Patch(color='#ff9933', label='2')\n",
    "patch2 = mpatches.Patch(color='#FFFF00', label='3')\n",
    "patch3 = mpatches.Patch(color='#00ffff', label='4')\n",
    "patch4 = mpatches.Patch(color='#00FF00', label='5')\n",
    "plt.legend(handles=[patch0, patch1, patch2, patch3,patch4])\n",
    "\n",
    "\n",
    "plt.title(\"5-Class classification (k = %i, weights = '%s')\"\n",
    "          % (n_neighbors, 'distance'))\n",
    "\n",
    "plt.show()\n"
   ],
   "metadata": {
    "id": "N4Os7waLXU1h",
    "outputId": "ea1263c9-bc0f-4ee5-9795-37039b58d64c",
    "colab": {
     "base_uri": "https://localhost:8080/",
     "height": 554
    },
    "executionInfo": {
     "status": "ok",
     "timestamp": 1673387682547,
     "user_tz": -60,
     "elapsed": 13286,
     "user": {
      "displayName": "Alejandro Gómez",
      "userId": "01523778567682460403"
     }
    }
   }
  },
  {
   "cell_type": "markdown",
   "source": [
    "## 6. Cálculo del mejor K"
   ],
   "metadata": {
    "collapsed": false,
    "id": "pUMmHJd8XU1i"
   }
  },
  {
   "cell_type": "code",
   "execution_count": 29,
   "outputs": [
    {
     "data": {
      "text/plain": "([<matplotlib.axis.XTick at 0x7f130dd09b80>,\n  <matplotlib.axis.XTick at 0x7f130dd09eb0>,\n  <matplotlib.axis.XTick at 0x7f130dd08ca0>,\n  <matplotlib.axis.XTick at 0x7f12d2148370>,\n  <matplotlib.axis.XTick at 0x7f12d2148af0>],\n [Text(0, 0, ''),\n  Text(0, 0, ''),\n  Text(0, 0, ''),\n  Text(0, 0, ''),\n  Text(0, 0, '')])"
     },
     "execution_count": 29,
     "metadata": {},
     "output_type": "execute_result"
    },
    {
     "data": {
      "text/plain": "<Figure size 1152x648 with 1 Axes>",
      "image/png": "[encoded data removed]"
     },
     "metadata": {},
     "output_type": "display_data"
    }
   ],
   "source": [
    "k_range = range(1, 20)\n",
    "scores = []\n",
    "for k in k_range:\n",
    "      knn = KNeighborsClassifier(n_neighbors = k)\n",
    "      knn.fit(X_train, y_train)\n",
    "      scores.append(knn.score(X_test, y_test))\n",
    "plt.figure()\n",
    "plt.xlabel('k')\n",
    "plt.ylabel('accuracy')\n",
    "plt.scatter(k_range, scores)\n",
    "plt.xticks([0,5,10,15,20])"
   ],
   "metadata": {
    "id": "nPVy7aHiXU1i",
    "outputId": "479e0e38-b8f8-471a-a655-80458aca2731",
    "colab": {
     "base_uri": "https://localhost:8080/",
     "height": 661
    },
    "executionInfo": {
     "status": "ok",
     "timestamp": 1673387697093,
     "user_tz": -60,
     "elapsed": 846,
     "user": {
      "displayName": "Alejandro Gómez",
      "userId": "01523778567682460403"
     }
    }
   }
  },
  {
   "cell_type": "markdown",
   "source": [
    "## 7. Cálculo de predicciones"
   ],
   "metadata": {
    "collapsed": false,
    "id": "XQqJ1jACXU1j"
   }
  },
  {
   "cell_type": "code",
   "execution_count": 30,
   "outputs": [
    {
     "name": "stdout",
     "output_type": "stream",
     "text": [
      "[5]\n"
     ]
    }
   ],
   "source": [
    "print(clf.predict([[5, 1.0]]))"
   ],
   "metadata": {
    "id": "R0pMq-fuXU1j",
    "outputId": "1551522a-d084-47ef-8317-adf126113fc2",
    "colab": {
     "base_uri": "https://localhost:8080/",
     "height": 0
    },
    "executionInfo": {
     "status": "ok",
     "timestamp": 1673387706265,
     "user_tz": -60,
     "elapsed": 205,
     "user": {
      "displayName": "Alejandro Gómez",
      "userId": "01523778567682460403"
     }
    }
   }
  },
  {
   "cell_type": "code",
   "execution_count": 31,
   "outputs": [
    {
     "name": "stdout",
     "output_type": "stream",
     "text": [
      "[[0.00381998 0.02520212 0.97097789 0.         0.        ]]\n"
     ]
    }
   ],
   "source": [
    "print(clf.predict_proba([[20, 0.0]]))"
   ],
   "metadata": {
    "id": "UR0_vD_lXU1j",
    "outputId": "43a99fcd-0290-4c64-c382-13cbecb6b984",
    "colab": {
     "base_uri": "https://localhost:8080/",
     "height": 0
    },
    "executionInfo": {
     "status": "ok",
     "timestamp": 1673387709939,
     "user_tz": -60,
     "elapsed": 216,
     "user": {
      "displayName": "Alejandro Gómez",
      "userId": "01523778567682460403"
     }
    }
   }
  },
  {
   "cell_type": "markdown",
   "source": [
    "## *Ejercicio Final*\n",
    "\n",
    "Toma como referencia la imagen \"films.png\" y crea un dataset que represente dichos datos. Aplica el algoritmo KNN para clasificar nuevas películas."
   ],
   "metadata": {
    "collapsed": false,
    "id": "UmRb2NW2XU1k"
   }
  },
  {
   "cell_type": "code",
   "execution_count": 40,
   "outputs": [
    {
     "data": {
      "text/plain": "   love  kiss  inspector  murderer  class\n0    10     5          2         0      1\n1     8     6          0         1      1\n2     7     4          0         0      1\n3     0     1         12        20      2\n4     1     0          8        56      2\n5     5     6          2         0      1\n6     1     0         12         4      2",
      "text/html": "<div>\n<style scoped>\n    .dataframe tbody tr th:only-of-type {\n        vertical-align: middle;\n    }\n\n    .dataframe tbody tr th {\n        vertical-align: top;\n    }\n\n    .dataframe thead th {\n        text-align: right;\n    }\n</style>\n<table border=\"1\" class=\"dataframe\">\n  <thead>\n    <tr style=\"text-align: right;\">\n      <th></th>\n      <th>love</th>\n      <th>kiss</th>\n      <th>inspector</th>\n      <th>murderer</th>\n      <th>class</th>\n    </tr>\n  </thead>\n  <tbody>\n    <tr>\n      <th>0</th>\n      <td>10</td>\n      <td>5</td>\n      <td>2</td>\n      <td>0</td>\n      <td>1</td>\n    </tr>\n    <tr>\n      <th>1</th>\n      <td>8</td>\n      <td>6</td>\n      <td>0</td>\n      <td>1</td>\n      <td>1</td>\n    </tr>\n    <tr>\n      <th>2</th>\n      <td>7</td>\n      <td>4</td>\n      <td>0</td>\n      <td>0</td>\n      <td>1</td>\n    </tr>\n    <tr>\n      <th>3</th>\n      <td>0</td>\n      <td>1</td>\n      <td>12</td>\n      <td>20</td>\n      <td>2</td>\n    </tr>\n    <tr>\n      <th>4</th>\n      <td>1</td>\n      <td>0</td>\n      <td>8</td>\n      <td>56</td>\n      <td>2</td>\n    </tr>\n    <tr>\n      <th>5</th>\n      <td>5</td>\n      <td>6</td>\n      <td>2</td>\n      <td>0</td>\n      <td>1</td>\n    </tr>\n    <tr>\n      <th>6</th>\n      <td>1</td>\n      <td>0</td>\n      <td>12</td>\n      <td>4</td>\n      <td>2</td>\n    </tr>\n  </tbody>\n</table>\n</div>"
     },
     "execution_count": 40,
     "metadata": {},
     "output_type": "execute_result"
    },
    {
     "data": {
      "text/plain": "<Figure size 1152x648 with 1 Axes>",
      "image/png": "[encoded data removed]"
     },
     "metadata": {},
     "output_type": "display_data"
    }
   ],
   "source": [
    "df_films = pd.DataFrame([[10,5,2,0,1],\n",
    "                   [8,6,0,1,1],\n",
    "                   [7,4,0,0,1],\n",
    "                   [0,1,12,20,2],\n",
    "                   [1,0,8,56,2],\n",
    "                  [5,6,2,0,1],\n",
    "                  [1,0,12,4,2]],\n",
    "                  columns=['love','kiss','inspector','murderer','class'])\n",
    "df_films.shape\n",
    "df_films.describe()\n",
    "df_films[\"class\"].hist()\n",
    "df_films"
   ],
   "metadata": {
    "id": "hZVwg3CPXU1k",
    "colab": {
     "base_uri": "https://localhost:8080/",
     "height": 789
    },
    "executionInfo": {
     "status": "ok",
     "timestamp": 1673389132224,
     "user_tz": -60,
     "elapsed": 663,
     "user": {
      "displayName": "Alejandro Gómez",
      "userId": "01523778567682460403"
     }
    },
    "outputId": "59d015d4-e9c9-4174-927c-dbda8f7e3979"
   }
  },
  {
   "cell_type": "code",
   "source": [
    "y = df_films[\"class\"]\n",
    "X = df_films.drop([\"class\"], axis = 1)\n",
    "\n",
    "X_train, X_test, y_train, y_test = train_test_split(X, y, random_state=0)\n",
    "scaler = MinMaxScaler()\n",
    "X_train = scaler.fit_transform(X_train)\n",
    "X_test = scaler.transform(X_test)"
   ],
   "metadata": {
    "id": "9E8_RNlDsOF5",
    "executionInfo": {
     "status": "ok",
     "timestamp": 1673388192726,
     "user_tz": -60,
     "elapsed": 192,
     "user": {
      "displayName": "Alejandro Gómez",
      "userId": "01523778567682460403"
     }
    }
   },
   "execution_count": 33,
   "outputs": []
  },
  {
   "cell_type": "code",
   "source": [
    "k_range = range(1, 5)\n",
    "scores = []\n",
    "for k in k_range:\n",
    "      knn = KNeighborsClassifier(n_neighbors = k)\n",
    "      knn.fit(X_train, y_train)\n",
    "      scores.append(knn.score(X_test, y_test))\n",
    "plt.figure()\n",
    "plt.xlabel('k')\n",
    "plt.ylabel('accuracy')\n",
    "plt.scatter(k_range, scores)\n",
    "plt.xticks([0,5,10,15,20])"
   ],
   "metadata": {
    "colab": {
     "base_uri": "https://localhost:8080/",
     "height": 661
    },
    "id": "nBoMNpqMtfd3",
    "executionInfo": {
     "status": "ok",
     "timestamp": 1673388331934,
     "user_tz": -60,
     "elapsed": 685,
     "user": {
      "displayName": "Alejandro Gómez",
      "userId": "01523778567682460403"
     }
    },
    "outputId": "d025d84c-b257-4aea-9fec-ac0f655aac0e"
   },
   "execution_count": 34,
   "outputs": [
    {
     "data": {
      "text/plain": "([<matplotlib.axis.XTick at 0x7f12ce4cc790>,\n  <matplotlib.axis.XTick at 0x7f12ce4cc760>,\n  <matplotlib.axis.XTick at 0x7f12ce4cc610>,\n  <matplotlib.axis.XTick at 0x7f12ce480400>,\n  <matplotlib.axis.XTick at 0x7f12ce480b50>],\n [Text(0, 0, ''),\n  Text(0, 0, ''),\n  Text(0, 0, ''),\n  Text(0, 0, ''),\n  Text(0, 0, '')])"
     },
     "execution_count": 34,
     "metadata": {},
     "output_type": "execute_result"
    },
    {
     "data": {
      "text/plain": "<Figure size 1152x648 with 1 Axes>",
      "image/png": "[encoded data removed]"
     },
     "metadata": {},
     "output_type": "display_data"
    }
   ]
  },
  {
   "cell_type": "markdown",
   "source": [
    "La mejor K nos da entre 1 y 3 los datos no son suficientes para que sea una muestra muy fiable."
   ],
   "metadata": {
    "id": "ChIwFPXHuB42"
   }
  },
  {
   "cell_type": "code",
   "source": [
    "n_neighbors = 2\n",
    "\n",
    "knn = KNeighborsClassifier(n_neighbors)\n",
    "knn.fit(X_train, y_train)\n",
    "print('Accuracy of K-NN classifier on training set: {:.2f}'.format(knn.score(X_train, y_train)))\n",
    "print('Accuracy of K-NN classifier on test set: {:.2f}'.format(knn.score(X_test, y_test)))"
   ],
   "metadata": {
    "colab": {
     "base_uri": "https://localhost:8080/",
     "height": 0
    },
    "id": "0cdKHjBSuVSJ",
    "executionInfo": {
     "status": "ok",
     "timestamp": 1673388476378,
     "user_tz": -60,
     "elapsed": 215,
     "user": {
      "displayName": "Alejandro Gómez",
      "userId": "01523778567682460403"
     }
    },
    "outputId": "7260ff6f-7ad6-49ae-9dab-0baedb1f3591"
   },
   "execution_count": 35,
   "outputs": [
    {
     "name": "stdout",
     "output_type": "stream",
     "text": [
      "Accuracy of K-NN classifier on training set: 1.00\n",
      "Accuracy of K-NN classifier on test set: 1.00\n"
     ]
    }
   ]
  },
  {
   "cell_type": "code",
   "source": [
    "print(knn.predict([[12, 1, 2,3]]))"
   ],
   "metadata": {
    "colab": {
     "base_uri": "https://localhost:8080/",
     "height": 0
    },
    "id": "2NMNaV0Ev5b-",
    "executionInfo": {
     "status": "ok",
     "timestamp": 1673388909553,
     "user_tz": -60,
     "elapsed": 205,
     "user": {
      "displayName": "Alejandro Gómez",
      "userId": "01523778567682460403"
     }
    },
    "outputId": "eb6446b0-9b59-470d-e72f-c784efd98ce5"
   },
   "execution_count": 36,
   "outputs": [
    {
     "name": "stdout",
     "output_type": "stream",
     "text": [
      "[1]\n"
     ]
    }
   ]
  },
  {
   "cell_type": "code",
   "source": [
    "print(clf.predict_proba([[20, 0.0]]))"
   ],
   "metadata": {
    "colab": {
     "base_uri": "https://localhost:8080/",
     "height": 0
    },
    "id": "uFjzJCZOwjah",
    "executionInfo": {
     "status": "ok",
     "timestamp": 1673389057755,
     "user_tz": -60,
     "elapsed": 4,
     "user": {
      "displayName": "Alejandro Gómez",
      "userId": "01523778567682460403"
     }
    },
    "outputId": "929d0521-5db8-47ec-a930-039d14e0d46e"
   },
   "execution_count": 39,
   "outputs": [
    {
     "name": "stdout",
     "output_type": "stream",
     "text": [
      "[[0.00381998 0.02520212 0.97097789 0.         0.        ]]\n"
     ]
    }
   ]
  },
  {
   "cell_type": "markdown",
   "source": [],
   "metadata": {
    "id": "NTusCiolwidw"
   }
  },
  {
   "cell_type": "markdown",
   "source": [
    "# Webgrafia\n",
    "\n",
    "[Wikipedia](https://en.wikipedia.org/wiki/K-nearest_neighbors_algorithm)\n",
    "[Libro \"Hands on Machine Learning with ScikitLearn, Keras y TensorFlow\" de Aurelien Geron y su repositorio de ejemplos ](https://github.com/ageron/handson-ml)\n",
    "[Aprende ML de Juan Ignacio Bagnato](https://www.aprendemachinelearning.com/clasificar-con-k-nearest-neighbor-ejemplo-en-python/)\n",
    "[Curso de Tirtjakupto Sarkar](https://github.com/tirthajyoti/Machine-Learning-with-Python)\n",
    "[DataCamp](https://www.datacamp.com/)\n"
   ],
   "metadata": {
    "collapsed": false,
    "id": "fBpsjD1TXU1k"
   }
  },
  {
   "cell_type": "markdown",
   "source": [
    "# Licencia\n",
    "\n",
    "[Attributon-ShacerAlike 4.0 International](https://creativecommons.org/licenses/by-sa/4.0/)\n",
    "\n",
    "Puedes utilizar libremente este material, con las siguientes condiciones:\n",
    "\n",
    "* Atribuir la autoría a este documento.\n",
    "* Si lo utilizas y haces cambios, deberás liberarlo también bajo la misma licencia."
   ],
   "metadata": {
    "collapsed": false,
    "id": "kJvOXWs-XU1k"
   }
  }
 ],
 "metadata": {
  "kernelspec": {
   "name": "python3",
   "language": "python",
   "display_name": "Python 3"
  },
  "language_info": {
   "codemirror_mode": {
    "name": "ipython",
    "version": 3
   },
   "file_extension": ".py",
   "mimetype": "text/x-python",
   "name": "python",
   "nbconvert_exporter": "python",
   "pygments_lexer": "ipython3",
   "version": "3.7.3"
  },
  "colab": {
   "provenance": []
  }
 },
 "nbformat": 4,
 "nbformat_minor": 0
}
