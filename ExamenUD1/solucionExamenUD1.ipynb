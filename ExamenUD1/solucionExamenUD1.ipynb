{
 "cells": [
  {
   "cell_type": "markdown",
   "metadata": {
    "collapsed": true
   },
   "source": [
    "# Solución Examen UD1 - Parte 2"
   ]
  },
  {
   "cell_type": "markdown",
   "source": [
    "Si tenemos un dataframe df con columnas age, salary, sex y queremos:\n",
    "\n",
    "1. Mostrar aquellos individuos menores de 30 años o con salario igual o superior a 25000 euros,\n",
    "\n",
    "2. Añadir una nueva columna numérica al dataframe llamada salary_irpf que se corresponda con el 20% de su sueldo, entonces escribiremos:\n",
    "\n",
    "\n",
    "3. Si tenemos un dataframe df con columnas age, salary, sex y queremos saber cuél es la media de edad de nuestros individuos, entonces escribiremos:\n",
    "\n",
    "\n",
    "4. Si tenemos un dataframe df con columnas age, salary, sex y queremos borrar del mismo la columna sex, entonces escribiremos:\n",
    "\n",
    "\n",
    "5. Si tenemos un dataframe df con columnas age, salary, sex y queremos conocer el salario máximo por sexo, entonces escribiremos:\n",
    "\n",
    "\n",
    "6. Si tenemos un dataframe df con columnas age, salary, sex y queremos recuperar las 3 primeras filas y las 3 últimas de la columna salary en una única instrucción, entonces escribiremos:\n",
    "\n",
    "7. Si tenemos un dataframe df con columnas age, salary, sex y queremos añadir borrar todas las filas que tengan valores nulos en la columna salary, entonces escribiremos:\n",
    "\n",
    "\n"
   ],
   "metadata": {
    "collapsed": false
   }
  },
  {
   "cell_type": "code",
   "execution_count": 39,
   "outputs": [
    {
     "data": {
      "text/plain": "   age  salary     sex\n0   58   36000    male\n1   23   18000  female\n2   31   23000  female\n3   28   40000  female\n4   46   50000    male\n5   18   15000    male\n6   38   38000  female\n7   40   29000    male",
      "text/html": "<div>\n<style scoped>\n    .dataframe tbody tr th:only-of-type {\n        vertical-align: middle;\n    }\n\n    .dataframe tbody tr th {\n        vertical-align: top;\n    }\n\n    .dataframe thead th {\n        text-align: right;\n    }\n</style>\n<table border=\"1\" class=\"dataframe\">\n  <thead>\n    <tr style=\"text-align: right;\">\n      <th></th>\n      <th>age</th>\n      <th>salary</th>\n      <th>sex</th>\n    </tr>\n  </thead>\n  <tbody>\n    <tr>\n      <th>0</th>\n      <td>58</td>\n      <td>36000</td>\n      <td>male</td>\n    </tr>\n    <tr>\n      <th>1</th>\n      <td>23</td>\n      <td>18000</td>\n      <td>female</td>\n    </tr>\n    <tr>\n      <th>2</th>\n      <td>31</td>\n      <td>23000</td>\n      <td>female</td>\n    </tr>\n    <tr>\n      <th>3</th>\n      <td>28</td>\n      <td>40000</td>\n      <td>female</td>\n    </tr>\n    <tr>\n      <th>4</th>\n      <td>46</td>\n      <td>50000</td>\n      <td>male</td>\n    </tr>\n    <tr>\n      <th>5</th>\n      <td>18</td>\n      <td>15000</td>\n      <td>male</td>\n    </tr>\n    <tr>\n      <th>6</th>\n      <td>38</td>\n      <td>38000</td>\n      <td>female</td>\n    </tr>\n    <tr>\n      <th>7</th>\n      <td>40</td>\n      <td>29000</td>\n      <td>male</td>\n    </tr>\n  </tbody>\n</table>\n</div>"
     },
     "execution_count": 39,
     "metadata": {},
     "output_type": "execute_result"
    }
   ],
   "source": [
    "import pandas as pd\n",
    "\n",
    "df_work_data=pd.read_csv(\"data/demo-examen-parte2.csv\")\n",
    "df_work_data.head(10)"
   ],
   "metadata": {
    "collapsed": false
   }
  },
  {
   "cell_type": "code",
   "execution_count": 40,
   "outputs": [
    {
     "data": {
      "text/plain": "   age  salary     sex\n3   28   40000  female",
      "text/html": "<div>\n<style scoped>\n    .dataframe tbody tr th:only-of-type {\n        vertical-align: middle;\n    }\n\n    .dataframe tbody tr th {\n        vertical-align: top;\n    }\n\n    .dataframe thead th {\n        text-align: right;\n    }\n</style>\n<table border=\"1\" class=\"dataframe\">\n  <thead>\n    <tr style=\"text-align: right;\">\n      <th></th>\n      <th>age</th>\n      <th>salary</th>\n      <th>sex</th>\n    </tr>\n  </thead>\n  <tbody>\n    <tr>\n      <th>3</th>\n      <td>28</td>\n      <td>40000</td>\n      <td>female</td>\n    </tr>\n  </tbody>\n</table>\n</div>"
     },
     "execution_count": 40,
     "metadata": {},
     "output_type": "execute_result"
    }
   ],
   "source": [
    "df_work_data[(df_work_data.salary >=25000) & (df_work_data.age <30)]"
   ],
   "metadata": {
    "collapsed": false
   }
  },
  {
   "cell_type": "code",
   "execution_count": 41,
   "outputs": [],
   "source": [
    "#Aquí le ponemos la nueva columna (salary_irpf) añadiendole el 20% del valor del salario\n",
    "df_work_data = df_work_data.assign(salary_irpf = lambda x: (x['salary'] * 0.20))"
   ],
   "metadata": {
    "collapsed": false
   }
  },
  {
   "cell_type": "code",
   "execution_count": 42,
   "outputs": [
    {
     "data": {
      "text/plain": "   age  salary     sex  salary_irpf\n0   58   36000    male       7200.0\n1   23   18000  female       3600.0\n2   31   23000  female       4600.0\n3   28   40000  female       8000.0\n4   46   50000    male      10000.0\n5   18   15000    male       3000.0\n6   38   38000  female       7600.0\n7   40   29000    male       5800.0",
      "text/html": "<div>\n<style scoped>\n    .dataframe tbody tr th:only-of-type {\n        vertical-align: middle;\n    }\n\n    .dataframe tbody tr th {\n        vertical-align: top;\n    }\n\n    .dataframe thead th {\n        text-align: right;\n    }\n</style>\n<table border=\"1\" class=\"dataframe\">\n  <thead>\n    <tr style=\"text-align: right;\">\n      <th></th>\n      <th>age</th>\n      <th>salary</th>\n      <th>sex</th>\n      <th>salary_irpf</th>\n    </tr>\n  </thead>\n  <tbody>\n    <tr>\n      <th>0</th>\n      <td>58</td>\n      <td>36000</td>\n      <td>male</td>\n      <td>7200.0</td>\n    </tr>\n    <tr>\n      <th>1</th>\n      <td>23</td>\n      <td>18000</td>\n      <td>female</td>\n      <td>3600.0</td>\n    </tr>\n    <tr>\n      <th>2</th>\n      <td>31</td>\n      <td>23000</td>\n      <td>female</td>\n      <td>4600.0</td>\n    </tr>\n    <tr>\n      <th>3</th>\n      <td>28</td>\n      <td>40000</td>\n      <td>female</td>\n      <td>8000.0</td>\n    </tr>\n    <tr>\n      <th>4</th>\n      <td>46</td>\n      <td>50000</td>\n      <td>male</td>\n      <td>10000.0</td>\n    </tr>\n    <tr>\n      <th>5</th>\n      <td>18</td>\n      <td>15000</td>\n      <td>male</td>\n      <td>3000.0</td>\n    </tr>\n    <tr>\n      <th>6</th>\n      <td>38</td>\n      <td>38000</td>\n      <td>female</td>\n      <td>7600.0</td>\n    </tr>\n    <tr>\n      <th>7</th>\n      <td>40</td>\n      <td>29000</td>\n      <td>male</td>\n      <td>5800.0</td>\n    </tr>\n  </tbody>\n</table>\n</div>"
     },
     "execution_count": 42,
     "metadata": {},
     "output_type": "execute_result"
    }
   ],
   "source": [
    "df_work_data"
   ],
   "metadata": {
    "collapsed": false
   }
  },
  {
   "cell_type": "code",
   "execution_count": 43,
   "outputs": [
    {
     "data": {
      "text/plain": "35.25"
     },
     "execution_count": 43,
     "metadata": {},
     "output_type": "execute_result"
    }
   ],
   "source": [
    "df_work_data['age'].mean()"
   ],
   "metadata": {
    "collapsed": false
   }
  },
  {
   "cell_type": "code",
   "execution_count": 44,
   "outputs": [
    {
     "data": {
      "text/plain": "   age  salary  salary_irpf\n0   58   36000       7200.0\n1   23   18000       3600.0\n2   31   23000       4600.0\n3   28   40000       8000.0\n4   46   50000      10000.0\n5   18   15000       3000.0\n6   38   38000       7600.0\n7   40   29000       5800.0",
      "text/html": "<div>\n<style scoped>\n    .dataframe tbody tr th:only-of-type {\n        vertical-align: middle;\n    }\n\n    .dataframe tbody tr th {\n        vertical-align: top;\n    }\n\n    .dataframe thead th {\n        text-align: right;\n    }\n</style>\n<table border=\"1\" class=\"dataframe\">\n  <thead>\n    <tr style=\"text-align: right;\">\n      <th></th>\n      <th>age</th>\n      <th>salary</th>\n      <th>salary_irpf</th>\n    </tr>\n  </thead>\n  <tbody>\n    <tr>\n      <th>0</th>\n      <td>58</td>\n      <td>36000</td>\n      <td>7200.0</td>\n    </tr>\n    <tr>\n      <th>1</th>\n      <td>23</td>\n      <td>18000</td>\n      <td>3600.0</td>\n    </tr>\n    <tr>\n      <th>2</th>\n      <td>31</td>\n      <td>23000</td>\n      <td>4600.0</td>\n    </tr>\n    <tr>\n      <th>3</th>\n      <td>28</td>\n      <td>40000</td>\n      <td>8000.0</td>\n    </tr>\n    <tr>\n      <th>4</th>\n      <td>46</td>\n      <td>50000</td>\n      <td>10000.0</td>\n    </tr>\n    <tr>\n      <th>5</th>\n      <td>18</td>\n      <td>15000</td>\n      <td>3000.0</td>\n    </tr>\n    <tr>\n      <th>6</th>\n      <td>38</td>\n      <td>38000</td>\n      <td>7600.0</td>\n    </tr>\n    <tr>\n      <th>7</th>\n      <td>40</td>\n      <td>29000</td>\n      <td>5800.0</td>\n    </tr>\n  </tbody>\n</table>\n</div>"
     },
     "execution_count": 44,
     "metadata": {},
     "output_type": "execute_result"
    }
   ],
   "source": [
    "df_work_data.drop(columns=\"sex\",axis=1)"
   ],
   "metadata": {
    "collapsed": false
   }
  },
  {
   "cell_type": "code",
   "execution_count": 45,
   "outputs": [
    {
     "data": {
      "text/plain": "         age   salary  salary_irpf\nsex                               \nfemale  30.0  29750.0       5950.0\nmale    40.5  32500.0       6500.0",
      "text/html": "<div>\n<style scoped>\n    .dataframe tbody tr th:only-of-type {\n        vertical-align: middle;\n    }\n\n    .dataframe tbody tr th {\n        vertical-align: top;\n    }\n\n    .dataframe thead th {\n        text-align: right;\n    }\n</style>\n<table border=\"1\" class=\"dataframe\">\n  <thead>\n    <tr style=\"text-align: right;\">\n      <th></th>\n      <th>age</th>\n      <th>salary</th>\n      <th>salary_irpf</th>\n    </tr>\n    <tr>\n      <th>sex</th>\n      <th></th>\n      <th></th>\n      <th></th>\n    </tr>\n  </thead>\n  <tbody>\n    <tr>\n      <th>female</th>\n      <td>30.0</td>\n      <td>29750.0</td>\n      <td>5950.0</td>\n    </tr>\n    <tr>\n      <th>male</th>\n      <td>40.5</td>\n      <td>32500.0</td>\n      <td>6500.0</td>\n    </tr>\n  </tbody>\n</table>\n</div>"
     },
     "execution_count": 45,
     "metadata": {},
     "output_type": "execute_result"
    }
   ],
   "source": [
    "df_work_data.groupby('sex').mean()"
   ],
   "metadata": {
    "collapsed": false
   }
  },
  {
   "cell_type": "code",
   "execution_count": 46,
   "outputs": [],
   "source": [
    "df_concatenado = pd.concat([df_work_data.head(3), df_work_data.tail(3)])"
   ],
   "metadata": {
    "collapsed": false
   }
  },
  {
   "cell_type": "code",
   "execution_count": 47,
   "outputs": [
    {
     "data": {
      "text/plain": "   age  salary     sex  salary_irpf\n0   58   36000    male       7200.0\n1   23   18000  female       3600.0\n2   31   23000  female       4600.0\n5   18   15000    male       3000.0\n6   38   38000  female       7600.0\n7   40   29000    male       5800.0",
      "text/html": "<div>\n<style scoped>\n    .dataframe tbody tr th:only-of-type {\n        vertical-align: middle;\n    }\n\n    .dataframe tbody tr th {\n        vertical-align: top;\n    }\n\n    .dataframe thead th {\n        text-align: right;\n    }\n</style>\n<table border=\"1\" class=\"dataframe\">\n  <thead>\n    <tr style=\"text-align: right;\">\n      <th></th>\n      <th>age</th>\n      <th>salary</th>\n      <th>sex</th>\n      <th>salary_irpf</th>\n    </tr>\n  </thead>\n  <tbody>\n    <tr>\n      <th>0</th>\n      <td>58</td>\n      <td>36000</td>\n      <td>male</td>\n      <td>7200.0</td>\n    </tr>\n    <tr>\n      <th>1</th>\n      <td>23</td>\n      <td>18000</td>\n      <td>female</td>\n      <td>3600.0</td>\n    </tr>\n    <tr>\n      <th>2</th>\n      <td>31</td>\n      <td>23000</td>\n      <td>female</td>\n      <td>4600.0</td>\n    </tr>\n    <tr>\n      <th>5</th>\n      <td>18</td>\n      <td>15000</td>\n      <td>male</td>\n      <td>3000.0</td>\n    </tr>\n    <tr>\n      <th>6</th>\n      <td>38</td>\n      <td>38000</td>\n      <td>female</td>\n      <td>7600.0</td>\n    </tr>\n    <tr>\n      <th>7</th>\n      <td>40</td>\n      <td>29000</td>\n      <td>male</td>\n      <td>5800.0</td>\n    </tr>\n  </tbody>\n</table>\n</div>"
     },
     "execution_count": 47,
     "metadata": {},
     "output_type": "execute_result"
    }
   ],
   "source": [
    "df_concatenado"
   ],
   "metadata": {
    "collapsed": false
   }
  },
  {
   "cell_type": "code",
   "execution_count": 48,
   "outputs": [
    {
     "data": {
      "text/plain": "   age  salary     sex  salary_irpf\n0   58   36000    male       7200.0\n1   23   18000  female       3600.0\n2   31   23000  female       4600.0\n3   28   40000  female       8000.0\n4   46   50000    male      10000.0\n5   18   15000    male       3000.0\n6   38   38000  female       7600.0\n7   40   29000    male       5800.0",
      "text/html": "<div>\n<style scoped>\n    .dataframe tbody tr th:only-of-type {\n        vertical-align: middle;\n    }\n\n    .dataframe tbody tr th {\n        vertical-align: top;\n    }\n\n    .dataframe thead th {\n        text-align: right;\n    }\n</style>\n<table border=\"1\" class=\"dataframe\">\n  <thead>\n    <tr style=\"text-align: right;\">\n      <th></th>\n      <th>age</th>\n      <th>salary</th>\n      <th>sex</th>\n      <th>salary_irpf</th>\n    </tr>\n  </thead>\n  <tbody>\n    <tr>\n      <th>0</th>\n      <td>58</td>\n      <td>36000</td>\n      <td>male</td>\n      <td>7200.0</td>\n    </tr>\n    <tr>\n      <th>1</th>\n      <td>23</td>\n      <td>18000</td>\n      <td>female</td>\n      <td>3600.0</td>\n    </tr>\n    <tr>\n      <th>2</th>\n      <td>31</td>\n      <td>23000</td>\n      <td>female</td>\n      <td>4600.0</td>\n    </tr>\n    <tr>\n      <th>3</th>\n      <td>28</td>\n      <td>40000</td>\n      <td>female</td>\n      <td>8000.0</td>\n    </tr>\n    <tr>\n      <th>4</th>\n      <td>46</td>\n      <td>50000</td>\n      <td>male</td>\n      <td>10000.0</td>\n    </tr>\n    <tr>\n      <th>5</th>\n      <td>18</td>\n      <td>15000</td>\n      <td>male</td>\n      <td>3000.0</td>\n    </tr>\n    <tr>\n      <th>6</th>\n      <td>38</td>\n      <td>38000</td>\n      <td>female</td>\n      <td>7600.0</td>\n    </tr>\n    <tr>\n      <th>7</th>\n      <td>40</td>\n      <td>29000</td>\n      <td>male</td>\n      <td>5800.0</td>\n    </tr>\n  </tbody>\n</table>\n</div>"
     },
     "execution_count": 48,
     "metadata": {},
     "output_type": "execute_result"
    }
   ],
   "source": [
    "df_work_data.dropna(subset=\"salary\")"
   ],
   "metadata": {
    "collapsed": false
   }
  }
 ],
 "metadata": {
  "kernelspec": {
   "display_name": "Python 3",
   "language": "python",
   "name": "python3"
  },
  "language_info": {
   "codemirror_mode": {
    "name": "ipython",
    "version": 2
   },
   "file_extension": ".py",
   "mimetype": "text/x-python",
   "name": "python",
   "nbconvert_exporter": "python",
   "pygments_lexer": "ipython2",
   "version": "2.7.6"
  }
 },
 "nbformat": 4,
 "nbformat_minor": 0
}
